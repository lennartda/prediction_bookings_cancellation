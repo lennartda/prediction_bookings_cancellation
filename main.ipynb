{
 "cells": [
  {
   "cell_type": "markdown",
   "metadata": {},
   "source": [
    "\n",
    "# Business Cases with Data Science \n",
    "\n",
    "## Case 3: Prediction of Bookings Cancellation\n",
    "\n",
    "#### Semester: Spring 2020\n",
    "#### Group (Palm & Company) Member:\n",
    "1. Pedro Santos (M20190420)\n",
    "2. Ana Claudia Alferes (M20190932)\n",
    "3. Lennart Dangers (M20190251)\n",
    "4. Michael Machatschek (M20190054)\n",
    "\n",
    "#### This project follows the CRISP-DM Process:\n",
    "\n",
    "1. Business Understanding\n",
    "2. Data Understanding\n",
    "3. Data Preparation\n",
    "4. Modelling\n",
    "5. Evaluation\n",
    "6. Deployment\n",
    "\n",
    "This jupypter-notebook provides the code in python to do a customer segmentation of a given dataset. A more detailed description of this project and the solutions can be found in the report. "
   ]
  },
  {
   "cell_type": "markdown",
   "metadata": {},
   "source": [
    "# Step 1: Business Understanding\n",
    "\n",
    "Please consult our report for further details. "
   ]
  },
  {
   "cell_type": "markdown",
   "metadata": {},
   "source": [
    "# Step 2: Data Understanding\n",
    "\n",
    "## Dataset Description\n",
    "\n",
    "A data dictionary is available in the appendix of our report.\n",
    " \n",
    " \n",
    " \n",
    " #### The following code will help to explore and understand the entire dataset. "
   ]
  },
  {
   "cell_type": "code",
   "execution_count": 2,
   "metadata": {
    "ExecuteTime": {
     "end_time": "2020-04-06T08:33:38.682602Z",
     "start_time": "2020-04-06T08:33:21.352781Z"
    }
   },
   "outputs": [],
   "source": [
    "import numpy as np\n",
    "import pandas as pd\n",
    "import matplotlib.pyplot as plt\n",
    "import seaborn as sns\n",
    "import category_encoders as ce\n",
    "import collections\n",
    "from sklearn import preprocessing\n",
    "from sklearn.preprocessing import MinMaxScaler\n"
   ]
  },
  {
   "cell_type": "code",
   "execution_count": 3,
   "metadata": {
    "ExecuteTime": {
     "end_time": "2020-04-06T08:33:40.648160Z",
     "start_time": "2020-04-06T08:33:38.740728Z"
    }
   },
   "outputs": [],
   "source": [
    "df = pd.read_csv(\"data.csv\")"
   ]
  },
  {
   "cell_type": "code",
   "execution_count": 4,
   "metadata": {
    "ExecuteTime": {
     "end_time": "2020-04-06T08:33:47.731567Z",
     "start_time": "2020-04-06T08:33:47.615135Z"
    }
   },
   "outputs": [
    {
     "data": {
      "text/html": [
       "<div>\n",
       "<style scoped>\n",
       "    .dataframe tbody tr th:only-of-type {\n",
       "        vertical-align: middle;\n",
       "    }\n",
       "\n",
       "    .dataframe tbody tr th {\n",
       "        vertical-align: top;\n",
       "    }\n",
       "\n",
       "    .dataframe thead th {\n",
       "        text-align: right;\n",
       "    }\n",
       "</style>\n",
       "<table border=\"1\" class=\"dataframe\">\n",
       "  <thead>\n",
       "    <tr style=\"text-align: right;\">\n",
       "      <th></th>\n",
       "      <th>IsCanceled</th>\n",
       "      <th>LeadTime</th>\n",
       "      <th>ArrivalDateYear</th>\n",
       "      <th>ArrivalDateMonth</th>\n",
       "      <th>ArrivalDateWeekNumber</th>\n",
       "      <th>ArrivalDateDayOfMonth</th>\n",
       "      <th>StaysInWeekendNights</th>\n",
       "      <th>StaysInWeekNights</th>\n",
       "      <th>Adults</th>\n",
       "      <th>Children</th>\n",
       "      <th>...</th>\n",
       "      <th>DepositType</th>\n",
       "      <th>Agent</th>\n",
       "      <th>Company</th>\n",
       "      <th>DaysInWaitingList</th>\n",
       "      <th>CustomerType</th>\n",
       "      <th>ADR</th>\n",
       "      <th>RequiredCarParkingSpaces</th>\n",
       "      <th>TotalOfSpecialRequests</th>\n",
       "      <th>ReservationStatus</th>\n",
       "      <th>ReservationStatusDate</th>\n",
       "    </tr>\n",
       "  </thead>\n",
       "  <tbody>\n",
       "    <tr>\n",
       "      <td>0</td>\n",
       "      <td>0</td>\n",
       "      <td>6</td>\n",
       "      <td>2015</td>\n",
       "      <td>July</td>\n",
       "      <td>27</td>\n",
       "      <td>1</td>\n",
       "      <td>0</td>\n",
       "      <td>2</td>\n",
       "      <td>1</td>\n",
       "      <td>0.0</td>\n",
       "      <td>...</td>\n",
       "      <td>No Deposit</td>\n",
       "      <td>6</td>\n",
       "      <td>NULL</td>\n",
       "      <td>0</td>\n",
       "      <td>Transient</td>\n",
       "      <td>0.0</td>\n",
       "      <td>0</td>\n",
       "      <td>0</td>\n",
       "      <td>Check-Out</td>\n",
       "      <td>2015-07-03</td>\n",
       "    </tr>\n",
       "    <tr>\n",
       "      <td>1</td>\n",
       "      <td>1</td>\n",
       "      <td>88</td>\n",
       "      <td>2015</td>\n",
       "      <td>July</td>\n",
       "      <td>27</td>\n",
       "      <td>1</td>\n",
       "      <td>0</td>\n",
       "      <td>4</td>\n",
       "      <td>2</td>\n",
       "      <td>0.0</td>\n",
       "      <td>...</td>\n",
       "      <td>No Deposit</td>\n",
       "      <td>9</td>\n",
       "      <td>NULL</td>\n",
       "      <td>0</td>\n",
       "      <td>Transient</td>\n",
       "      <td>76.5</td>\n",
       "      <td>0</td>\n",
       "      <td>1</td>\n",
       "      <td>Canceled</td>\n",
       "      <td>2015-07-01</td>\n",
       "    </tr>\n",
       "    <tr>\n",
       "      <td>2</td>\n",
       "      <td>1</td>\n",
       "      <td>65</td>\n",
       "      <td>2015</td>\n",
       "      <td>July</td>\n",
       "      <td>27</td>\n",
       "      <td>1</td>\n",
       "      <td>0</td>\n",
       "      <td>4</td>\n",
       "      <td>1</td>\n",
       "      <td>0.0</td>\n",
       "      <td>...</td>\n",
       "      <td>No Deposit</td>\n",
       "      <td>9</td>\n",
       "      <td>NULL</td>\n",
       "      <td>0</td>\n",
       "      <td>Transient</td>\n",
       "      <td>68.0</td>\n",
       "      <td>0</td>\n",
       "      <td>1</td>\n",
       "      <td>Canceled</td>\n",
       "      <td>2015-04-30</td>\n",
       "    </tr>\n",
       "    <tr>\n",
       "      <td>3</td>\n",
       "      <td>1</td>\n",
       "      <td>92</td>\n",
       "      <td>2015</td>\n",
       "      <td>July</td>\n",
       "      <td>27</td>\n",
       "      <td>1</td>\n",
       "      <td>2</td>\n",
       "      <td>4</td>\n",
       "      <td>2</td>\n",
       "      <td>0.0</td>\n",
       "      <td>...</td>\n",
       "      <td>No Deposit</td>\n",
       "      <td>9</td>\n",
       "      <td>NULL</td>\n",
       "      <td>0</td>\n",
       "      <td>Transient</td>\n",
       "      <td>76.5</td>\n",
       "      <td>0</td>\n",
       "      <td>2</td>\n",
       "      <td>Canceled</td>\n",
       "      <td>2015-06-23</td>\n",
       "    </tr>\n",
       "    <tr>\n",
       "      <td>4</td>\n",
       "      <td>1</td>\n",
       "      <td>100</td>\n",
       "      <td>2015</td>\n",
       "      <td>July</td>\n",
       "      <td>27</td>\n",
       "      <td>2</td>\n",
       "      <td>0</td>\n",
       "      <td>2</td>\n",
       "      <td>2</td>\n",
       "      <td>0.0</td>\n",
       "      <td>...</td>\n",
       "      <td>No Deposit</td>\n",
       "      <td>9</td>\n",
       "      <td>NULL</td>\n",
       "      <td>0</td>\n",
       "      <td>Transient</td>\n",
       "      <td>76.5</td>\n",
       "      <td>0</td>\n",
       "      <td>1</td>\n",
       "      <td>Canceled</td>\n",
       "      <td>2015-04-02</td>\n",
       "    </tr>\n",
       "  </tbody>\n",
       "</table>\n",
       "<p>5 rows × 31 columns</p>\n",
       "</div>"
      ],
      "text/plain": [
       "   IsCanceled  LeadTime  ArrivalDateYear ArrivalDateMonth  \\\n",
       "0           0         6             2015             July   \n",
       "1           1        88             2015             July   \n",
       "2           1        65             2015             July   \n",
       "3           1        92             2015             July   \n",
       "4           1       100             2015             July   \n",
       "\n",
       "   ArrivalDateWeekNumber  ArrivalDateDayOfMonth  StaysInWeekendNights  \\\n",
       "0                     27                      1                     0   \n",
       "1                     27                      1                     0   \n",
       "2                     27                      1                     0   \n",
       "3                     27                      1                     2   \n",
       "4                     27                      2                     0   \n",
       "\n",
       "   StaysInWeekNights  Adults  Children  ...      DepositType        Agent  \\\n",
       "0                  2       1       0.0  ...  No Deposit                 6   \n",
       "1                  4       2       0.0  ...  No Deposit                 9   \n",
       "2                  4       1       0.0  ...  No Deposit                 9   \n",
       "3                  4       2       0.0  ...  No Deposit                 9   \n",
       "4                  2       2       0.0  ...  No Deposit                 9   \n",
       "\n",
       "       Company DaysInWaitingList CustomerType   ADR  RequiredCarParkingSpaces  \\\n",
       "0         NULL                 0    Transient   0.0                         0   \n",
       "1         NULL                 0    Transient  76.5                         0   \n",
       "2         NULL                 0    Transient  68.0                         0   \n",
       "3         NULL                 0    Transient  76.5                         0   \n",
       "4         NULL                 0    Transient  76.5                         0   \n",
       "\n",
       "   TotalOfSpecialRequests ReservationStatus ReservationStatusDate  \n",
       "0                       0         Check-Out            2015-07-03  \n",
       "1                       1          Canceled            2015-07-01  \n",
       "2                       1          Canceled            2015-04-30  \n",
       "3                       2          Canceled            2015-06-23  \n",
       "4                       1          Canceled            2015-04-02  \n",
       "\n",
       "[5 rows x 31 columns]"
      ]
     },
     "execution_count": 4,
     "metadata": {},
     "output_type": "execute_result"
    }
   ],
   "source": [
    "df.head()"
   ]
  },
  {
   "cell_type": "code",
   "execution_count": 7,
   "metadata": {
    "ExecuteTime": {
     "end_time": "2020-04-06T08:35:32.982377Z",
     "start_time": "2020-04-06T08:35:32.962402Z"
    }
   },
   "outputs": [
    {
     "data": {
      "text/plain": [
       "array(['IsCanceled', 'LeadTime', 'ArrivalDateYear', 'ArrivalDateMonth',\n",
       "       'ArrivalDateWeekNumber', 'ArrivalDateDayOfMonth',\n",
       "       'StaysInWeekendNights', 'StaysInWeekNights', 'Adults', 'Children',\n",
       "       'Babies', 'Meal', 'Country', 'MarketSegment',\n",
       "       'DistributionChannel', 'IsRepeatedGuest', 'PreviousCancellations',\n",
       "       'PreviousBookingsNotCanceled', 'ReservedRoomType',\n",
       "       'AssignedRoomType', 'BookingChanges', 'DepositType', 'Agent',\n",
       "       'Company', 'DaysInWaitingList', 'CustomerType', 'ADR',\n",
       "       'RequiredCarParkingSpaces', 'TotalOfSpecialRequests',\n",
       "       'ReservationStatus', 'ReservationStatusDate'], dtype=object)"
      ]
     },
     "execution_count": 7,
     "metadata": {},
     "output_type": "execute_result"
    }
   ],
   "source": [
    "df.columns.values"
   ]
  },
  {
   "cell_type": "code",
   "execution_count": 27,
   "metadata": {
    "ExecuteTime": {
     "end_time": "2020-04-06T09:06:01.298512Z",
     "start_time": "2020-04-06T09:06:01.274545Z"
    }
   },
   "outputs": [],
   "source": [
    "non_numerical_var = [\"Agent\", \"ArrivalDateMonth\",\n",
    "                    \"ArrivalDateWeekNumber\", \"ArrivalDateDayOfMonth\",\"ArrivalDateYear\",\"AssignedRoomType\",\n",
    "                     \"Company\", \"Country\", \"CustomerType\",\"DepositType\",\n",
    "                     \"DistributionChannel\", \"IsCanceled\", \"IsRepeatedGuest\", \"MarketSegment\",\n",
    "                     \"Meal\", \"RequiredCarParkingSpaces\", \"ReservationStatus\",\n",
    "                     \"ReservationStatusDate\", \"ReservedRoomType\"]\n",
    "numerical_var = list(set(df.columns.values) - set(non_numerical_var))"
   ]
  },
  {
   "cell_type": "code",
   "execution_count": 15,
   "metadata": {
    "ExecuteTime": {
     "end_time": "2020-04-06T08:48:01.703117Z",
     "start_time": "2020-04-06T08:48:01.324310Z"
    }
   },
   "outputs": [
    {
     "name": "stdout",
     "output_type": "stream",
     "text": [
      "<class 'pandas.core.frame.DataFrame'>\n",
      "RangeIndex: 79330 entries, 0 to 79329\n",
      "Data columns (total 31 columns):\n",
      "IsCanceled                     79330 non-null int64\n",
      "LeadTime                       79330 non-null int64\n",
      "ArrivalDateYear                79330 non-null int64\n",
      "ArrivalDateMonth               79330 non-null object\n",
      "ArrivalDateWeekNumber          79330 non-null int64\n",
      "ArrivalDateDayOfMonth          79330 non-null int64\n",
      "StaysInWeekendNights           79330 non-null int64\n",
      "StaysInWeekNights              79330 non-null int64\n",
      "Adults                         79330 non-null int64\n",
      "Children                       79326 non-null float64\n",
      "Babies                         79330 non-null int64\n",
      "Meal                           79330 non-null object\n",
      "Country                        79306 non-null object\n",
      "MarketSegment                  79330 non-null object\n",
      "DistributionChannel            79330 non-null object\n",
      "IsRepeatedGuest                79330 non-null int64\n",
      "PreviousCancellations          79330 non-null int64\n",
      "PreviousBookingsNotCanceled    79330 non-null int64\n",
      "ReservedRoomType               79330 non-null object\n",
      "AssignedRoomType               79330 non-null object\n",
      "BookingChanges                 79330 non-null int64\n",
      "DepositType                    79330 non-null object\n",
      "Agent                          79330 non-null object\n",
      "Company                        79330 non-null object\n",
      "DaysInWaitingList              79330 non-null int64\n",
      "CustomerType                   79330 non-null object\n",
      "ADR                            79330 non-null float64\n",
      "RequiredCarParkingSpaces       79330 non-null int64\n",
      "TotalOfSpecialRequests         79330 non-null int64\n",
      "ReservationStatus              79330 non-null object\n",
      "ReservationStatusDate          79330 non-null object\n",
      "dtypes: float64(2), int64(16), object(13)\n",
      "memory usage: 18.8+ MB\n"
     ]
    }
   ],
   "source": [
    "df.info()"
   ]
  },
  {
   "cell_type": "code",
   "execution_count": 14,
   "metadata": {
    "ExecuteTime": {
     "end_time": "2020-04-06T08:47:50.124012Z",
     "start_time": "2020-04-06T08:47:49.779709Z"
    }
   },
   "outputs": [
    {
     "data": {
      "text/plain": [
       "IsCanceled                      0\n",
       "LeadTime                        0\n",
       "ArrivalDateYear                 0\n",
       "ArrivalDateMonth                0\n",
       "ArrivalDateWeekNumber           0\n",
       "ArrivalDateDayOfMonth           0\n",
       "StaysInWeekendNights            0\n",
       "StaysInWeekNights               0\n",
       "Adults                          0\n",
       "Children                        4\n",
       "Babies                          0\n",
       "Meal                            0\n",
       "Country                        24\n",
       "MarketSegment                   0\n",
       "DistributionChannel             0\n",
       "IsRepeatedGuest                 0\n",
       "PreviousCancellations           0\n",
       "PreviousBookingsNotCanceled     0\n",
       "ReservedRoomType                0\n",
       "AssignedRoomType                0\n",
       "BookingChanges                  0\n",
       "DepositType                     0\n",
       "Agent                           0\n",
       "Company                         0\n",
       "DaysInWaitingList               0\n",
       "CustomerType                    0\n",
       "ADR                             0\n",
       "RequiredCarParkingSpaces        0\n",
       "TotalOfSpecialRequests          0\n",
       "ReservationStatus               0\n",
       "ReservationStatusDate           0\n",
       "dtype: int64"
      ]
     },
     "execution_count": 14,
     "metadata": {},
     "output_type": "execute_result"
    }
   ],
   "source": [
    "df.isnull().sum()"
   ]
  },
  {
   "cell_type": "code",
   "execution_count": 28,
   "metadata": {
    "ExecuteTime": {
     "end_time": "2020-04-06T09:06:13.084652Z",
     "start_time": "2020-04-06T09:06:10.965941Z"
    }
   },
   "outputs": [
    {
     "name": "stdout",
     "output_type": "stream",
     "text": [
      "--------------------Agent--------------------\n",
      "          9    31955\n",
      "       NULL     8131\n",
      "          1     7137\n",
      "         14     3640\n",
      "          7     3539\n",
      "               ...  \n",
      "        117        1\n",
      "        453        1\n",
      "        427        1\n",
      "        388        1\n",
      "        408        1\n",
      "Name: Agent, Length: 224, dtype: int64\n",
      "\n",
      "\n",
      "--------------------ArrivalDateMonth--------------------\n",
      "August       8983\n",
      "May          8232\n",
      "July         8088\n",
      "June         7894\n",
      "October      7605\n",
      "April        7480\n",
      "September    7400\n",
      "March        6458\n",
      "February     4965\n",
      "November     4357\n",
      "December     4132\n",
      "January      3736\n",
      "Name: ArrivalDateMonth, dtype: int64\n",
      "\n",
      "\n",
      "--------------------ArrivalDateWeekNumber--------------------\n",
      "33    2383\n",
      "42    2032\n",
      "20    2016\n",
      "30    2011\n",
      "32    1991\n",
      "17    1965\n",
      "25    1959\n",
      "34    1950\n",
      "21    1948\n",
      "18    1914\n",
      "38    1887\n",
      "23    1869\n",
      "28    1865\n",
      "27    1854\n",
      "41    1842\n",
      "39    1833\n",
      "24    1823\n",
      "15    1783\n",
      "29    1726\n",
      "40    1722\n",
      "22    1697\n",
      "26    1670\n",
      "16    1650\n",
      "35    1642\n",
      "19    1640\n",
      "31    1640\n",
      "13    1605\n",
      "37    1596\n",
      "44    1546\n",
      "14    1525\n",
      "8     1497\n",
      "43    1435\n",
      "12    1427\n",
      "10    1422\n",
      "36    1411\n",
      "11    1391\n",
      "9     1322\n",
      "45    1251\n",
      "7     1205\n",
      "53    1198\n",
      "49    1066\n",
      "46    1060\n",
      "50    1056\n",
      "48    1011\n",
      "47     977\n",
      "4      968\n",
      "5      886\n",
      "6      826\n",
      "3      766\n",
      "2      761\n",
      "1      704\n",
      "52     603\n",
      "51     503\n",
      "Name: ArrivalDateWeekNumber, dtype: int64\n",
      "\n",
      "\n",
      "--------------------ArrivalDateDayOfMonth--------------------\n",
      "17    3012\n",
      "15    2874\n",
      "5     2857\n",
      "20    2835\n",
      "25    2823\n",
      "26    2748\n",
      "19    2747\n",
      "9     2692\n",
      "8     2676\n",
      "28    2670\n",
      "2     2667\n",
      "16    2652\n",
      "6     2641\n",
      "18    2624\n",
      "24    2623\n",
      "13    2605\n",
      "14    2600\n",
      "21    2567\n",
      "27    2537\n",
      "3     2530\n",
      "12    2510\n",
      "4     2461\n",
      "7     2459\n",
      "23    2447\n",
      "10    2390\n",
      "30    2380\n",
      "29    2366\n",
      "1     2332\n",
      "11    2327\n",
      "22    2326\n",
      "31    1352\n",
      "Name: ArrivalDateDayOfMonth, dtype: int64\n",
      "\n",
      "\n",
      "--------------------ArrivalDateYear--------------------\n",
      "2016    38140\n",
      "2017    27508\n",
      "2015    13682\n",
      "Name: ArrivalDateYear, dtype: int64\n",
      "\n",
      "\n",
      "--------------------AssignedRoomType--------------------\n",
      "A                   57007\n",
      "D                   14983\n",
      "E                    2168\n",
      "F                    2018\n",
      "B                    2004\n",
      "G                     700\n",
      "K                     279\n",
      "C                     161\n",
      "P                      10\n",
      "Name: AssignedRoomType, dtype: int64\n",
      "\n",
      "\n",
      "--------------------Company--------------------\n",
      "       NULL    75641\n",
      "         40      924\n",
      "         67      267\n",
      "         45      250\n",
      "        153      215\n",
      "               ...  \n",
      "        448        1\n",
      "        421        1\n",
      "        130        1\n",
      "        313        1\n",
      "        481        1\n",
      "Name: Company, Length: 208, dtype: int64\n",
      "\n",
      "\n",
      "--------------------Country--------------------\n",
      "PRT    30960\n",
      "FRA     8804\n",
      "DEU     6084\n",
      "GBR     5315\n",
      "ESP     4611\n",
      "       ...  \n",
      "AIA        1\n",
      "TGO        1\n",
      "ASM        1\n",
      "SUR        1\n",
      "SDN        1\n",
      "Name: Country, Length: 166, dtype: int64\n",
      "\n",
      "\n",
      "--------------------CustomerType--------------------\n",
      "Transient          59404\n",
      "Transient-Party    17333\n",
      "Contract            2300\n",
      "Group                293\n",
      "Name: CustomerType, dtype: int64\n",
      "\n",
      "\n",
      "--------------------DepositType--------------------\n",
      "No Deposit         66442\n",
      "Non Refund         12868\n",
      "Refundable            20\n",
      "Name: DepositType, dtype: int64\n",
      "\n",
      "\n",
      "--------------------DistributionChannel--------------------\n",
      "TA/TO        68945\n",
      "Direct        6780\n",
      "Corporate     3408\n",
      "GDS            193\n",
      "Undefined        4\n",
      "Name: DistributionChannel, dtype: int64\n",
      "\n",
      "\n",
      "--------------------IsCanceled--------------------\n",
      "0    46228\n",
      "1    33102\n",
      "Name: IsCanceled, dtype: int64\n",
      "\n",
      "\n",
      "--------------------IsRepeatedGuest--------------------\n",
      "0    77298\n",
      "1     2032\n",
      "Name: IsRepeatedGuest, dtype: int64\n",
      "\n",
      "\n",
      "--------------------MarketSegment--------------------\n",
      "Online TA        38748\n",
      "Offline TA/TO    16747\n",
      "Groups           13975\n",
      "Direct            6093\n",
      "Corporate         2986\n",
      "Complementary      542\n",
      "Aviation           237\n",
      "Undefined            2\n",
      "Name: MarketSegment, dtype: int64\n",
      "\n",
      "\n",
      "--------------------Meal--------------------\n",
      "BB           62305\n",
      "SC           10564\n",
      "HB            6417\n",
      "FB              44\n",
      "Name: Meal, dtype: int64\n",
      "\n",
      "\n",
      "--------------------RequiredCarParkingSpaces--------------------\n",
      "0    77404\n",
      "1     1921\n",
      "2        3\n",
      "3        2\n",
      "Name: RequiredCarParkingSpaces, dtype: int64\n",
      "\n",
      "\n",
      "--------------------ReservationStatus--------------------\n",
      "Check-Out    46228\n",
      "Canceled     32186\n",
      "No-Show        916\n",
      "Name: ReservationStatus, dtype: int64\n",
      "\n",
      "\n",
      "--------------------ReservationStatusDate--------------------\n",
      "2015-10-21    1416\n",
      "2015-07-06     763\n",
      "2015-01-01     760\n",
      "2016-11-25     746\n",
      "2016-01-18     553\n",
      "              ... \n",
      "2015-04-21       1\n",
      "2015-04-30       1\n",
      "2015-03-03       1\n",
      "2015-04-27       1\n",
      "2015-04-23       1\n",
      "Name: ReservationStatusDate, Length: 864, dtype: int64\n",
      "\n",
      "\n",
      "--------------------ReservedRoomType--------------------\n",
      "A                   62595\n",
      "D                   11768\n",
      "F                    1791\n",
      "E                    1553\n",
      "B                    1115\n",
      "G                     484\n",
      "C                      14\n",
      "P                      10\n",
      "Name: ReservedRoomType, dtype: int64\n",
      "\n",
      "\n"
     ]
    }
   ],
   "source": [
    "for col in non_numerical_var:\n",
    "    print(\"--------------------\" + col + \"--------------------\")\n",
    "    print(df[col].value_counts())\n",
    "    print(\"\\n\")"
   ]
  },
  {
   "cell_type": "code",
   "execution_count": null,
   "metadata": {},
   "outputs": [],
   "source": []
  },
  {
   "cell_type": "code",
   "execution_count": 16,
   "metadata": {
    "ExecuteTime": {
     "end_time": "2020-04-06T08:49:37.828692Z",
     "start_time": "2020-04-06T08:49:25.989650Z"
    }
   },
   "outputs": [
    {
     "name": "stderr",
     "output_type": "stream",
     "text": [
      "C:\\Users\\Michael\\Anaconda3\\lib\\site-packages\\pandas\\plotting\\_matplotlib\\tools.py:307: MatplotlibDeprecationWarning: \n",
      "The rowNum attribute was deprecated in Matplotlib 3.2 and will be removed two minor releases later. Use ax.get_subplotspec().rowspan.start instead.\n",
      "  layout[ax.rowNum, ax.colNum] = ax.get_visible()\n",
      "C:\\Users\\Michael\\Anaconda3\\lib\\site-packages\\pandas\\plotting\\_matplotlib\\tools.py:307: MatplotlibDeprecationWarning: \n",
      "The colNum attribute was deprecated in Matplotlib 3.2 and will be removed two minor releases later. Use ax.get_subplotspec().colspan.start instead.\n",
      "  layout[ax.rowNum, ax.colNum] = ax.get_visible()\n",
      "C:\\Users\\Michael\\Anaconda3\\lib\\site-packages\\pandas\\plotting\\_matplotlib\\tools.py:313: MatplotlibDeprecationWarning: \n",
      "The rowNum attribute was deprecated in Matplotlib 3.2 and will be removed two minor releases later. Use ax.get_subplotspec().rowspan.start instead.\n",
      "  if not layout[ax.rowNum + 1, ax.colNum]:\n",
      "C:\\Users\\Michael\\Anaconda3\\lib\\site-packages\\pandas\\plotting\\_matplotlib\\tools.py:313: MatplotlibDeprecationWarning: \n",
      "The colNum attribute was deprecated in Matplotlib 3.2 and will be removed two minor releases later. Use ax.get_subplotspec().colspan.start instead.\n",
      "  if not layout[ax.rowNum + 1, ax.colNum]:\n"
     ]
    },
    {
     "data": {
      "image/png": "[encoded data removed]",
      "text/plain": [
       "<Figure size 1080x1440 with 24 Axes>"
      ]
     },
     "metadata": {
      "needs_background": "light"
     },
     "output_type": "display_data"
    }
   ],
   "source": [
    "# Do histograms on all numeric variables\n",
    "df[numerical_var].hist(bins=15, figsize=(15, 20), layout=(8, 3), xlabelsize=8, ylabelsize=8);"
   ]
  },
  {
   "cell_type": "code",
   "execution_count": 18,
   "metadata": {
    "ExecuteTime": {
     "end_time": "2020-04-06T08:51:54.518687Z",
     "start_time": "2020-04-06T08:51:43.079356Z"
    }
   },
   "outputs": [
    {
     "data": {
      "image/png": "[encoded data removed]",
      "text/plain": [
       "<Figure size 1440x1440 with 12 Axes>"
      ]
     },
     "metadata": {
      "needs_background": "light"
     },
     "output_type": "display_data"
    }
   ],
   "source": [
    "#boxplots to detect outliers\n",
    "fig, ax = plt.subplots(4, 3, figsize=(20, 20))\n",
    "fig.tight_layout()\n",
    "for var, subplot in zip(df[numerical_var], ax.flatten()):\n",
    "    sns.boxplot(df[var], ax=subplot)"
   ]
  },
  {
   "cell_type": "code",
   "execution_count": 19,
   "metadata": {
    "ExecuteTime": {
     "end_time": "2020-04-06T08:52:42.243027Z",
     "start_time": "2020-04-06T08:52:39.212133Z"
    }
   },
   "outputs": [
    {
     "data": {
      "image/png": "[encoded data removed]",
      "text/plain": [
       "<Figure size 720x720 with 2 Axes>"
      ]
     },
     "metadata": {
      "needs_background": "light"
     },
     "output_type": "display_data"
    }
   ],
   "source": [
    "corr = df[numerical_var].corr()\n",
    "plt.figure(figsize=(10, 10))\n",
    "sns.set(font_scale=1.4)\n",
    "ax = sns.heatmap(\n",
    "    corr, \n",
    "    vmin=-1, vmax=1, center=0,\n",
    "    cmap=sns.diverging_palette(20, 220, n=200),\n",
    "    square=True,\n",
    "    annot=False, annot_kws={\"size\": 12}\n",
    ")\n",
    "bottom, top = ax.get_ylim() # These two lines were added due to bug on current Seaborn version\n",
    "ax.set_ylim(bottom + 0.5, top - 0.5) #\n",
    "ax.set_xticklabels(\n",
    "    ax.get_xticklabels(),\n",
    "    rotation=45,\n",
    "    horizontalalignment='right'\n",
    ");"
   ]
  },
  {
   "cell_type": "markdown",
   "metadata": {},
   "source": [
    "## Summary Data Understanding / Data Exploration\n"
   ]
  },
  {
   "cell_type": "markdown",
   "metadata": {},
   "source": [
    "# Step 3: Data Preparation"
   ]
  },
  {
   "cell_type": "code",
   "execution_count": 13,
   "metadata": {
    "ExecuteTime": {
     "end_time": "2020-02-27T15:01:39.662975Z",
     "start_time": "2020-02-27T15:01:39.588177Z"
    }
   },
   "outputs": [],
   "source": [
    "X = df.copy(deep= True)"
   ]
  },
  {
   "cell_type": "code",
   "execution_count": 14,
   "metadata": {
    "ExecuteTime": {
     "end_time": "2020-02-27T15:01:41.168088Z",
     "start_time": "2020-02-27T15:01:41.077331Z"
    }
   },
   "outputs": [],
   "source": [
    "# Outlier handling"
   ]
  },
  {
   "cell_type": "markdown",
   "metadata": {},
   "source": [
    "# Step 4: Modeling"
   ]
  },
  {
   "cell_type": "markdown",
   "metadata": {},
   "source": [
    "# Step 5: Evaluation\n"
   ]
  }
 ],
 "metadata": {
  "kernelspec": {
   "display_name": "Python 3",
   "language": "python",
   "name": "python3"
  },
  "language_info": {
   "codemirror_mode": {
    "name": "ipython",
    "version": 3
   },
   "file_extension": ".py",
   "mimetype": "text/x-python",
   "name": "python",
   "nbconvert_exporter": "python",
   "pygments_lexer": "ipython3",
   "version": "3.7.4"
  },
  "toc": {
   "base_numbering": 1,
   "nav_menu": {},
   "number_sections": true,
   "sideBar": true,
   "skip_h1_title": false,
   "title_cell": "Table of Contents",
   "title_sidebar": "Contents",
   "toc_cell": false,
   "toc_position": {},
   "toc_section_display": true,
   "toc_window_display": false
  },
  "varInspector": {
   "cols": {
    "lenName": 16,
    "lenType": 16,
    "lenVar": 40
   },
   "kernels_config": {
    "python": {
     "delete_cmd_postfix": "",
     "delete_cmd_prefix": "del ",
     "library": "var_list.py",
     "varRefreshCmd": "print(var_dic_list())"
    },
    "r": {
     "delete_cmd_postfix": ") ",
     "delete_cmd_prefix": "rm(",
     "library": "var_list.r",
     "varRefreshCmd": "cat(var_dic_list()) "
    }
   },
   "types_to_exclude": [
    "module",
    "function",
    "builtin_function_or_method",
    "instance",
    "_Feature"
   ],
   "window_display": false
  }
 },
 "nbformat": 4,
 "nbformat_minor": 2
}
