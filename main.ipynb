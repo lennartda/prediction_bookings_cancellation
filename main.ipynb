{
 "cells": [
  {
   "cell_type": "markdown",
   "metadata": {},
   "source": [
    "\n",
    "# Business Cases with Data Science \n",
    "\n",
    "## Case 3: Prediction of Bookings Cancellation\n",
    "\n",
    "#### Semester: Spring 2020\n",
    "#### Group (Palm & Company) Member:\n",
    "1. Pedro Santos (M20190420)\n",
    "2. Ana Claudia Alferes (M20190932)\n",
    "3. Lennart Dangers (M20190251)\n",
    "4. Michael Machatschek (M20190054)\n",
    "\n",
    "#### This project follows the CRISP-DM Process:\n",
    "\n",
    "1. Business Understanding\n",
    "2. Data Understanding\n",
    "3. Data Preparation\n",
    "4. Modelling\n",
    "5. Evaluation\n",
    "6. Deployment\n",
    "\n",
    "This jupypter-notebook provides the code in python to do a customer segmentation of a given dataset. A more detailed description of this project and the solutions can be found in the report. "
   ]
  },
  {
   "cell_type": "markdown",
   "metadata": {},
   "source": [
    "# Step 1: Business Understanding\n",
    "\n",
    "Please consult our report for further details. "
   ]
  },
  {
   "cell_type": "markdown",
   "metadata": {},
   "source": [
    "# Step 2: Data Understanding\n",
    "\n",
    "## Dataset Description\n",
    "\n",
    "A data dictionary is available in the appendix of our report.\n",
    " \n",
    " \n",
    " \n",
    " #### The following code will help to explore and understand the entire dataset. "
   ]
  },
  {
   "cell_type": "code",
   "execution_count": 40,
   "metadata": {
    "ExecuteTime": {
     "end_time": "2020-04-10T08:44:06.729700Z",
     "start_time": "2020-04-10T08:44:06.701648Z"
    }
   },
   "outputs": [],
   "source": [
    "import numpy as np\n",
    "import pandas as pd\n",
    "import matplotlib.pyplot as plt\n",
    "import seaborn as sns\n",
    "import category_encoders as ce\n",
    "import collections\n",
    "from sklearn.preprocessing import MinMaxScaler\n",
    "import plotly.offline as po \n",
    "import plotly.graph_objects as go\n",
    "import plotly.express as px\n",
    "from plotly.subplots import make_subplots\n",
    "from sklearn.preprocessing import OneHotEncoder\n",
    "from sklearn import preprocessing\n",
    "from sklearn.preprocessing import OrdinalEncoder\n",
    "from sklearn.model_selection import train_test_split\n",
    "from sklearn import metrics\n",
    "import itertools\n",
    "from sklearn.linear_model import LogisticRegression\n",
    "from sklearn.ensemble import RandomForestClassifier\n",
    "from sklearn.ensemble import GradientBoostingClassifier\n",
    "from sklearn.neural_network import MLPClassifier\n",
    "from xgboost import XGBClassifier\n"
   ]
  },
  {
   "cell_type": "code",
   "execution_count": 86,
   "metadata": {
    "ExecuteTime": {
     "end_time": "2020-04-10T09:09:53.535425Z",
     "start_time": "2020-04-10T09:09:52.196259Z"
    }
   },
   "outputs": [],
   "source": [
    "df = pd.read_csv(\"data.csv\")"
   ]
  },
  {
   "cell_type": "code",
   "execution_count": 42,
   "metadata": {
    "ExecuteTime": {
     "end_time": "2020-04-10T08:44:09.717363Z",
     "start_time": "2020-04-10T08:44:08.501540Z"
    }
   },
   "outputs": [
    {
     "data": {
      "text/html": [
       "<div>\n",
       "<style scoped>\n",
       "    .dataframe tbody tr th:only-of-type {\n",
       "        vertical-align: middle;\n",
       "    }\n",
       "\n",
       "    .dataframe tbody tr th {\n",
       "        vertical-align: top;\n",
       "    }\n",
       "\n",
       "    .dataframe thead th {\n",
       "        text-align: right;\n",
       "    }\n",
       "</style>\n",
       "<table border=\"1\" class=\"dataframe\">\n",
       "  <thead>\n",
       "    <tr style=\"text-align: right;\">\n",
       "      <th></th>\n",
       "      <th>count</th>\n",
       "      <th>unique</th>\n",
       "      <th>top</th>\n",
       "      <th>freq</th>\n",
       "      <th>mean</th>\n",
       "      <th>std</th>\n",
       "      <th>min</th>\n",
       "      <th>25%</th>\n",
       "      <th>50%</th>\n",
       "      <th>75%</th>\n",
       "      <th>max</th>\n",
       "    </tr>\n",
       "  </thead>\n",
       "  <tbody>\n",
       "    <tr>\n",
       "      <td>IsCanceled</td>\n",
       "      <td>79330</td>\n",
       "      <td>NaN</td>\n",
       "      <td>NaN</td>\n",
       "      <td>NaN</td>\n",
       "      <td>0.41727</td>\n",
       "      <td>0.493111</td>\n",
       "      <td>0</td>\n",
       "      <td>0</td>\n",
       "      <td>0</td>\n",
       "      <td>1</td>\n",
       "      <td>1</td>\n",
       "    </tr>\n",
       "    <tr>\n",
       "      <td>LeadTime</td>\n",
       "      <td>79330</td>\n",
       "      <td>NaN</td>\n",
       "      <td>NaN</td>\n",
       "      <td>NaN</td>\n",
       "      <td>109.736</td>\n",
       "      <td>110.949</td>\n",
       "      <td>0</td>\n",
       "      <td>23</td>\n",
       "      <td>74</td>\n",
       "      <td>163</td>\n",
       "      <td>629</td>\n",
       "    </tr>\n",
       "    <tr>\n",
       "      <td>ArrivalDateYear</td>\n",
       "      <td>79330</td>\n",
       "      <td>NaN</td>\n",
       "      <td>NaN</td>\n",
       "      <td>NaN</td>\n",
       "      <td>2016.17</td>\n",
       "      <td>0.699181</td>\n",
       "      <td>2015</td>\n",
       "      <td>2016</td>\n",
       "      <td>2016</td>\n",
       "      <td>2017</td>\n",
       "      <td>2017</td>\n",
       "    </tr>\n",
       "    <tr>\n",
       "      <td>ArrivalDateMonth</td>\n",
       "      <td>79330</td>\n",
       "      <td>12</td>\n",
       "      <td>August</td>\n",
       "      <td>8983</td>\n",
       "      <td>NaN</td>\n",
       "      <td>NaN</td>\n",
       "      <td>NaN</td>\n",
       "      <td>NaN</td>\n",
       "      <td>NaN</td>\n",
       "      <td>NaN</td>\n",
       "      <td>NaN</td>\n",
       "    </tr>\n",
       "    <tr>\n",
       "      <td>ArrivalDateWeekNumber</td>\n",
       "      <td>79330</td>\n",
       "      <td>NaN</td>\n",
       "      <td>NaN</td>\n",
       "      <td>NaN</td>\n",
       "      <td>27.1774</td>\n",
       "      <td>13.3985</td>\n",
       "      <td>1</td>\n",
       "      <td>17</td>\n",
       "      <td>27</td>\n",
       "      <td>38</td>\n",
       "      <td>53</td>\n",
       "    </tr>\n",
       "    <tr>\n",
       "      <td>ArrivalDateDayOfMonth</td>\n",
       "      <td>79330</td>\n",
       "      <td>NaN</td>\n",
       "      <td>NaN</td>\n",
       "      <td>NaN</td>\n",
       "      <td>15.7866</td>\n",
       "      <td>8.72845</td>\n",
       "      <td>1</td>\n",
       "      <td>8</td>\n",
       "      <td>16</td>\n",
       "      <td>23</td>\n",
       "      <td>31</td>\n",
       "    </tr>\n",
       "    <tr>\n",
       "      <td>StaysInWeekendNights</td>\n",
       "      <td>79330</td>\n",
       "      <td>NaN</td>\n",
       "      <td>NaN</td>\n",
       "      <td>NaN</td>\n",
       "      <td>0.795185</td>\n",
       "      <td>0.885026</td>\n",
       "      <td>0</td>\n",
       "      <td>0</td>\n",
       "      <td>1</td>\n",
       "      <td>2</td>\n",
       "      <td>16</td>\n",
       "    </tr>\n",
       "    <tr>\n",
       "      <td>StaysInWeekNights</td>\n",
       "      <td>79330</td>\n",
       "      <td>NaN</td>\n",
       "      <td>NaN</td>\n",
       "      <td>NaN</td>\n",
       "      <td>2.18296</td>\n",
       "      <td>1.45642</td>\n",
       "      <td>0</td>\n",
       "      <td>1</td>\n",
       "      <td>2</td>\n",
       "      <td>3</td>\n",
       "      <td>41</td>\n",
       "    </tr>\n",
       "    <tr>\n",
       "      <td>Adults</td>\n",
       "      <td>79330</td>\n",
       "      <td>NaN</td>\n",
       "      <td>NaN</td>\n",
       "      <td>NaN</td>\n",
       "      <td>1.85098</td>\n",
       "      <td>0.509292</td>\n",
       "      <td>0</td>\n",
       "      <td>2</td>\n",
       "      <td>2</td>\n",
       "      <td>2</td>\n",
       "      <td>4</td>\n",
       "    </tr>\n",
       "    <tr>\n",
       "      <td>Children</td>\n",
       "      <td>79326</td>\n",
       "      <td>NaN</td>\n",
       "      <td>NaN</td>\n",
       "      <td>NaN</td>\n",
       "      <td>0.0913698</td>\n",
       "      <td>0.372177</td>\n",
       "      <td>0</td>\n",
       "      <td>0</td>\n",
       "      <td>0</td>\n",
       "      <td>0</td>\n",
       "      <td>3</td>\n",
       "    </tr>\n",
       "    <tr>\n",
       "      <td>Babies</td>\n",
       "      <td>79330</td>\n",
       "      <td>NaN</td>\n",
       "      <td>NaN</td>\n",
       "      <td>NaN</td>\n",
       "      <td>0.00494138</td>\n",
       "      <td>0.0843233</td>\n",
       "      <td>0</td>\n",
       "      <td>0</td>\n",
       "      <td>0</td>\n",
       "      <td>0</td>\n",
       "      <td>10</td>\n",
       "    </tr>\n",
       "    <tr>\n",
       "      <td>Meal</td>\n",
       "      <td>79330</td>\n",
       "      <td>4</td>\n",
       "      <td>BB</td>\n",
       "      <td>62305</td>\n",
       "      <td>NaN</td>\n",
       "      <td>NaN</td>\n",
       "      <td>NaN</td>\n",
       "      <td>NaN</td>\n",
       "      <td>NaN</td>\n",
       "      <td>NaN</td>\n",
       "      <td>NaN</td>\n",
       "    </tr>\n",
       "    <tr>\n",
       "      <td>Country</td>\n",
       "      <td>79306</td>\n",
       "      <td>166</td>\n",
       "      <td>PRT</td>\n",
       "      <td>30960</td>\n",
       "      <td>NaN</td>\n",
       "      <td>NaN</td>\n",
       "      <td>NaN</td>\n",
       "      <td>NaN</td>\n",
       "      <td>NaN</td>\n",
       "      <td>NaN</td>\n",
       "      <td>NaN</td>\n",
       "    </tr>\n",
       "    <tr>\n",
       "      <td>MarketSegment</td>\n",
       "      <td>79330</td>\n",
       "      <td>8</td>\n",
       "      <td>Online TA</td>\n",
       "      <td>38748</td>\n",
       "      <td>NaN</td>\n",
       "      <td>NaN</td>\n",
       "      <td>NaN</td>\n",
       "      <td>NaN</td>\n",
       "      <td>NaN</td>\n",
       "      <td>NaN</td>\n",
       "      <td>NaN</td>\n",
       "    </tr>\n",
       "    <tr>\n",
       "      <td>DistributionChannel</td>\n",
       "      <td>79330</td>\n",
       "      <td>5</td>\n",
       "      <td>TA/TO</td>\n",
       "      <td>68945</td>\n",
       "      <td>NaN</td>\n",
       "      <td>NaN</td>\n",
       "      <td>NaN</td>\n",
       "      <td>NaN</td>\n",
       "      <td>NaN</td>\n",
       "      <td>NaN</td>\n",
       "      <td>NaN</td>\n",
       "    </tr>\n",
       "    <tr>\n",
       "      <td>IsRepeatedGuest</td>\n",
       "      <td>79330</td>\n",
       "      <td>NaN</td>\n",
       "      <td>NaN</td>\n",
       "      <td>NaN</td>\n",
       "      <td>0.0256145</td>\n",
       "      <td>0.157983</td>\n",
       "      <td>0</td>\n",
       "      <td>0</td>\n",
       "      <td>0</td>\n",
       "      <td>0</td>\n",
       "      <td>1</td>\n",
       "    </tr>\n",
       "    <tr>\n",
       "      <td>PreviousCancellations</td>\n",
       "      <td>79330</td>\n",
       "      <td>NaN</td>\n",
       "      <td>NaN</td>\n",
       "      <td>NaN</td>\n",
       "      <td>0.0797428</td>\n",
       "      <td>0.415472</td>\n",
       "      <td>0</td>\n",
       "      <td>0</td>\n",
       "      <td>0</td>\n",
       "      <td>0</td>\n",
       "      <td>21</td>\n",
       "    </tr>\n",
       "    <tr>\n",
       "      <td>PreviousBookingsNotCanceled</td>\n",
       "      <td>79330</td>\n",
       "      <td>NaN</td>\n",
       "      <td>NaN</td>\n",
       "      <td>NaN</td>\n",
       "      <td>0.132371</td>\n",
       "      <td>1.69341</td>\n",
       "      <td>0</td>\n",
       "      <td>0</td>\n",
       "      <td>0</td>\n",
       "      <td>0</td>\n",
       "      <td>72</td>\n",
       "    </tr>\n",
       "    <tr>\n",
       "      <td>ReservedRoomType</td>\n",
       "      <td>79330</td>\n",
       "      <td>8</td>\n",
       "      <td>A</td>\n",
       "      <td>62595</td>\n",
       "      <td>NaN</td>\n",
       "      <td>NaN</td>\n",
       "      <td>NaN</td>\n",
       "      <td>NaN</td>\n",
       "      <td>NaN</td>\n",
       "      <td>NaN</td>\n",
       "      <td>NaN</td>\n",
       "    </tr>\n",
       "    <tr>\n",
       "      <td>AssignedRoomType</td>\n",
       "      <td>79330</td>\n",
       "      <td>9</td>\n",
       "      <td>A</td>\n",
       "      <td>57007</td>\n",
       "      <td>NaN</td>\n",
       "      <td>NaN</td>\n",
       "      <td>NaN</td>\n",
       "      <td>NaN</td>\n",
       "      <td>NaN</td>\n",
       "      <td>NaN</td>\n",
       "      <td>NaN</td>\n",
       "    </tr>\n",
       "    <tr>\n",
       "      <td>BookingChanges</td>\n",
       "      <td>79330</td>\n",
       "      <td>NaN</td>\n",
       "      <td>NaN</td>\n",
       "      <td>NaN</td>\n",
       "      <td>0.187369</td>\n",
       "      <td>0.60862</td>\n",
       "      <td>0</td>\n",
       "      <td>0</td>\n",
       "      <td>0</td>\n",
       "      <td>0</td>\n",
       "      <td>21</td>\n",
       "    </tr>\n",
       "    <tr>\n",
       "      <td>DepositType</td>\n",
       "      <td>79330</td>\n",
       "      <td>3</td>\n",
       "      <td>No Deposit</td>\n",
       "      <td>66442</td>\n",
       "      <td>NaN</td>\n",
       "      <td>NaN</td>\n",
       "      <td>NaN</td>\n",
       "      <td>NaN</td>\n",
       "      <td>NaN</td>\n",
       "      <td>NaN</td>\n",
       "      <td>NaN</td>\n",
       "    </tr>\n",
       "    <tr>\n",
       "      <td>Agent</td>\n",
       "      <td>79330</td>\n",
       "      <td>224</td>\n",
       "      <td>9</td>\n",
       "      <td>31955</td>\n",
       "      <td>NaN</td>\n",
       "      <td>NaN</td>\n",
       "      <td>NaN</td>\n",
       "      <td>NaN</td>\n",
       "      <td>NaN</td>\n",
       "      <td>NaN</td>\n",
       "      <td>NaN</td>\n",
       "    </tr>\n",
       "    <tr>\n",
       "      <td>Company</td>\n",
       "      <td>79330</td>\n",
       "      <td>208</td>\n",
       "      <td>NULL</td>\n",
       "      <td>75641</td>\n",
       "      <td>NaN</td>\n",
       "      <td>NaN</td>\n",
       "      <td>NaN</td>\n",
       "      <td>NaN</td>\n",
       "      <td>NaN</td>\n",
       "      <td>NaN</td>\n",
       "      <td>NaN</td>\n",
       "    </tr>\n",
       "    <tr>\n",
       "      <td>DaysInWaitingList</td>\n",
       "      <td>79330</td>\n",
       "      <td>NaN</td>\n",
       "      <td>NaN</td>\n",
       "      <td>NaN</td>\n",
       "      <td>3.22677</td>\n",
       "      <td>20.8709</td>\n",
       "      <td>0</td>\n",
       "      <td>0</td>\n",
       "      <td>0</td>\n",
       "      <td>0</td>\n",
       "      <td>391</td>\n",
       "    </tr>\n",
       "    <tr>\n",
       "      <td>CustomerType</td>\n",
       "      <td>79330</td>\n",
       "      <td>4</td>\n",
       "      <td>Transient</td>\n",
       "      <td>59404</td>\n",
       "      <td>NaN</td>\n",
       "      <td>NaN</td>\n",
       "      <td>NaN</td>\n",
       "      <td>NaN</td>\n",
       "      <td>NaN</td>\n",
       "      <td>NaN</td>\n",
       "      <td>NaN</td>\n",
       "    </tr>\n",
       "    <tr>\n",
       "      <td>ADR</td>\n",
       "      <td>79330</td>\n",
       "      <td>NaN</td>\n",
       "      <td>NaN</td>\n",
       "      <td>NaN</td>\n",
       "      <td>105.304</td>\n",
       "      <td>43.603</td>\n",
       "      <td>0</td>\n",
       "      <td>79.2</td>\n",
       "      <td>99.9</td>\n",
       "      <td>126</td>\n",
       "      <td>5400</td>\n",
       "    </tr>\n",
       "    <tr>\n",
       "      <td>RequiredCarParkingSpaces</td>\n",
       "      <td>79330</td>\n",
       "      <td>NaN</td>\n",
       "      <td>NaN</td>\n",
       "      <td>NaN</td>\n",
       "      <td>0.0243666</td>\n",
       "      <td>0.154919</td>\n",
       "      <td>0</td>\n",
       "      <td>0</td>\n",
       "      <td>0</td>\n",
       "      <td>0</td>\n",
       "      <td>3</td>\n",
       "    </tr>\n",
       "    <tr>\n",
       "      <td>TotalOfSpecialRequests</td>\n",
       "      <td>79330</td>\n",
       "      <td>NaN</td>\n",
       "      <td>NaN</td>\n",
       "      <td>NaN</td>\n",
       "      <td>0.546918</td>\n",
       "      <td>0.780776</td>\n",
       "      <td>0</td>\n",
       "      <td>0</td>\n",
       "      <td>0</td>\n",
       "      <td>1</td>\n",
       "      <td>5</td>\n",
       "    </tr>\n",
       "    <tr>\n",
       "      <td>ReservationStatus</td>\n",
       "      <td>79330</td>\n",
       "      <td>3</td>\n",
       "      <td>Check-Out</td>\n",
       "      <td>46228</td>\n",
       "      <td>NaN</td>\n",
       "      <td>NaN</td>\n",
       "      <td>NaN</td>\n",
       "      <td>NaN</td>\n",
       "      <td>NaN</td>\n",
       "      <td>NaN</td>\n",
       "      <td>NaN</td>\n",
       "    </tr>\n",
       "    <tr>\n",
       "      <td>ReservationStatusDate</td>\n",
       "      <td>79330</td>\n",
       "      <td>864</td>\n",
       "      <td>2015-10-21</td>\n",
       "      <td>1416</td>\n",
       "      <td>NaN</td>\n",
       "      <td>NaN</td>\n",
       "      <td>NaN</td>\n",
       "      <td>NaN</td>\n",
       "      <td>NaN</td>\n",
       "      <td>NaN</td>\n",
       "      <td>NaN</td>\n",
       "    </tr>\n",
       "  </tbody>\n",
       "</table>\n",
       "</div>"
      ],
      "text/plain": [
       "                             count unique               top   freq  \\\n",
       "IsCanceled                   79330    NaN               NaN    NaN   \n",
       "LeadTime                     79330    NaN               NaN    NaN   \n",
       "ArrivalDateYear              79330    NaN               NaN    NaN   \n",
       "ArrivalDateMonth             79330     12            August   8983   \n",
       "ArrivalDateWeekNumber        79330    NaN               NaN    NaN   \n",
       "ArrivalDateDayOfMonth        79330    NaN               NaN    NaN   \n",
       "StaysInWeekendNights         79330    NaN               NaN    NaN   \n",
       "StaysInWeekNights            79330    NaN               NaN    NaN   \n",
       "Adults                       79330    NaN               NaN    NaN   \n",
       "Children                     79326    NaN               NaN    NaN   \n",
       "Babies                       79330    NaN               NaN    NaN   \n",
       "Meal                         79330      4         BB         62305   \n",
       "Country                      79306    166               PRT  30960   \n",
       "MarketSegment                79330      8         Online TA  38748   \n",
       "DistributionChannel          79330      5             TA/TO  68945   \n",
       "IsRepeatedGuest              79330    NaN               NaN    NaN   \n",
       "PreviousCancellations        79330    NaN               NaN    NaN   \n",
       "PreviousBookingsNotCanceled  79330    NaN               NaN    NaN   \n",
       "ReservedRoomType             79330      8  A                 62595   \n",
       "AssignedRoomType             79330      9  A                 57007   \n",
       "BookingChanges               79330    NaN               NaN    NaN   \n",
       "DepositType                  79330      3   No Deposit       66442   \n",
       "Agent                        79330    224                 9  31955   \n",
       "Company                      79330    208              NULL  75641   \n",
       "DaysInWaitingList            79330    NaN               NaN    NaN   \n",
       "CustomerType                 79330      4         Transient  59404   \n",
       "ADR                          79330    NaN               NaN    NaN   \n",
       "RequiredCarParkingSpaces     79330    NaN               NaN    NaN   \n",
       "TotalOfSpecialRequests       79330    NaN               NaN    NaN   \n",
       "ReservationStatus            79330      3         Check-Out  46228   \n",
       "ReservationStatusDate        79330    864        2015-10-21   1416   \n",
       "\n",
       "                                   mean        std   min   25%   50%   75%  \\\n",
       "IsCanceled                      0.41727   0.493111     0     0     0     1   \n",
       "LeadTime                        109.736    110.949     0    23    74   163   \n",
       "ArrivalDateYear                 2016.17   0.699181  2015  2016  2016  2017   \n",
       "ArrivalDateMonth                    NaN        NaN   NaN   NaN   NaN   NaN   \n",
       "ArrivalDateWeekNumber           27.1774    13.3985     1    17    27    38   \n",
       "ArrivalDateDayOfMonth           15.7866    8.72845     1     8    16    23   \n",
       "StaysInWeekendNights           0.795185   0.885026     0     0     1     2   \n",
       "StaysInWeekNights               2.18296    1.45642     0     1     2     3   \n",
       "Adults                          1.85098   0.509292     0     2     2     2   \n",
       "Children                      0.0913698   0.372177     0     0     0     0   \n",
       "Babies                       0.00494138  0.0843233     0     0     0     0   \n",
       "Meal                                NaN        NaN   NaN   NaN   NaN   NaN   \n",
       "Country                             NaN        NaN   NaN   NaN   NaN   NaN   \n",
       "MarketSegment                       NaN        NaN   NaN   NaN   NaN   NaN   \n",
       "DistributionChannel                 NaN        NaN   NaN   NaN   NaN   NaN   \n",
       "IsRepeatedGuest               0.0256145   0.157983     0     0     0     0   \n",
       "PreviousCancellations         0.0797428   0.415472     0     0     0     0   \n",
       "PreviousBookingsNotCanceled    0.132371    1.69341     0     0     0     0   \n",
       "ReservedRoomType                    NaN        NaN   NaN   NaN   NaN   NaN   \n",
       "AssignedRoomType                    NaN        NaN   NaN   NaN   NaN   NaN   \n",
       "BookingChanges                 0.187369    0.60862     0     0     0     0   \n",
       "DepositType                         NaN        NaN   NaN   NaN   NaN   NaN   \n",
       "Agent                               NaN        NaN   NaN   NaN   NaN   NaN   \n",
       "Company                             NaN        NaN   NaN   NaN   NaN   NaN   \n",
       "DaysInWaitingList               3.22677    20.8709     0     0     0     0   \n",
       "CustomerType                        NaN        NaN   NaN   NaN   NaN   NaN   \n",
       "ADR                             105.304     43.603     0  79.2  99.9   126   \n",
       "RequiredCarParkingSpaces      0.0243666   0.154919     0     0     0     0   \n",
       "TotalOfSpecialRequests         0.546918   0.780776     0     0     0     1   \n",
       "ReservationStatus                   NaN        NaN   NaN   NaN   NaN   NaN   \n",
       "ReservationStatusDate               NaN        NaN   NaN   NaN   NaN   NaN   \n",
       "\n",
       "                              max  \n",
       "IsCanceled                      1  \n",
       "LeadTime                      629  \n",
       "ArrivalDateYear              2017  \n",
       "ArrivalDateMonth              NaN  \n",
       "ArrivalDateWeekNumber          53  \n",
       "ArrivalDateDayOfMonth          31  \n",
       "StaysInWeekendNights           16  \n",
       "StaysInWeekNights              41  \n",
       "Adults                          4  \n",
       "Children                        3  \n",
       "Babies                         10  \n",
       "Meal                          NaN  \n",
       "Country                       NaN  \n",
       "MarketSegment                 NaN  \n",
       "DistributionChannel           NaN  \n",
       "IsRepeatedGuest                 1  \n",
       "PreviousCancellations          21  \n",
       "PreviousBookingsNotCanceled    72  \n",
       "ReservedRoomType              NaN  \n",
       "AssignedRoomType              NaN  \n",
       "BookingChanges                 21  \n",
       "DepositType                   NaN  \n",
       "Agent                         NaN  \n",
       "Company                       NaN  \n",
       "DaysInWaitingList             391  \n",
       "CustomerType                  NaN  \n",
       "ADR                          5400  \n",
       "RequiredCarParkingSpaces        3  \n",
       "TotalOfSpecialRequests          5  \n",
       "ReservationStatus             NaN  \n",
       "ReservationStatusDate         NaN  "
      ]
     },
     "execution_count": 42,
     "metadata": {},
     "output_type": "execute_result"
    }
   ],
   "source": [
    "df.describe(include=\"all\").T"
   ]
  },
  {
   "cell_type": "code",
   "execution_count": 43,
   "metadata": {
    "ExecuteTime": {
     "end_time": "2020-04-10T08:44:09.753519Z",
     "start_time": "2020-04-10T08:44:09.725359Z"
    }
   },
   "outputs": [
    {
     "data": {
      "text/plain": [
       "array(['IsCanceled', 'LeadTime', 'ArrivalDateYear', 'ArrivalDateMonth',\n",
       "       'ArrivalDateWeekNumber', 'ArrivalDateDayOfMonth',\n",
       "       'StaysInWeekendNights', 'StaysInWeekNights', 'Adults', 'Children',\n",
       "       'Babies', 'Meal', 'Country', 'MarketSegment',\n",
       "       'DistributionChannel', 'IsRepeatedGuest', 'PreviousCancellations',\n",
       "       'PreviousBookingsNotCanceled', 'ReservedRoomType',\n",
       "       'AssignedRoomType', 'BookingChanges', 'DepositType', 'Agent',\n",
       "       'Company', 'DaysInWaitingList', 'CustomerType', 'ADR',\n",
       "       'RequiredCarParkingSpaces', 'TotalOfSpecialRequests',\n",
       "       'ReservationStatus', 'ReservationStatusDate'], dtype=object)"
      ]
     },
     "execution_count": 43,
     "metadata": {},
     "output_type": "execute_result"
    }
   ],
   "source": [
    "df.columns.values"
   ]
  },
  {
   "cell_type": "code",
   "execution_count": 87,
   "metadata": {
    "ExecuteTime": {
     "end_time": "2020-04-10T09:09:57.572343Z",
     "start_time": "2020-04-10T09:09:57.548411Z"
    }
   },
   "outputs": [],
   "source": [
    "non_numerical_var = [\"Agent\", \"ArrivalDateMonth\",\n",
    "                    \"ArrivalDateWeekNumber\", \"ArrivalDateDayOfMonth\",\"ArrivalDateYear\",\"AssignedRoomType\",\n",
    "                     \"Company\", \"Country\", \"CustomerType\",\"DepositType\",\n",
    "                     \"DistributionChannel\", \"IsCanceled\", \"IsRepeatedGuest\", \"MarketSegment\",\n",
    "                     \"Meal\", \"ReservationStatus\",\n",
    "                     \"ReservationStatusDate\", \"ReservedRoomType\"]\n",
    "numerical_var = list(set(df.columns.values) - set(non_numerical_var))"
   ]
  },
  {
   "cell_type": "code",
   "execution_count": 45,
   "metadata": {
    "ExecuteTime": {
     "end_time": "2020-04-10T08:44:10.045864Z",
     "start_time": "2020-04-10T08:44:09.793032Z"
    }
   },
   "outputs": [
    {
     "name": "stdout",
     "output_type": "stream",
     "text": [
      "<class 'pandas.core.frame.DataFrame'>\n",
      "RangeIndex: 79330 entries, 0 to 79329\n",
      "Data columns (total 31 columns):\n",
      "IsCanceled                     79330 non-null int64\n",
      "LeadTime                       79330 non-null int64\n",
      "ArrivalDateYear                79330 non-null int64\n",
      "ArrivalDateMonth               79330 non-null object\n",
      "ArrivalDateWeekNumber          79330 non-null int64\n",
      "ArrivalDateDayOfMonth          79330 non-null int64\n",
      "StaysInWeekendNights           79330 non-null int64\n",
      "StaysInWeekNights              79330 non-null int64\n",
      "Adults                         79330 non-null int64\n",
      "Children                       79326 non-null float64\n",
      "Babies                         79330 non-null int64\n",
      "Meal                           79330 non-null object\n",
      "Country                        79306 non-null object\n",
      "MarketSegment                  79330 non-null object\n",
      "DistributionChannel            79330 non-null object\n",
      "IsRepeatedGuest                79330 non-null int64\n",
      "PreviousCancellations          79330 non-null int64\n",
      "PreviousBookingsNotCanceled    79330 non-null int64\n",
      "ReservedRoomType               79330 non-null object\n",
      "AssignedRoomType               79330 non-null object\n",
      "BookingChanges                 79330 non-null int64\n",
      "DepositType                    79330 non-null object\n",
      "Agent                          79330 non-null object\n",
      "Company                        79330 non-null object\n",
      "DaysInWaitingList              79330 non-null int64\n",
      "CustomerType                   79330 non-null object\n",
      "ADR                            79330 non-null float64\n",
      "RequiredCarParkingSpaces       79330 non-null int64\n",
      "TotalOfSpecialRequests         79330 non-null int64\n",
      "ReservationStatus              79330 non-null object\n",
      "ReservationStatusDate          79330 non-null object\n",
      "dtypes: float64(2), int64(16), object(13)\n",
      "memory usage: 18.8+ MB\n"
     ]
    }
   ],
   "source": [
    "df.info()"
   ]
  },
  {
   "cell_type": "code",
   "execution_count": 46,
   "metadata": {
    "ExecuteTime": {
     "end_time": "2020-04-10T08:44:10.310479Z",
     "start_time": "2020-04-10T08:44:10.055319Z"
    }
   },
   "outputs": [
    {
     "data": {
      "text/plain": [
       "IsCanceled                      0\n",
       "LeadTime                        0\n",
       "ArrivalDateYear                 0\n",
       "ArrivalDateMonth                0\n",
       "ArrivalDateWeekNumber           0\n",
       "ArrivalDateDayOfMonth           0\n",
       "StaysInWeekendNights            0\n",
       "StaysInWeekNights               0\n",
       "Adults                          0\n",
       "Children                        4\n",
       "Babies                          0\n",
       "Meal                            0\n",
       "Country                        24\n",
       "MarketSegment                   0\n",
       "DistributionChannel             0\n",
       "IsRepeatedGuest                 0\n",
       "PreviousCancellations           0\n",
       "PreviousBookingsNotCanceled     0\n",
       "ReservedRoomType                0\n",
       "AssignedRoomType                0\n",
       "BookingChanges                  0\n",
       "DepositType                     0\n",
       "Agent                           0\n",
       "Company                         0\n",
       "DaysInWaitingList               0\n",
       "CustomerType                    0\n",
       "ADR                             0\n",
       "RequiredCarParkingSpaces        0\n",
       "TotalOfSpecialRequests          0\n",
       "ReservationStatus               0\n",
       "ReservationStatusDate           0\n",
       "dtype: int64"
      ]
     },
     "execution_count": 46,
     "metadata": {},
     "output_type": "execute_result"
    }
   ],
   "source": [
    "df.isnull().sum()"
   ]
  },
  {
   "cell_type": "code",
   "execution_count": 47,
   "metadata": {
    "ExecuteTime": {
     "end_time": "2020-04-10T08:44:10.958907Z",
     "start_time": "2020-04-10T08:44:10.322463Z"
    }
   },
   "outputs": [
    {
     "name": "stdout",
     "output_type": "stream",
     "text": [
      "--------------------Agent--------------------\n",
      "          9    31955\n",
      "       NULL     8131\n",
      "          1     7137\n",
      "         14     3640\n",
      "          7     3539\n",
      "               ...  \n",
      "        464        1\n",
      "        270        1\n",
      "        453        1\n",
      "        213        1\n",
      "        242        1\n",
      "Name: Agent, Length: 224, dtype: int64\n",
      "\n",
      "\n",
      "--------------------ArrivalDateMonth--------------------\n",
      "August       8983\n",
      "May          8232\n",
      "July         8088\n",
      "June         7894\n",
      "October      7605\n",
      "April        7480\n",
      "September    7400\n",
      "March        6458\n",
      "February     4965\n",
      "November     4357\n",
      "December     4132\n",
      "January      3736\n",
      "Name: ArrivalDateMonth, dtype: int64\n",
      "\n",
      "\n",
      "--------------------ArrivalDateWeekNumber--------------------\n",
      "33    2383\n",
      "42    2032\n",
      "20    2016\n",
      "30    2011\n",
      "32    1991\n",
      "17    1965\n",
      "25    1959\n",
      "34    1950\n",
      "21    1948\n",
      "18    1914\n",
      "38    1887\n",
      "23    1869\n",
      "28    1865\n",
      "27    1854\n",
      "41    1842\n",
      "39    1833\n",
      "24    1823\n",
      "15    1783\n",
      "29    1726\n",
      "40    1722\n",
      "22    1697\n",
      "26    1670\n",
      "16    1650\n",
      "35    1642\n",
      "19    1640\n",
      "31    1640\n",
      "13    1605\n",
      "37    1596\n",
      "44    1546\n",
      "14    1525\n",
      "8     1497\n",
      "43    1435\n",
      "12    1427\n",
      "10    1422\n",
      "36    1411\n",
      "11    1391\n",
      "9     1322\n",
      "45    1251\n",
      "7     1205\n",
      "53    1198\n",
      "49    1066\n",
      "46    1060\n",
      "50    1056\n",
      "48    1011\n",
      "47     977\n",
      "4      968\n",
      "5      886\n",
      "6      826\n",
      "3      766\n",
      "2      761\n",
      "1      704\n",
      "52     603\n",
      "51     503\n",
      "Name: ArrivalDateWeekNumber, dtype: int64\n",
      "\n",
      "\n",
      "--------------------ArrivalDateDayOfMonth--------------------\n",
      "17    3012\n",
      "15    2874\n",
      "5     2857\n",
      "20    2835\n",
      "25    2823\n",
      "26    2748\n",
      "19    2747\n",
      "9     2692\n",
      "8     2676\n",
      "28    2670\n",
      "2     2667\n",
      "16    2652\n",
      "6     2641\n",
      "18    2624\n",
      "24    2623\n",
      "13    2605\n",
      "14    2600\n",
      "21    2567\n",
      "27    2537\n",
      "3     2530\n",
      "12    2510\n",
      "4     2461\n",
      "7     2459\n",
      "23    2447\n",
      "10    2390\n",
      "30    2380\n",
      "29    2366\n",
      "1     2332\n",
      "11    2327\n",
      "22    2326\n",
      "31    1352\n",
      "Name: ArrivalDateDayOfMonth, dtype: int64\n",
      "\n",
      "\n",
      "--------------------ArrivalDateYear--------------------\n",
      "2016    38140\n",
      "2017    27508\n",
      "2015    13682\n",
      "Name: ArrivalDateYear, dtype: int64\n",
      "\n",
      "\n",
      "--------------------AssignedRoomType--------------------\n",
      "A                   57007\n",
      "D                   14983\n",
      "E                    2168\n",
      "F                    2018\n",
      "B                    2004\n",
      "G                     700\n",
      "K                     279\n",
      "C                     161\n",
      "P                      10\n",
      "Name: AssignedRoomType, dtype: int64\n",
      "\n",
      "\n",
      "--------------------Company--------------------\n",
      "       NULL    75641\n",
      "         40      924\n",
      "         67      267\n",
      "         45      250\n",
      "        153      215\n",
      "               ...  \n",
      "        305        1\n",
      "        320        1\n",
      "        477        1\n",
      "        330        1\n",
      "        420        1\n",
      "Name: Company, Length: 208, dtype: int64\n",
      "\n",
      "\n",
      "--------------------Country--------------------\n",
      "PRT    30960\n",
      "FRA     8804\n",
      "DEU     6084\n",
      "GBR     5315\n",
      "ESP     4611\n",
      "       ...  \n",
      "MMR        1\n",
      "COM        1\n",
      "BFA        1\n",
      "SYC        1\n",
      "SDN        1\n",
      "Name: Country, Length: 166, dtype: int64\n",
      "\n",
      "\n",
      "--------------------CustomerType--------------------\n",
      "Transient          59404\n",
      "Transient-Party    17333\n",
      "Contract            2300\n",
      "Group                293\n",
      "Name: CustomerType, dtype: int64\n",
      "\n",
      "\n",
      "--------------------DepositType--------------------\n",
      "No Deposit         66442\n",
      "Non Refund         12868\n",
      "Refundable            20\n",
      "Name: DepositType, dtype: int64\n",
      "\n",
      "\n",
      "--------------------DistributionChannel--------------------\n",
      "TA/TO        68945\n",
      "Direct        6780\n",
      "Corporate     3408\n",
      "GDS            193\n",
      "Undefined        4\n",
      "Name: DistributionChannel, dtype: int64\n",
      "\n",
      "\n",
      "--------------------IsCanceled--------------------\n",
      "0    46228\n",
      "1    33102\n",
      "Name: IsCanceled, dtype: int64\n",
      "\n",
      "\n",
      "--------------------IsRepeatedGuest--------------------\n",
      "0    77298\n",
      "1     2032\n",
      "Name: IsRepeatedGuest, dtype: int64\n",
      "\n",
      "\n",
      "--------------------MarketSegment--------------------\n",
      "Online TA        38748\n",
      "Offline TA/TO    16747\n",
      "Groups           13975\n",
      "Direct            6093\n",
      "Corporate         2986\n",
      "Complementary      542\n",
      "Aviation           237\n",
      "Undefined            2\n",
      "Name: MarketSegment, dtype: int64\n",
      "\n",
      "\n",
      "--------------------Meal--------------------\n",
      "BB           62305\n",
      "SC           10564\n",
      "HB            6417\n",
      "FB              44\n",
      "Name: Meal, dtype: int64\n",
      "\n",
      "\n",
      "--------------------ReservationStatus--------------------\n",
      "Check-Out    46228\n",
      "Canceled     32186\n",
      "No-Show        916\n",
      "Name: ReservationStatus, dtype: int64\n",
      "\n",
      "\n",
      "--------------------ReservationStatusDate--------------------\n",
      "2015-10-21    1416\n",
      "2015-07-06     763\n",
      "2015-01-01     760\n",
      "2016-11-25     746\n",
      "2016-01-18     553\n",
      "              ... \n",
      "2015-04-11       1\n",
      "2015-03-29       1\n",
      "2015-04-29       1\n",
      "2015-03-03       1\n",
      "2015-05-21       1\n",
      "Name: ReservationStatusDate, Length: 864, dtype: int64\n",
      "\n",
      "\n",
      "--------------------ReservedRoomType--------------------\n",
      "A                   62595\n",
      "D                   11768\n",
      "F                    1791\n",
      "E                    1553\n",
      "B                    1115\n",
      "G                     484\n",
      "C                      14\n",
      "P                      10\n",
      "Name: ReservedRoomType, dtype: int64\n",
      "\n",
      "\n"
     ]
    }
   ],
   "source": [
    "for col in non_numerical_var:\n",
    "    print(\"--------------------\" + col + \"--------------------\")\n",
    "    print(df[col].value_counts())\n",
    "    print(\"\\n\")"
   ]
  },
  {
   "cell_type": "code",
   "execution_count": 48,
   "metadata": {
    "ExecuteTime": {
     "end_time": "2020-04-10T08:44:21.267650Z",
     "start_time": "2020-04-10T08:44:10.966448Z"
    }
   },
   "outputs": [
    {
     "name": "stderr",
     "output_type": "stream",
     "text": [
      "C:\\Users\\Michael\\Anaconda3\\lib\\site-packages\\pandas\\plotting\\_matplotlib\\tools.py:307: MatplotlibDeprecationWarning:\n",
      "\n",
      "\n",
      "The rowNum attribute was deprecated in Matplotlib 3.2 and will be removed two minor releases later. Use ax.get_subplotspec().rowspan.start instead.\n",
      "\n",
      "C:\\Users\\Michael\\Anaconda3\\lib\\site-packages\\pandas\\plotting\\_matplotlib\\tools.py:307: MatplotlibDeprecationWarning:\n",
      "\n",
      "\n",
      "The colNum attribute was deprecated in Matplotlib 3.2 and will be removed two minor releases later. Use ax.get_subplotspec().colspan.start instead.\n",
      "\n",
      "C:\\Users\\Michael\\Anaconda3\\lib\\site-packages\\pandas\\plotting\\_matplotlib\\tools.py:313: MatplotlibDeprecationWarning:\n",
      "\n",
      "\n",
      "The rowNum attribute was deprecated in Matplotlib 3.2 and will be removed two minor releases later. Use ax.get_subplotspec().rowspan.start instead.\n",
      "\n",
      "C:\\Users\\Michael\\Anaconda3\\lib\\site-packages\\pandas\\plotting\\_matplotlib\\tools.py:313: MatplotlibDeprecationWarning:\n",
      "\n",
      "\n",
      "The colNum attribute was deprecated in Matplotlib 3.2 and will be removed two minor releases later. Use ax.get_subplotspec().colspan.start instead.\n",
      "\n"
     ]
    },
    {
     "name": "stdout",
     "output_type": "stream",
     "text": [
      "Error in callback <function flush_figures at 0x000002BA36661B88> (for post_execute):\n"
     ]
    },
    {
     "ename": "KeyboardInterrupt",
     "evalue": "",
     "output_type": "error",
     "traceback": [
      "\u001b[1;31m---------------------------------------------------------------------------\u001b[0m",
      "\u001b[1;31mKeyboardInterrupt\u001b[0m                         Traceback (most recent call last)",
      "\u001b[1;32m~\\Anaconda3\\lib\\site-packages\\ipykernel\\pylab\\backend_inline.py\u001b[0m in \u001b[0;36mflush_figures\u001b[1;34m()\u001b[0m\n\u001b[0;32m    115\u001b[0m         \u001b[1;31m# ignore the tracking, just draw and close all figures\u001b[0m\u001b[1;33m\u001b[0m\u001b[1;33m\u001b[0m\u001b[1;33m\u001b[0m\u001b[0m\n\u001b[0;32m    116\u001b[0m         \u001b[1;32mtry\u001b[0m\u001b[1;33m:\u001b[0m\u001b[1;33m\u001b[0m\u001b[1;33m\u001b[0m\u001b[0m\n\u001b[1;32m--> 117\u001b[1;33m             \u001b[1;32mreturn\u001b[0m \u001b[0mshow\u001b[0m\u001b[1;33m(\u001b[0m\u001b[1;32mTrue\u001b[0m\u001b[1;33m)\u001b[0m\u001b[1;33m\u001b[0m\u001b[1;33m\u001b[0m\u001b[0m\n\u001b[0m\u001b[0;32m    118\u001b[0m         \u001b[1;32mexcept\u001b[0m \u001b[0mException\u001b[0m \u001b[1;32mas\u001b[0m \u001b[0me\u001b[0m\u001b[1;33m:\u001b[0m\u001b[1;33m\u001b[0m\u001b[1;33m\u001b[0m\u001b[0m\n\u001b[0;32m    119\u001b[0m             \u001b[1;31m# safely show traceback if in IPython, else raise\u001b[0m\u001b[1;33m\u001b[0m\u001b[1;33m\u001b[0m\u001b[1;33m\u001b[0m\u001b[0m\n",
      "\u001b[1;32m~\\Anaconda3\\lib\\site-packages\\ipykernel\\pylab\\backend_inline.py\u001b[0m in \u001b[0;36mshow\u001b[1;34m(close, block)\u001b[0m\n\u001b[0;32m     37\u001b[0m             display(\n\u001b[0;32m     38\u001b[0m                 \u001b[0mfigure_manager\u001b[0m\u001b[1;33m.\u001b[0m\u001b[0mcanvas\u001b[0m\u001b[1;33m.\u001b[0m\u001b[0mfigure\u001b[0m\u001b[1;33m,\u001b[0m\u001b[1;33m\u001b[0m\u001b[1;33m\u001b[0m\u001b[0m\n\u001b[1;32m---> 39\u001b[1;33m                 \u001b[0mmetadata\u001b[0m\u001b[1;33m=\u001b[0m\u001b[0m_fetch_figure_metadata\u001b[0m\u001b[1;33m(\u001b[0m\u001b[0mfigure_manager\u001b[0m\u001b[1;33m.\u001b[0m\u001b[0mcanvas\u001b[0m\u001b[1;33m.\u001b[0m\u001b[0mfigure\u001b[0m\u001b[1;33m)\u001b[0m\u001b[1;33m\u001b[0m\u001b[1;33m\u001b[0m\u001b[0m\n\u001b[0m\u001b[0;32m     40\u001b[0m             )\n\u001b[0;32m     41\u001b[0m     \u001b[1;32mfinally\u001b[0m\u001b[1;33m:\u001b[0m\u001b[1;33m\u001b[0m\u001b[1;33m\u001b[0m\u001b[0m\n",
      "\u001b[1;32m~\\Anaconda3\\lib\\site-packages\\IPython\\core\\display.py\u001b[0m in \u001b[0;36mdisplay\u001b[1;34m(include, exclude, metadata, transient, display_id, *objs, **kwargs)\u001b[0m\n\u001b[0;32m    304\u001b[0m             \u001b[0mpublish_display_data\u001b[0m\u001b[1;33m(\u001b[0m\u001b[0mdata\u001b[0m\u001b[1;33m=\u001b[0m\u001b[0mobj\u001b[0m\u001b[1;33m,\u001b[0m \u001b[0mmetadata\u001b[0m\u001b[1;33m=\u001b[0m\u001b[0mmetadata\u001b[0m\u001b[1;33m,\u001b[0m \u001b[1;33m**\u001b[0m\u001b[0mkwargs\u001b[0m\u001b[1;33m)\u001b[0m\u001b[1;33m\u001b[0m\u001b[1;33m\u001b[0m\u001b[0m\n\u001b[0;32m    305\u001b[0m         \u001b[1;32melse\u001b[0m\u001b[1;33m:\u001b[0m\u001b[1;33m\u001b[0m\u001b[1;33m\u001b[0m\u001b[0m\n\u001b[1;32m--> 306\u001b[1;33m             \u001b[0mformat_dict\u001b[0m\u001b[1;33m,\u001b[0m \u001b[0mmd_dict\u001b[0m \u001b[1;33m=\u001b[0m \u001b[0mformat\u001b[0m\u001b[1;33m(\u001b[0m\u001b[0mobj\u001b[0m\u001b[1;33m,\u001b[0m \u001b[0minclude\u001b[0m\u001b[1;33m=\u001b[0m\u001b[0minclude\u001b[0m\u001b[1;33m,\u001b[0m \u001b[0mexclude\u001b[0m\u001b[1;33m=\u001b[0m\u001b[0mexclude\u001b[0m\u001b[1;33m)\u001b[0m\u001b[1;33m\u001b[0m\u001b[1;33m\u001b[0m\u001b[0m\n\u001b[0m\u001b[0;32m    307\u001b[0m             \u001b[1;32mif\u001b[0m \u001b[1;32mnot\u001b[0m \u001b[0mformat_dict\u001b[0m\u001b[1;33m:\u001b[0m\u001b[1;33m\u001b[0m\u001b[1;33m\u001b[0m\u001b[0m\n\u001b[0;32m    308\u001b[0m                 \u001b[1;31m# nothing to display (e.g. _ipython_display_ took over)\u001b[0m\u001b[1;33m\u001b[0m\u001b[1;33m\u001b[0m\u001b[1;33m\u001b[0m\u001b[0m\n",
      "\u001b[1;32m~\\Anaconda3\\lib\\site-packages\\IPython\\core\\formatters.py\u001b[0m in \u001b[0;36mformat\u001b[1;34m(self, obj, include, exclude)\u001b[0m\n\u001b[0;32m    178\u001b[0m             \u001b[0mmd\u001b[0m \u001b[1;33m=\u001b[0m \u001b[1;32mNone\u001b[0m\u001b[1;33m\u001b[0m\u001b[1;33m\u001b[0m\u001b[0m\n\u001b[0;32m    179\u001b[0m             \u001b[1;32mtry\u001b[0m\u001b[1;33m:\u001b[0m\u001b[1;33m\u001b[0m\u001b[1;33m\u001b[0m\u001b[0m\n\u001b[1;32m--> 180\u001b[1;33m                 \u001b[0mdata\u001b[0m \u001b[1;33m=\u001b[0m \u001b[0mformatter\u001b[0m\u001b[1;33m(\u001b[0m\u001b[0mobj\u001b[0m\u001b[1;33m)\u001b[0m\u001b[1;33m\u001b[0m\u001b[1;33m\u001b[0m\u001b[0m\n\u001b[0m\u001b[0;32m    181\u001b[0m             \u001b[1;32mexcept\u001b[0m\u001b[1;33m:\u001b[0m\u001b[1;33m\u001b[0m\u001b[1;33m\u001b[0m\u001b[0m\n\u001b[0;32m    182\u001b[0m                 \u001b[1;31m# FIXME: log the exception\u001b[0m\u001b[1;33m\u001b[0m\u001b[1;33m\u001b[0m\u001b[1;33m\u001b[0m\u001b[0m\n",
      "\u001b[1;32m<C:\\Users\\Michael\\Anaconda3\\lib\\site-packages\\decorator.py:decorator-gen-9>\u001b[0m in \u001b[0;36m__call__\u001b[1;34m(self, obj)\u001b[0m\n",
      "\u001b[1;32m~\\Anaconda3\\lib\\site-packages\\IPython\\core\\formatters.py\u001b[0m in \u001b[0;36mcatch_format_error\u001b[1;34m(method, self, *args, **kwargs)\u001b[0m\n\u001b[0;32m    222\u001b[0m     \u001b[1;34m\"\"\"show traceback on failed format call\"\"\"\u001b[0m\u001b[1;33m\u001b[0m\u001b[1;33m\u001b[0m\u001b[0m\n\u001b[0;32m    223\u001b[0m     \u001b[1;32mtry\u001b[0m\u001b[1;33m:\u001b[0m\u001b[1;33m\u001b[0m\u001b[1;33m\u001b[0m\u001b[0m\n\u001b[1;32m--> 224\u001b[1;33m         \u001b[0mr\u001b[0m \u001b[1;33m=\u001b[0m \u001b[0mmethod\u001b[0m\u001b[1;33m(\u001b[0m\u001b[0mself\u001b[0m\u001b[1;33m,\u001b[0m \u001b[1;33m*\u001b[0m\u001b[0margs\u001b[0m\u001b[1;33m,\u001b[0m \u001b[1;33m**\u001b[0m\u001b[0mkwargs\u001b[0m\u001b[1;33m)\u001b[0m\u001b[1;33m\u001b[0m\u001b[1;33m\u001b[0m\u001b[0m\n\u001b[0m\u001b[0;32m    225\u001b[0m     \u001b[1;32mexcept\u001b[0m \u001b[0mNotImplementedError\u001b[0m\u001b[1;33m:\u001b[0m\u001b[1;33m\u001b[0m\u001b[1;33m\u001b[0m\u001b[0m\n\u001b[0;32m    226\u001b[0m         \u001b[1;31m# don't warn on NotImplementedErrors\u001b[0m\u001b[1;33m\u001b[0m\u001b[1;33m\u001b[0m\u001b[1;33m\u001b[0m\u001b[0m\n",
      "\u001b[1;32m~\\Anaconda3\\lib\\site-packages\\IPython\\core\\formatters.py\u001b[0m in \u001b[0;36m__call__\u001b[1;34m(self, obj)\u001b[0m\n\u001b[0;32m    339\u001b[0m                 \u001b[1;32mpass\u001b[0m\u001b[1;33m\u001b[0m\u001b[1;33m\u001b[0m\u001b[0m\n\u001b[0;32m    340\u001b[0m             \u001b[1;32melse\u001b[0m\u001b[1;33m:\u001b[0m\u001b[1;33m\u001b[0m\u001b[1;33m\u001b[0m\u001b[0m\n\u001b[1;32m--> 341\u001b[1;33m                 \u001b[1;32mreturn\u001b[0m \u001b[0mprinter\u001b[0m\u001b[1;33m(\u001b[0m\u001b[0mobj\u001b[0m\u001b[1;33m)\u001b[0m\u001b[1;33m\u001b[0m\u001b[1;33m\u001b[0m\u001b[0m\n\u001b[0m\u001b[0;32m    342\u001b[0m             \u001b[1;31m# Finally look for special method names\u001b[0m\u001b[1;33m\u001b[0m\u001b[1;33m\u001b[0m\u001b[1;33m\u001b[0m\u001b[0m\n\u001b[0;32m    343\u001b[0m             \u001b[0mmethod\u001b[0m \u001b[1;33m=\u001b[0m \u001b[0mget_real_method\u001b[0m\u001b[1;33m(\u001b[0m\u001b[0mobj\u001b[0m\u001b[1;33m,\u001b[0m \u001b[0mself\u001b[0m\u001b[1;33m.\u001b[0m\u001b[0mprint_method\u001b[0m\u001b[1;33m)\u001b[0m\u001b[1;33m\u001b[0m\u001b[1;33m\u001b[0m\u001b[0m\n",
      "\u001b[1;32m~\\Anaconda3\\lib\\site-packages\\IPython\\core\\pylabtools.py\u001b[0m in \u001b[0;36m<lambda>\u001b[1;34m(fig)\u001b[0m\n\u001b[0;32m    242\u001b[0m \u001b[1;33m\u001b[0m\u001b[0m\n\u001b[0;32m    243\u001b[0m     \u001b[1;32mif\u001b[0m \u001b[1;34m'png'\u001b[0m \u001b[1;32min\u001b[0m \u001b[0mformats\u001b[0m\u001b[1;33m:\u001b[0m\u001b[1;33m\u001b[0m\u001b[1;33m\u001b[0m\u001b[0m\n\u001b[1;32m--> 244\u001b[1;33m         \u001b[0mpng_formatter\u001b[0m\u001b[1;33m.\u001b[0m\u001b[0mfor_type\u001b[0m\u001b[1;33m(\u001b[0m\u001b[0mFigure\u001b[0m\u001b[1;33m,\u001b[0m \u001b[1;32mlambda\u001b[0m \u001b[0mfig\u001b[0m\u001b[1;33m:\u001b[0m \u001b[0mprint_figure\u001b[0m\u001b[1;33m(\u001b[0m\u001b[0mfig\u001b[0m\u001b[1;33m,\u001b[0m \u001b[1;34m'png'\u001b[0m\u001b[1;33m,\u001b[0m \u001b[1;33m**\u001b[0m\u001b[0mkwargs\u001b[0m\u001b[1;33m)\u001b[0m\u001b[1;33m)\u001b[0m\u001b[1;33m\u001b[0m\u001b[1;33m\u001b[0m\u001b[0m\n\u001b[0m\u001b[0;32m    245\u001b[0m     \u001b[1;32mif\u001b[0m \u001b[1;34m'retina'\u001b[0m \u001b[1;32min\u001b[0m \u001b[0mformats\u001b[0m \u001b[1;32mor\u001b[0m \u001b[1;34m'png2x'\u001b[0m \u001b[1;32min\u001b[0m \u001b[0mformats\u001b[0m\u001b[1;33m:\u001b[0m\u001b[1;33m\u001b[0m\u001b[1;33m\u001b[0m\u001b[0m\n\u001b[0;32m    246\u001b[0m         \u001b[0mpng_formatter\u001b[0m\u001b[1;33m.\u001b[0m\u001b[0mfor_type\u001b[0m\u001b[1;33m(\u001b[0m\u001b[0mFigure\u001b[0m\u001b[1;33m,\u001b[0m \u001b[1;32mlambda\u001b[0m \u001b[0mfig\u001b[0m\u001b[1;33m:\u001b[0m \u001b[0mretina_figure\u001b[0m\u001b[1;33m(\u001b[0m\u001b[0mfig\u001b[0m\u001b[1;33m,\u001b[0m \u001b[1;33m**\u001b[0m\u001b[0mkwargs\u001b[0m\u001b[1;33m)\u001b[0m\u001b[1;33m)\u001b[0m\u001b[1;33m\u001b[0m\u001b[1;33m\u001b[0m\u001b[0m\n",
      "\u001b[1;32m~\\Anaconda3\\lib\\site-packages\\IPython\\core\\pylabtools.py\u001b[0m in \u001b[0;36mprint_figure\u001b[1;34m(fig, fmt, bbox_inches, **kwargs)\u001b[0m\n\u001b[0;32m    126\u001b[0m \u001b[1;33m\u001b[0m\u001b[0m\n\u001b[0;32m    127\u001b[0m     \u001b[0mbytes_io\u001b[0m \u001b[1;33m=\u001b[0m \u001b[0mBytesIO\u001b[0m\u001b[1;33m(\u001b[0m\u001b[1;33m)\u001b[0m\u001b[1;33m\u001b[0m\u001b[1;33m\u001b[0m\u001b[0m\n\u001b[1;32m--> 128\u001b[1;33m     \u001b[0mfig\u001b[0m\u001b[1;33m.\u001b[0m\u001b[0mcanvas\u001b[0m\u001b[1;33m.\u001b[0m\u001b[0mprint_figure\u001b[0m\u001b[1;33m(\u001b[0m\u001b[0mbytes_io\u001b[0m\u001b[1;33m,\u001b[0m \u001b[1;33m**\u001b[0m\u001b[0mkw\u001b[0m\u001b[1;33m)\u001b[0m\u001b[1;33m\u001b[0m\u001b[1;33m\u001b[0m\u001b[0m\n\u001b[0m\u001b[0;32m    129\u001b[0m     \u001b[0mdata\u001b[0m \u001b[1;33m=\u001b[0m \u001b[0mbytes_io\u001b[0m\u001b[1;33m.\u001b[0m\u001b[0mgetvalue\u001b[0m\u001b[1;33m(\u001b[0m\u001b[1;33m)\u001b[0m\u001b[1;33m\u001b[0m\u001b[1;33m\u001b[0m\u001b[0m\n\u001b[0;32m    130\u001b[0m     \u001b[1;32mif\u001b[0m \u001b[0mfmt\u001b[0m \u001b[1;33m==\u001b[0m \u001b[1;34m'svg'\u001b[0m\u001b[1;33m:\u001b[0m\u001b[1;33m\u001b[0m\u001b[1;33m\u001b[0m\u001b[0m\n",
      "\u001b[1;32m~\\Anaconda3\\lib\\site-packages\\matplotlib\\backend_bases.py\u001b[0m in \u001b[0;36mprint_figure\u001b[1;34m(self, filename, dpi, facecolor, edgecolor, orientation, format, bbox_inches, **kwargs)\u001b[0m\n\u001b[0;32m   2068\u001b[0m                     \u001b[0mbbox_artists\u001b[0m \u001b[1;33m=\u001b[0m \u001b[0mkwargs\u001b[0m\u001b[1;33m.\u001b[0m\u001b[0mpop\u001b[0m\u001b[1;33m(\u001b[0m\u001b[1;34m\"bbox_extra_artists\"\u001b[0m\u001b[1;33m,\u001b[0m \u001b[1;32mNone\u001b[0m\u001b[1;33m)\u001b[0m\u001b[1;33m\u001b[0m\u001b[1;33m\u001b[0m\u001b[0m\n\u001b[0;32m   2069\u001b[0m                     bbox_inches = self.figure.get_tightbbox(renderer,\n\u001b[1;32m-> 2070\u001b[1;33m                             bbox_extra_artists=bbox_artists)\n\u001b[0m\u001b[0;32m   2071\u001b[0m                     \u001b[0mpad\u001b[0m \u001b[1;33m=\u001b[0m \u001b[0mkwargs\u001b[0m\u001b[1;33m.\u001b[0m\u001b[0mpop\u001b[0m\u001b[1;33m(\u001b[0m\u001b[1;34m\"pad_inches\"\u001b[0m\u001b[1;33m,\u001b[0m \u001b[1;32mNone\u001b[0m\u001b[1;33m)\u001b[0m\u001b[1;33m\u001b[0m\u001b[1;33m\u001b[0m\u001b[0m\n\u001b[0;32m   2072\u001b[0m                     \u001b[1;32mif\u001b[0m \u001b[0mpad\u001b[0m \u001b[1;32mis\u001b[0m \u001b[1;32mNone\u001b[0m\u001b[1;33m:\u001b[0m\u001b[1;33m\u001b[0m\u001b[1;33m\u001b[0m\u001b[0m\n",
      "\u001b[1;32m~\\Anaconda3\\lib\\site-packages\\matplotlib\\figure.py\u001b[0m in \u001b[0;36mget_tightbbox\u001b[1;34m(self, renderer, bbox_extra_artists)\u001b[0m\n\u001b[0;32m   2383\u001b[0m \u001b[1;33m\u001b[0m\u001b[0m\n\u001b[0;32m   2384\u001b[0m         \u001b[1;32mfor\u001b[0m \u001b[0ma\u001b[0m \u001b[1;32min\u001b[0m \u001b[0martists\u001b[0m\u001b[1;33m:\u001b[0m\u001b[1;33m\u001b[0m\u001b[1;33m\u001b[0m\u001b[0m\n\u001b[1;32m-> 2385\u001b[1;33m             \u001b[0mbbox\u001b[0m \u001b[1;33m=\u001b[0m \u001b[0ma\u001b[0m\u001b[1;33m.\u001b[0m\u001b[0mget_tightbbox\u001b[0m\u001b[1;33m(\u001b[0m\u001b[0mrenderer\u001b[0m\u001b[1;33m)\u001b[0m\u001b[1;33m\u001b[0m\u001b[1;33m\u001b[0m\u001b[0m\n\u001b[0m\u001b[0;32m   2386\u001b[0m             \u001b[1;32mif\u001b[0m \u001b[0mbbox\u001b[0m \u001b[1;32mis\u001b[0m \u001b[1;32mnot\u001b[0m \u001b[1;32mNone\u001b[0m \u001b[1;32mand\u001b[0m \u001b[1;33m(\u001b[0m\u001b[0mbbox\u001b[0m\u001b[1;33m.\u001b[0m\u001b[0mwidth\u001b[0m \u001b[1;33m!=\u001b[0m \u001b[1;36m0\u001b[0m \u001b[1;32mor\u001b[0m \u001b[0mbbox\u001b[0m\u001b[1;33m.\u001b[0m\u001b[0mheight\u001b[0m \u001b[1;33m!=\u001b[0m \u001b[1;36m0\u001b[0m\u001b[1;33m)\u001b[0m\u001b[1;33m:\u001b[0m\u001b[1;33m\u001b[0m\u001b[1;33m\u001b[0m\u001b[0m\n\u001b[0;32m   2387\u001b[0m                 \u001b[0mbb\u001b[0m\u001b[1;33m.\u001b[0m\u001b[0mappend\u001b[0m\u001b[1;33m(\u001b[0m\u001b[0mbbox\u001b[0m\u001b[1;33m)\u001b[0m\u001b[1;33m\u001b[0m\u001b[1;33m\u001b[0m\u001b[0m\n",
      "\u001b[1;32m~\\Anaconda3\\lib\\site-packages\\matplotlib\\axes\\_base.py\u001b[0m in \u001b[0;36mget_tightbbox\u001b[1;34m(self, renderer, call_axes_locator, bbox_extra_artists)\u001b[0m\n\u001b[0;32m   4319\u001b[0m                 \u001b[0mbb\u001b[0m\u001b[1;33m.\u001b[0m\u001b[0mappend\u001b[0m\u001b[1;33m(\u001b[0m\u001b[0mbb_xaxis\u001b[0m\u001b[1;33m)\u001b[0m\u001b[1;33m\u001b[0m\u001b[1;33m\u001b[0m\u001b[0m\n\u001b[0;32m   4320\u001b[0m \u001b[1;33m\u001b[0m\u001b[0m\n\u001b[1;32m-> 4321\u001b[1;33m             \u001b[0mbb_yaxis\u001b[0m \u001b[1;33m=\u001b[0m \u001b[0mself\u001b[0m\u001b[1;33m.\u001b[0m\u001b[0myaxis\u001b[0m\u001b[1;33m.\u001b[0m\u001b[0mget_tightbbox\u001b[0m\u001b[1;33m(\u001b[0m\u001b[0mrenderer\u001b[0m\u001b[1;33m)\u001b[0m\u001b[1;33m\u001b[0m\u001b[1;33m\u001b[0m\u001b[0m\n\u001b[0m\u001b[0;32m   4322\u001b[0m             \u001b[1;32mif\u001b[0m \u001b[0mbb_yaxis\u001b[0m\u001b[1;33m:\u001b[0m\u001b[1;33m\u001b[0m\u001b[1;33m\u001b[0m\u001b[0m\n\u001b[0;32m   4323\u001b[0m                 \u001b[0mbb\u001b[0m\u001b[1;33m.\u001b[0m\u001b[0mappend\u001b[0m\u001b[1;33m(\u001b[0m\u001b[0mbb_yaxis\u001b[0m\u001b[1;33m)\u001b[0m\u001b[1;33m\u001b[0m\u001b[1;33m\u001b[0m\u001b[0m\n",
      "\u001b[1;32m~\\Anaconda3\\lib\\site-packages\\matplotlib\\axis.py\u001b[0m in \u001b[0;36mget_tightbbox\u001b[1;34m(self, renderer)\u001b[0m\n\u001b[0;32m   1186\u001b[0m         \u001b[0mticks_to_draw\u001b[0m \u001b[1;33m=\u001b[0m \u001b[0mself\u001b[0m\u001b[1;33m.\u001b[0m\u001b[0m_update_ticks\u001b[0m\u001b[1;33m(\u001b[0m\u001b[1;33m)\u001b[0m\u001b[1;33m\u001b[0m\u001b[1;33m\u001b[0m\u001b[0m\n\u001b[0;32m   1187\u001b[0m \u001b[1;33m\u001b[0m\u001b[0m\n\u001b[1;32m-> 1188\u001b[1;33m         \u001b[0mself\u001b[0m\u001b[1;33m.\u001b[0m\u001b[0m_update_label_position\u001b[0m\u001b[1;33m(\u001b[0m\u001b[0mrenderer\u001b[0m\u001b[1;33m)\u001b[0m\u001b[1;33m\u001b[0m\u001b[1;33m\u001b[0m\u001b[0m\n\u001b[0m\u001b[0;32m   1189\u001b[0m \u001b[1;33m\u001b[0m\u001b[0m\n\u001b[0;32m   1190\u001b[0m         \u001b[1;31m# go back to just this axis's tick labels\u001b[0m\u001b[1;33m\u001b[0m\u001b[1;33m\u001b[0m\u001b[1;33m\u001b[0m\u001b[0m\n",
      "\u001b[1;32m~\\Anaconda3\\lib\\site-packages\\matplotlib\\axis.py\u001b[0m in \u001b[0;36m_update_label_position\u001b[1;34m(self, renderer)\u001b[0m\n\u001b[0;32m   2322\u001b[0m                 \u001b[1;31m# use axes if spine doesn't exist\u001b[0m\u001b[1;33m\u001b[0m\u001b[1;33m\u001b[0m\u001b[1;33m\u001b[0m\u001b[0m\n\u001b[0;32m   2323\u001b[0m                 \u001b[0mspinebbox\u001b[0m \u001b[1;33m=\u001b[0m \u001b[0mself\u001b[0m\u001b[1;33m.\u001b[0m\u001b[0maxes\u001b[0m\u001b[1;33m.\u001b[0m\u001b[0mbbox\u001b[0m\u001b[1;33m\u001b[0m\u001b[1;33m\u001b[0m\u001b[0m\n\u001b[1;32m-> 2324\u001b[1;33m             \u001b[0mbbox\u001b[0m \u001b[1;33m=\u001b[0m \u001b[0mmtransforms\u001b[0m\u001b[1;33m.\u001b[0m\u001b[0mBbox\u001b[0m\u001b[1;33m.\u001b[0m\u001b[0munion\u001b[0m\u001b[1;33m(\u001b[0m\u001b[0mbboxes\u001b[0m \u001b[1;33m+\u001b[0m \u001b[1;33m[\u001b[0m\u001b[0mspinebbox\u001b[0m\u001b[1;33m]\u001b[0m\u001b[1;33m)\u001b[0m\u001b[1;33m\u001b[0m\u001b[1;33m\u001b[0m\u001b[0m\n\u001b[0m\u001b[0;32m   2325\u001b[0m             \u001b[0mleft\u001b[0m \u001b[1;33m=\u001b[0m \u001b[0mbbox\u001b[0m\u001b[1;33m.\u001b[0m\u001b[0mx0\u001b[0m\u001b[1;33m\u001b[0m\u001b[1;33m\u001b[0m\u001b[0m\n\u001b[0;32m   2326\u001b[0m             self.label.set_position(\n",
      "\u001b[1;32m~\\Anaconda3\\lib\\site-packages\\matplotlib\\transforms.py\u001b[0m in \u001b[0;36munion\u001b[1;34m(bboxes)\u001b[0m\n\u001b[0;32m    701\u001b[0m         \u001b[1;31m# can remove once we are at numpy >= 1.15\u001b[0m\u001b[1;33m\u001b[0m\u001b[1;33m\u001b[0m\u001b[1;33m\u001b[0m\u001b[0m\n\u001b[0;32m    702\u001b[0m         \u001b[1;32mwith\u001b[0m \u001b[0mnp\u001b[0m\u001b[1;33m.\u001b[0m\u001b[0merrstate\u001b[0m\u001b[1;33m(\u001b[0m\u001b[0minvalid\u001b[0m\u001b[1;33m=\u001b[0m\u001b[1;34m'ignore'\u001b[0m\u001b[1;33m)\u001b[0m\u001b[1;33m:\u001b[0m\u001b[1;33m\u001b[0m\u001b[1;33m\u001b[0m\u001b[0m\n\u001b[1;32m--> 703\u001b[1;33m             \u001b[0mx0\u001b[0m \u001b[1;33m=\u001b[0m \u001b[0mnp\u001b[0m\u001b[1;33m.\u001b[0m\u001b[0mmin\u001b[0m\u001b[1;33m(\u001b[0m\u001b[1;33m[\u001b[0m\u001b[0mbbox\u001b[0m\u001b[1;33m.\u001b[0m\u001b[0mxmin\u001b[0m \u001b[1;32mfor\u001b[0m \u001b[0mbbox\u001b[0m \u001b[1;32min\u001b[0m \u001b[0mbboxes\u001b[0m\u001b[1;33m]\u001b[0m\u001b[1;33m)\u001b[0m\u001b[1;33m\u001b[0m\u001b[1;33m\u001b[0m\u001b[0m\n\u001b[0m\u001b[0;32m    704\u001b[0m             \u001b[0mx1\u001b[0m \u001b[1;33m=\u001b[0m \u001b[0mnp\u001b[0m\u001b[1;33m.\u001b[0m\u001b[0mmax\u001b[0m\u001b[1;33m(\u001b[0m\u001b[1;33m[\u001b[0m\u001b[0mbbox\u001b[0m\u001b[1;33m.\u001b[0m\u001b[0mxmax\u001b[0m \u001b[1;32mfor\u001b[0m \u001b[0mbbox\u001b[0m \u001b[1;32min\u001b[0m \u001b[0mbboxes\u001b[0m\u001b[1;33m]\u001b[0m\u001b[1;33m)\u001b[0m\u001b[1;33m\u001b[0m\u001b[1;33m\u001b[0m\u001b[0m\n\u001b[0;32m    705\u001b[0m             \u001b[0my0\u001b[0m \u001b[1;33m=\u001b[0m \u001b[0mnp\u001b[0m\u001b[1;33m.\u001b[0m\u001b[0mmin\u001b[0m\u001b[1;33m(\u001b[0m\u001b[1;33m[\u001b[0m\u001b[0mbbox\u001b[0m\u001b[1;33m.\u001b[0m\u001b[0mymin\u001b[0m \u001b[1;32mfor\u001b[0m \u001b[0mbbox\u001b[0m \u001b[1;32min\u001b[0m \u001b[0mbboxes\u001b[0m\u001b[1;33m]\u001b[0m\u001b[1;33m)\u001b[0m\u001b[1;33m\u001b[0m\u001b[1;33m\u001b[0m\u001b[0m\n",
      "\u001b[1;32m~\\Anaconda3\\lib\\site-packages\\matplotlib\\transforms.py\u001b[0m in \u001b[0;36m<listcomp>\u001b[1;34m(.0)\u001b[0m\n\u001b[0;32m    701\u001b[0m         \u001b[1;31m# can remove once we are at numpy >= 1.15\u001b[0m\u001b[1;33m\u001b[0m\u001b[1;33m\u001b[0m\u001b[1;33m\u001b[0m\u001b[0m\n\u001b[0;32m    702\u001b[0m         \u001b[1;32mwith\u001b[0m \u001b[0mnp\u001b[0m\u001b[1;33m.\u001b[0m\u001b[0merrstate\u001b[0m\u001b[1;33m(\u001b[0m\u001b[0minvalid\u001b[0m\u001b[1;33m=\u001b[0m\u001b[1;34m'ignore'\u001b[0m\u001b[1;33m)\u001b[0m\u001b[1;33m:\u001b[0m\u001b[1;33m\u001b[0m\u001b[1;33m\u001b[0m\u001b[0m\n\u001b[1;32m--> 703\u001b[1;33m             \u001b[0mx0\u001b[0m \u001b[1;33m=\u001b[0m \u001b[0mnp\u001b[0m\u001b[1;33m.\u001b[0m\u001b[0mmin\u001b[0m\u001b[1;33m(\u001b[0m\u001b[1;33m[\u001b[0m\u001b[0mbbox\u001b[0m\u001b[1;33m.\u001b[0m\u001b[0mxmin\u001b[0m \u001b[1;32mfor\u001b[0m \u001b[0mbbox\u001b[0m \u001b[1;32min\u001b[0m \u001b[0mbboxes\u001b[0m\u001b[1;33m]\u001b[0m\u001b[1;33m)\u001b[0m\u001b[1;33m\u001b[0m\u001b[1;33m\u001b[0m\u001b[0m\n\u001b[0m\u001b[0;32m    704\u001b[0m             \u001b[0mx1\u001b[0m \u001b[1;33m=\u001b[0m \u001b[0mnp\u001b[0m\u001b[1;33m.\u001b[0m\u001b[0mmax\u001b[0m\u001b[1;33m(\u001b[0m\u001b[1;33m[\u001b[0m\u001b[0mbbox\u001b[0m\u001b[1;33m.\u001b[0m\u001b[0mxmax\u001b[0m \u001b[1;32mfor\u001b[0m \u001b[0mbbox\u001b[0m \u001b[1;32min\u001b[0m \u001b[0mbboxes\u001b[0m\u001b[1;33m]\u001b[0m\u001b[1;33m)\u001b[0m\u001b[1;33m\u001b[0m\u001b[1;33m\u001b[0m\u001b[0m\n\u001b[0;32m    705\u001b[0m             \u001b[0my0\u001b[0m \u001b[1;33m=\u001b[0m \u001b[0mnp\u001b[0m\u001b[1;33m.\u001b[0m\u001b[0mmin\u001b[0m\u001b[1;33m(\u001b[0m\u001b[1;33m[\u001b[0m\u001b[0mbbox\u001b[0m\u001b[1;33m.\u001b[0m\u001b[0mymin\u001b[0m \u001b[1;32mfor\u001b[0m \u001b[0mbbox\u001b[0m \u001b[1;32min\u001b[0m \u001b[0mbboxes\u001b[0m\u001b[1;33m]\u001b[0m\u001b[1;33m)\u001b[0m\u001b[1;33m\u001b[0m\u001b[1;33m\u001b[0m\u001b[0m\n",
      "\u001b[1;32m~\\Anaconda3\\lib\\site-packages\\matplotlib\\transforms.py\u001b[0m in \u001b[0;36mxmin\u001b[1;34m(self)\u001b[0m\n\u001b[0;32m    347\u001b[0m     \u001b[1;32mdef\u001b[0m \u001b[0mxmin\u001b[0m\u001b[1;33m(\u001b[0m\u001b[0mself\u001b[0m\u001b[1;33m)\u001b[0m\u001b[1;33m:\u001b[0m\u001b[1;33m\u001b[0m\u001b[1;33m\u001b[0m\u001b[0m\n\u001b[0;32m    348\u001b[0m         \u001b[1;34m\"\"\"The left edge of the bounding box.\"\"\"\u001b[0m\u001b[1;33m\u001b[0m\u001b[1;33m\u001b[0m\u001b[0m\n\u001b[1;32m--> 349\u001b[1;33m         \u001b[1;32mreturn\u001b[0m \u001b[0mnp\u001b[0m\u001b[1;33m.\u001b[0m\u001b[0mmin\u001b[0m\u001b[1;33m(\u001b[0m\u001b[0mself\u001b[0m\u001b[1;33m.\u001b[0m\u001b[0mget_points\u001b[0m\u001b[1;33m(\u001b[0m\u001b[1;33m)\u001b[0m\u001b[1;33m[\u001b[0m\u001b[1;33m:\u001b[0m\u001b[1;33m,\u001b[0m \u001b[1;36m0\u001b[0m\u001b[1;33m]\u001b[0m\u001b[1;33m)\u001b[0m\u001b[1;33m\u001b[0m\u001b[1;33m\u001b[0m\u001b[0m\n\u001b[0m\u001b[0;32m    350\u001b[0m \u001b[1;33m\u001b[0m\u001b[0m\n\u001b[0;32m    351\u001b[0m     \u001b[1;33m@\u001b[0m\u001b[0mproperty\u001b[0m\u001b[1;33m\u001b[0m\u001b[1;33m\u001b[0m\u001b[0m\n",
      "\u001b[1;32m~\\Anaconda3\\lib\\site-packages\\numpy\\core\\fromnumeric.py\u001b[0m in \u001b[0;36mamin\u001b[1;34m(a, axis, out, keepdims, initial)\u001b[0m\n\u001b[0;32m   2616\u001b[0m     \"\"\"\n\u001b[0;32m   2617\u001b[0m     return _wrapreduction(a, np.minimum, 'min', axis, None, out, keepdims=keepdims,\n\u001b[1;32m-> 2618\u001b[1;33m                           initial=initial)\n\u001b[0m\u001b[0;32m   2619\u001b[0m \u001b[1;33m\u001b[0m\u001b[0m\n\u001b[0;32m   2620\u001b[0m \u001b[1;33m\u001b[0m\u001b[0m\n",
      "\u001b[1;32m~\\Anaconda3\\lib\\site-packages\\numpy\\core\\fromnumeric.py\u001b[0m in \u001b[0;36m_wrapreduction\u001b[1;34m(obj, ufunc, method, axis, dtype, out, **kwargs)\u001b[0m\n\u001b[0;32m     84\u001b[0m                 \u001b[1;32mreturn\u001b[0m \u001b[0mreduction\u001b[0m\u001b[1;33m(\u001b[0m\u001b[0maxis\u001b[0m\u001b[1;33m=\u001b[0m\u001b[0maxis\u001b[0m\u001b[1;33m,\u001b[0m \u001b[0mout\u001b[0m\u001b[1;33m=\u001b[0m\u001b[0mout\u001b[0m\u001b[1;33m,\u001b[0m \u001b[1;33m**\u001b[0m\u001b[0mpasskwargs\u001b[0m\u001b[1;33m)\u001b[0m\u001b[1;33m\u001b[0m\u001b[1;33m\u001b[0m\u001b[0m\n\u001b[0;32m     85\u001b[0m \u001b[1;33m\u001b[0m\u001b[0m\n\u001b[1;32m---> 86\u001b[1;33m     \u001b[1;32mreturn\u001b[0m \u001b[0mufunc\u001b[0m\u001b[1;33m.\u001b[0m\u001b[0mreduce\u001b[0m\u001b[1;33m(\u001b[0m\u001b[0mobj\u001b[0m\u001b[1;33m,\u001b[0m \u001b[0maxis\u001b[0m\u001b[1;33m,\u001b[0m \u001b[0mdtype\u001b[0m\u001b[1;33m,\u001b[0m \u001b[0mout\u001b[0m\u001b[1;33m,\u001b[0m \u001b[1;33m**\u001b[0m\u001b[0mpasskwargs\u001b[0m\u001b[1;33m)\u001b[0m\u001b[1;33m\u001b[0m\u001b[1;33m\u001b[0m\u001b[0m\n\u001b[0m\u001b[0;32m     87\u001b[0m \u001b[1;33m\u001b[0m\u001b[0m\n\u001b[0;32m     88\u001b[0m \u001b[1;33m\u001b[0m\u001b[0m\n",
      "\u001b[1;31mKeyboardInterrupt\u001b[0m: "
     ]
    }
   ],
   "source": [
    "# Do histograms on all numeric variables\n",
    "df[numerical_var].hist(bins=15, figsize=(15, 20), layout=(8, 3), xlabelsize=8, ylabelsize=8);"
   ]
  },
  {
   "cell_type": "code",
   "execution_count": 49,
   "metadata": {
    "ExecuteTime": {
     "end_time": "2020-04-10T08:44:29.651717Z",
     "start_time": "2020-04-10T08:44:21.279705Z"
    }
   },
   "outputs": [
    {
     "data": {
      "image/png": "[encoded data removed]",
      "text/plain": [
       "<Figure size 1440x1440 with 12 Axes>"
      ]
     },
     "metadata": {
      "needs_background": "light"
     },
     "output_type": "display_data"
    }
   ],
   "source": [
    "#boxplots to detect outliers\n",
    "fig, ax = plt.subplots(4, 3, figsize=(20, 20))\n",
    "fig.tight_layout()\n",
    "for var, subplot in zip(df[numerical_var], ax.flatten()):\n",
    "    sns.boxplot(df[var], ax=subplot)"
   ]
  },
  {
   "cell_type": "code",
   "execution_count": 50,
   "metadata": {
    "ExecuteTime": {
     "end_time": "2020-04-10T08:44:33.241297Z",
     "start_time": "2020-04-10T08:44:29.659707Z"
    }
   },
   "outputs": [
    {
     "data": {
      "image/png": "[encoded data removed]",
      "text/plain": [
       "<Figure size 720x720 with 2 Axes>"
      ]
     },
     "metadata": {
      "needs_background": "light"
     },
     "output_type": "display_data"
    }
   ],
   "source": [
    "corr = df[numerical_var].corr()\n",
    "plt.figure(figsize=(10, 10))\n",
    "sns.set(font_scale=1.4)\n",
    "ax = sns.heatmap(\n",
    "    corr, \n",
    "    vmin=-1, vmax=1, center=0,\n",
    "    cmap=sns.diverging_palette(20, 220, n=200),\n",
    "    square=True,\n",
    "    annot=False, annot_kws={\"size\": 12}\n",
    ")\n",
    "bottom, top = ax.get_ylim() # These two lines were added due to bug on current Seaborn version\n",
    "ax.set_ylim(bottom + 0.5, top - 0.5) #\n",
    "ax.set_xticklabels(\n",
    "    ax.get_xticklabels(),\n",
    "    rotation=45,\n",
    "    horizontalalignment='right'\n",
    ");"
   ]
  },
  {
   "cell_type": "code",
   "execution_count": 51,
   "metadata": {
    "ExecuteTime": {
     "end_time": "2020-04-10T08:44:35.370148Z",
     "start_time": "2020-04-10T08:44:33.245292Z"
    }
   },
   "outputs": [
    {
     "ename": "KeyboardInterrupt",
     "evalue": "",
     "output_type": "error",
     "traceback": [
      "\u001b[1;31m---------------------------------------------------------------------------\u001b[0m",
      "\u001b[1;31mKeyboardInterrupt\u001b[0m                         Traceback (most recent call last)",
      "\u001b[1;32m<ipython-input-51-d0a0a9224f2f>\u001b[0m in \u001b[0;36m<module>\u001b[1;34m\u001b[0m\n\u001b[0;32m      2\u001b[0m \u001b[0mNcan\u001b[0m \u001b[1;33m=\u001b[0m \u001b[0mdf\u001b[0m\u001b[1;33m[\u001b[0m\u001b[0mdf\u001b[0m\u001b[1;33m.\u001b[0m\u001b[0mIsCanceled\u001b[0m \u001b[1;33m==\u001b[0m \u001b[1;36m0\u001b[0m\u001b[1;33m]\u001b[0m\u001b[1;33m.\u001b[0m\u001b[0mIsCanceled\u001b[0m\u001b[1;33m.\u001b[0m\u001b[0mcount\u001b[0m\u001b[1;33m(\u001b[0m\u001b[1;33m)\u001b[0m\u001b[1;33m\u001b[0m\u001b[1;33m\u001b[0m\u001b[0m\n\u001b[0;32m      3\u001b[0m \u001b[1;33m\u001b[0m\u001b[0m\n\u001b[1;32m----> 4\u001b[1;33m \u001b[0mfig\u001b[0m \u001b[1;33m=\u001b[0m \u001b[0mgo\u001b[0m\u001b[1;33m.\u001b[0m\u001b[0mFigure\u001b[0m\u001b[1;33m(\u001b[0m\u001b[0mgo\u001b[0m\u001b[1;33m.\u001b[0m\u001b[0mPie\u001b[0m\u001b[1;33m(\u001b[0m\u001b[0mlabels\u001b[0m\u001b[1;33m=\u001b[0m\u001b[1;33m[\u001b[0m\u001b[1;34m'Canceled'\u001b[0m\u001b[1;33m,\u001b[0m\u001b[1;34m'Not Canceled'\u001b[0m\u001b[1;33m]\u001b[0m\u001b[1;33m,\u001b[0m \u001b[0mvalues\u001b[0m\u001b[1;33m=\u001b[0m\u001b[1;33m[\u001b[0m\u001b[0mcan\u001b[0m\u001b[1;33m,\u001b[0m \u001b[0mNcan\u001b[0m\u001b[1;33m]\u001b[0m\u001b[1;33m)\u001b[0m\u001b[1;33m)\u001b[0m\u001b[1;33m\u001b[0m\u001b[1;33m\u001b[0m\u001b[0m\n\u001b[0m\u001b[0;32m      5\u001b[0m \u001b[0mfig\u001b[0m\u001b[1;33m.\u001b[0m\u001b[0mupdate_layout\u001b[0m\u001b[1;33m(\u001b[0m\u001b[0mheight\u001b[0m\u001b[1;33m=\u001b[0m\u001b[1;36m300\u001b[0m\u001b[1;33m,\u001b[0m \u001b[0mwidth\u001b[0m\u001b[1;33m=\u001b[0m\u001b[1;36m400\u001b[0m\u001b[1;33m,\u001b[0m \u001b[0mtitle_text\u001b[0m\u001b[1;33m=\u001b[0m\u001b[1;34m\"Canceled vs. Not Canceled\"\u001b[0m\u001b[1;33m)\u001b[0m\u001b[1;33m\u001b[0m\u001b[1;33m\u001b[0m\u001b[0m\n\u001b[0;32m      6\u001b[0m \u001b[0mfig\u001b[0m\u001b[1;33m.\u001b[0m\u001b[0mshow\u001b[0m\u001b[1;33m(\u001b[0m\u001b[1;33m)\u001b[0m\u001b[1;33m\u001b[0m\u001b[1;33m\u001b[0m\u001b[0m\n",
      "\u001b[1;32m~\\Anaconda3\\lib\\site-packages\\plotly\\graph_objs\\_figure.py\u001b[0m in \u001b[0;36m__init__\u001b[1;34m(self, data, layout, frames, skip_invalid, **kwargs)\u001b[0m\n\u001b[0;32m    606\u001b[0m             \u001b[1;32mis\u001b[0m \u001b[0minvalid\u001b[0m \u001b[0mAND\u001b[0m \u001b[0mskip_invalid\u001b[0m \u001b[1;32mis\u001b[0m \u001b[1;32mFalse\u001b[0m\u001b[1;33m\u001b[0m\u001b[1;33m\u001b[0m\u001b[0m\n\u001b[0;32m    607\u001b[0m         \"\"\"\n\u001b[1;32m--> 608\u001b[1;33m         \u001b[0msuper\u001b[0m\u001b[1;33m(\u001b[0m\u001b[0mFigure\u001b[0m\u001b[1;33m,\u001b[0m \u001b[0mself\u001b[0m\u001b[1;33m)\u001b[0m\u001b[1;33m.\u001b[0m\u001b[0m__init__\u001b[0m\u001b[1;33m(\u001b[0m\u001b[0mdata\u001b[0m\u001b[1;33m,\u001b[0m \u001b[0mlayout\u001b[0m\u001b[1;33m,\u001b[0m \u001b[0mframes\u001b[0m\u001b[1;33m,\u001b[0m \u001b[0mskip_invalid\u001b[0m\u001b[1;33m,\u001b[0m \u001b[1;33m**\u001b[0m\u001b[0mkwargs\u001b[0m\u001b[1;33m)\u001b[0m\u001b[1;33m\u001b[0m\u001b[1;33m\u001b[0m\u001b[0m\n\u001b[0m\u001b[0;32m    609\u001b[0m \u001b[1;33m\u001b[0m\u001b[0m\n\u001b[0;32m    610\u001b[0m     def add_area(\n",
      "\u001b[1;32m~\\Anaconda3\\lib\\site-packages\\plotly\\basedatatypes.py\u001b[0m in \u001b[0;36m__init__\u001b[1;34m(self, data, layout_plotly, frames, skip_invalid, **kwargs)\u001b[0m\n\u001b[0;32m    268\u001b[0m         \u001b[1;31m# --------\u001b[0m\u001b[1;33m\u001b[0m\u001b[1;33m\u001b[0m\u001b[1;33m\u001b[0m\u001b[0m\n\u001b[0;32m    269\u001b[0m         \u001b[1;31m# ### Check for default template ###\u001b[0m\u001b[1;33m\u001b[0m\u001b[1;33m\u001b[0m\u001b[1;33m\u001b[0m\u001b[0m\n\u001b[1;32m--> 270\u001b[1;33m         \u001b[0mself\u001b[0m\u001b[1;33m.\u001b[0m\u001b[0m_initialize_layout_template\u001b[0m\u001b[1;33m(\u001b[0m\u001b[1;33m)\u001b[0m\u001b[1;33m\u001b[0m\u001b[1;33m\u001b[0m\u001b[0m\n\u001b[0m\u001b[0;32m    271\u001b[0m \u001b[1;33m\u001b[0m\u001b[0m\n\u001b[0;32m    272\u001b[0m         \u001b[1;31m# Process kwargs\u001b[0m\u001b[1;33m\u001b[0m\u001b[1;33m\u001b[0m\u001b[1;33m\u001b[0m\u001b[0m\n",
      "\u001b[1;32m~\\Anaconda3\\lib\\site-packages\\plotly\\basedatatypes.py\u001b[0m in \u001b[0;36m_initialize_layout_template\u001b[1;34m(self)\u001b[0m\n\u001b[0;32m   1938\u001b[0m         \u001b[1;32mif\u001b[0m \u001b[0mself\u001b[0m\u001b[1;33m.\u001b[0m\u001b[0m_layout_obj\u001b[0m\u001b[1;33m.\u001b[0m\u001b[0mtemplate\u001b[0m \u001b[1;32mis\u001b[0m \u001b[1;32mNone\u001b[0m\u001b[1;33m:\u001b[0m\u001b[1;33m\u001b[0m\u001b[1;33m\u001b[0m\u001b[0m\n\u001b[0;32m   1939\u001b[0m             \u001b[1;32mif\u001b[0m \u001b[0mpio\u001b[0m\u001b[1;33m.\u001b[0m\u001b[0mtemplates\u001b[0m\u001b[1;33m.\u001b[0m\u001b[0mdefault\u001b[0m \u001b[1;32mis\u001b[0m \u001b[1;32mnot\u001b[0m \u001b[1;32mNone\u001b[0m\u001b[1;33m:\u001b[0m\u001b[1;33m\u001b[0m\u001b[1;33m\u001b[0m\u001b[0m\n\u001b[1;32m-> 1940\u001b[1;33m                 \u001b[0mself\u001b[0m\u001b[1;33m.\u001b[0m\u001b[0m_layout_obj\u001b[0m\u001b[1;33m.\u001b[0m\u001b[0mtemplate\u001b[0m \u001b[1;33m=\u001b[0m \u001b[0mpio\u001b[0m\u001b[1;33m.\u001b[0m\u001b[0mtemplates\u001b[0m\u001b[1;33m.\u001b[0m\u001b[0mdefault\u001b[0m\u001b[1;33m\u001b[0m\u001b[1;33m\u001b[0m\u001b[0m\n\u001b[0m\u001b[0;32m   1941\u001b[0m             \u001b[1;32melse\u001b[0m\u001b[1;33m:\u001b[0m\u001b[1;33m\u001b[0m\u001b[1;33m\u001b[0m\u001b[0m\n\u001b[0;32m   1942\u001b[0m                 \u001b[0mself\u001b[0m\u001b[1;33m.\u001b[0m\u001b[0m_layout_obj\u001b[0m\u001b[1;33m.\u001b[0m\u001b[0mtemplate\u001b[0m \u001b[1;33m=\u001b[0m \u001b[1;32mNone\u001b[0m\u001b[1;33m\u001b[0m\u001b[1;33m\u001b[0m\u001b[0m\n",
      "\u001b[1;32m~\\Anaconda3\\lib\\site-packages\\plotly\\basedatatypes.py\u001b[0m in \u001b[0;36m__setattr__\u001b[1;34m(self, prop, value)\u001b[0m\n\u001b[0;32m   4436\u001b[0m         \u001b[1;32mif\u001b[0m \u001b[0mmatch\u001b[0m \u001b[1;32mis\u001b[0m \u001b[1;32mNone\u001b[0m\u001b[1;33m:\u001b[0m\u001b[1;33m\u001b[0m\u001b[1;33m\u001b[0m\u001b[0m\n\u001b[0;32m   4437\u001b[0m             \u001b[1;31m# Set as ordinary property\u001b[0m\u001b[1;33m\u001b[0m\u001b[1;33m\u001b[0m\u001b[1;33m\u001b[0m\u001b[0m\n\u001b[1;32m-> 4438\u001b[1;33m             \u001b[0msuper\u001b[0m\u001b[1;33m(\u001b[0m\u001b[0mBaseLayoutHierarchyType\u001b[0m\u001b[1;33m,\u001b[0m \u001b[0mself\u001b[0m\u001b[1;33m)\u001b[0m\u001b[1;33m.\u001b[0m\u001b[0m__setattr__\u001b[0m\u001b[1;33m(\u001b[0m\u001b[0mprop\u001b[0m\u001b[1;33m,\u001b[0m \u001b[0mvalue\u001b[0m\u001b[1;33m)\u001b[0m\u001b[1;33m\u001b[0m\u001b[1;33m\u001b[0m\u001b[0m\n\u001b[0m\u001b[0;32m   4439\u001b[0m         \u001b[1;32melse\u001b[0m\u001b[1;33m:\u001b[0m\u001b[1;33m\u001b[0m\u001b[1;33m\u001b[0m\u001b[0m\n\u001b[0;32m   4440\u001b[0m             \u001b[1;31m# Set as subplotid property\u001b[0m\u001b[1;33m\u001b[0m\u001b[1;33m\u001b[0m\u001b[1;33m\u001b[0m\u001b[0m\n",
      "\u001b[1;32m~\\Anaconda3\\lib\\site-packages\\plotly\\basedatatypes.py\u001b[0m in \u001b[0;36m__setattr__\u001b[1;34m(self, prop, value)\u001b[0m\n\u001b[0;32m   3503\u001b[0m         \u001b[1;32mif\u001b[0m \u001b[0mprop\u001b[0m\u001b[1;33m.\u001b[0m\u001b[0mstartswith\u001b[0m\u001b[1;33m(\u001b[0m\u001b[1;34m\"_\"\u001b[0m\u001b[1;33m)\u001b[0m \u001b[1;32mor\u001b[0m \u001b[0mhasattr\u001b[0m\u001b[1;33m(\u001b[0m\u001b[0mself\u001b[0m\u001b[1;33m,\u001b[0m \u001b[0mprop\u001b[0m\u001b[1;33m)\u001b[0m \u001b[1;32mor\u001b[0m \u001b[0mprop\u001b[0m \u001b[1;32min\u001b[0m \u001b[0mself\u001b[0m\u001b[1;33m.\u001b[0m\u001b[0m_validators\u001b[0m\u001b[1;33m:\u001b[0m\u001b[1;33m\u001b[0m\u001b[1;33m\u001b[0m\u001b[0m\n\u001b[0;32m   3504\u001b[0m             \u001b[1;31m# Let known properties and private properties through\u001b[0m\u001b[1;33m\u001b[0m\u001b[1;33m\u001b[0m\u001b[1;33m\u001b[0m\u001b[0m\n\u001b[1;32m-> 3505\u001b[1;33m             \u001b[0msuper\u001b[0m\u001b[1;33m(\u001b[0m\u001b[0mBasePlotlyType\u001b[0m\u001b[1;33m,\u001b[0m \u001b[0mself\u001b[0m\u001b[1;33m)\u001b[0m\u001b[1;33m.\u001b[0m\u001b[0m__setattr__\u001b[0m\u001b[1;33m(\u001b[0m\u001b[0mprop\u001b[0m\u001b[1;33m,\u001b[0m \u001b[0mvalue\u001b[0m\u001b[1;33m)\u001b[0m\u001b[1;33m\u001b[0m\u001b[1;33m\u001b[0m\u001b[0m\n\u001b[0m\u001b[0;32m   3506\u001b[0m         \u001b[1;32melse\u001b[0m\u001b[1;33m:\u001b[0m\u001b[1;33m\u001b[0m\u001b[1;33m\u001b[0m\u001b[0m\n\u001b[0;32m   3507\u001b[0m             \u001b[1;31m# Raise error on unknown public properties\u001b[0m\u001b[1;33m\u001b[0m\u001b[1;33m\u001b[0m\u001b[1;33m\u001b[0m\u001b[0m\n",
      "\u001b[1;32m~\\Anaconda3\\lib\\site-packages\\plotly\\graph_objs\\__init__.py\u001b[0m in \u001b[0;36mtemplate\u001b[1;34m(self, val)\u001b[0m\n\u001b[0;32m  95099\u001b[0m     \u001b[1;33m@\u001b[0m\u001b[0mtemplate\u001b[0m\u001b[1;33m.\u001b[0m\u001b[0msetter\u001b[0m\u001b[1;33m\u001b[0m\u001b[1;33m\u001b[0m\u001b[0m\n\u001b[0;32m  95100\u001b[0m     \u001b[1;32mdef\u001b[0m \u001b[0mtemplate\u001b[0m\u001b[1;33m(\u001b[0m\u001b[0mself\u001b[0m\u001b[1;33m,\u001b[0m \u001b[0mval\u001b[0m\u001b[1;33m)\u001b[0m\u001b[1;33m:\u001b[0m\u001b[1;33m\u001b[0m\u001b[1;33m\u001b[0m\u001b[0m\n\u001b[1;32m> 95101\u001b[1;33m         \u001b[0mself\u001b[0m\u001b[1;33m[\u001b[0m\u001b[1;34m\"template\"\u001b[0m\u001b[1;33m]\u001b[0m \u001b[1;33m=\u001b[0m \u001b[0mval\u001b[0m\u001b[1;33m\u001b[0m\u001b[1;33m\u001b[0m\u001b[0m\n\u001b[0m\u001b[0;32m  95102\u001b[0m \u001b[1;33m\u001b[0m\u001b[0m\n\u001b[0;32m  95103\u001b[0m     \u001b[1;31m# ternary\u001b[0m\u001b[1;33m\u001b[0m\u001b[1;33m\u001b[0m\u001b[1;33m\u001b[0m\u001b[0m\n",
      "\u001b[1;32m~\\Anaconda3\\lib\\site-packages\\plotly\\basedatatypes.py\u001b[0m in \u001b[0;36m__setitem__\u001b[1;34m(self, prop, value)\u001b[0m\n\u001b[0;32m   4422\u001b[0m         \u001b[1;32mif\u001b[0m \u001b[0mmatch\u001b[0m \u001b[1;32mis\u001b[0m \u001b[1;32mNone\u001b[0m\u001b[1;33m:\u001b[0m\u001b[1;33m\u001b[0m\u001b[1;33m\u001b[0m\u001b[0m\n\u001b[0;32m   4423\u001b[0m             \u001b[1;31m# Set as ordinary property\u001b[0m\u001b[1;33m\u001b[0m\u001b[1;33m\u001b[0m\u001b[1;33m\u001b[0m\u001b[0m\n\u001b[1;32m-> 4424\u001b[1;33m             \u001b[0msuper\u001b[0m\u001b[1;33m(\u001b[0m\u001b[0mBaseLayoutHierarchyType\u001b[0m\u001b[1;33m,\u001b[0m \u001b[0mself\u001b[0m\u001b[1;33m)\u001b[0m\u001b[1;33m.\u001b[0m\u001b[0m__setitem__\u001b[0m\u001b[1;33m(\u001b[0m\u001b[0mprop\u001b[0m\u001b[1;33m,\u001b[0m \u001b[0mvalue\u001b[0m\u001b[1;33m)\u001b[0m\u001b[1;33m\u001b[0m\u001b[1;33m\u001b[0m\u001b[0m\n\u001b[0m\u001b[0;32m   4425\u001b[0m         \u001b[1;32melse\u001b[0m\u001b[1;33m:\u001b[0m\u001b[1;33m\u001b[0m\u001b[1;33m\u001b[0m\u001b[0m\n\u001b[0;32m   4426\u001b[0m             \u001b[1;31m# Set as subplotid property\u001b[0m\u001b[1;33m\u001b[0m\u001b[1;33m\u001b[0m\u001b[1;33m\u001b[0m\u001b[0m\n",
      "\u001b[1;32m~\\Anaconda3\\lib\\site-packages\\plotly\\basedatatypes.py\u001b[0m in \u001b[0;36m__setitem__\u001b[1;34m(self, prop, value)\u001b[0m\n\u001b[0;32m   3469\u001b[0m             \u001b[1;31m# ### Handle compound property ###\u001b[0m\u001b[1;33m\u001b[0m\u001b[1;33m\u001b[0m\u001b[1;33m\u001b[0m\u001b[0m\n\u001b[0;32m   3470\u001b[0m             \u001b[1;32mif\u001b[0m \u001b[0misinstance\u001b[0m\u001b[1;33m(\u001b[0m\u001b[0mvalidator\u001b[0m\u001b[1;33m,\u001b[0m \u001b[0mCompoundValidator\u001b[0m\u001b[1;33m)\u001b[0m\u001b[1;33m:\u001b[0m\u001b[1;33m\u001b[0m\u001b[1;33m\u001b[0m\u001b[0m\n\u001b[1;32m-> 3471\u001b[1;33m                 \u001b[0mself\u001b[0m\u001b[1;33m.\u001b[0m\u001b[0m_set_compound_prop\u001b[0m\u001b[1;33m(\u001b[0m\u001b[0mprop\u001b[0m\u001b[1;33m,\u001b[0m \u001b[0mvalue\u001b[0m\u001b[1;33m)\u001b[0m\u001b[1;33m\u001b[0m\u001b[1;33m\u001b[0m\u001b[0m\n\u001b[0m\u001b[0;32m   3472\u001b[0m \u001b[1;33m\u001b[0m\u001b[0m\n\u001b[0;32m   3473\u001b[0m             \u001b[1;31m# ### Handle compound array property ###\u001b[0m\u001b[1;33m\u001b[0m\u001b[1;33m\u001b[0m\u001b[1;33m\u001b[0m\u001b[0m\n",
      "\u001b[1;32m~\\Anaconda3\\lib\\site-packages\\plotly\\basedatatypes.py\u001b[0m in \u001b[0;36m_set_compound_prop\u001b[1;34m(self, prop, val)\u001b[0m\n\u001b[0;32m   3823\u001b[0m         \u001b[1;31m# ------------\u001b[0m\u001b[1;33m\u001b[0m\u001b[1;33m\u001b[0m\u001b[1;33m\u001b[0m\u001b[0m\n\u001b[0;32m   3824\u001b[0m         \u001b[0mvalidator\u001b[0m \u001b[1;33m=\u001b[0m \u001b[0mself\u001b[0m\u001b[1;33m.\u001b[0m\u001b[0m_validators\u001b[0m\u001b[1;33m.\u001b[0m\u001b[0mget\u001b[0m\u001b[1;33m(\u001b[0m\u001b[0mprop\u001b[0m\u001b[1;33m)\u001b[0m\u001b[1;33m\u001b[0m\u001b[1;33m\u001b[0m\u001b[0m\n\u001b[1;32m-> 3825\u001b[1;33m         \u001b[0mval\u001b[0m \u001b[1;33m=\u001b[0m \u001b[0mvalidator\u001b[0m\u001b[1;33m.\u001b[0m\u001b[0mvalidate_coerce\u001b[0m\u001b[1;33m(\u001b[0m\u001b[0mval\u001b[0m\u001b[1;33m,\u001b[0m \u001b[0mskip_invalid\u001b[0m\u001b[1;33m=\u001b[0m\u001b[0mself\u001b[0m\u001b[1;33m.\u001b[0m\u001b[0m_skip_invalid\u001b[0m\u001b[1;33m)\u001b[0m\u001b[1;33m\u001b[0m\u001b[1;33m\u001b[0m\u001b[0m\n\u001b[0m\u001b[0;32m   3826\u001b[0m \u001b[1;33m\u001b[0m\u001b[0m\n\u001b[0;32m   3827\u001b[0m         \u001b[1;31m# Save deep copies of current and new states\u001b[0m\u001b[1;33m\u001b[0m\u001b[1;33m\u001b[0m\u001b[1;33m\u001b[0m\u001b[0m\n",
      "\u001b[1;32m~\\Anaconda3\\lib\\site-packages\\_plotly_utils\\basevalidators.py\u001b[0m in \u001b[0;36mvalidate_coerce\u001b[1;34m(self, v, skip_invalid)\u001b[0m\n\u001b[0;32m   2701\u001b[0m             \u001b[1;31m# (could be any hashable object)\u001b[0m\u001b[1;33m\u001b[0m\u001b[1;33m\u001b[0m\u001b[1;33m\u001b[0m\u001b[0m\n\u001b[0;32m   2702\u001b[0m             \u001b[1;32mif\u001b[0m \u001b[0mv\u001b[0m \u001b[1;32min\u001b[0m \u001b[0mpio\u001b[0m\u001b[1;33m.\u001b[0m\u001b[0mtemplates\u001b[0m\u001b[1;33m:\u001b[0m\u001b[1;33m\u001b[0m\u001b[1;33m\u001b[0m\u001b[0m\n\u001b[1;32m-> 2703\u001b[1;33m                 \u001b[1;32mreturn\u001b[0m \u001b[0mcopy\u001b[0m\u001b[1;33m.\u001b[0m\u001b[0mdeepcopy\u001b[0m\u001b[1;33m(\u001b[0m\u001b[0mpio\u001b[0m\u001b[1;33m.\u001b[0m\u001b[0mtemplates\u001b[0m\u001b[1;33m[\u001b[0m\u001b[0mv\u001b[0m\u001b[1;33m]\u001b[0m\u001b[1;33m)\u001b[0m\u001b[1;33m\u001b[0m\u001b[1;33m\u001b[0m\u001b[0m\n\u001b[0m\u001b[0;32m   2704\u001b[0m             \u001b[1;31m# Otherwise, if v is a string, check to see if it consists of\u001b[0m\u001b[1;33m\u001b[0m\u001b[1;33m\u001b[0m\u001b[1;33m\u001b[0m\u001b[0m\n\u001b[0;32m   2705\u001b[0m             \u001b[1;31m# multiple template names joined on '+' characters\u001b[0m\u001b[1;33m\u001b[0m\u001b[1;33m\u001b[0m\u001b[1;33m\u001b[0m\u001b[0m\n",
      "\u001b[1;32m~\\Anaconda3\\lib\\site-packages\\plotly\\io\\_templates.py\u001b[0m in \u001b[0;36m__getitem__\u001b[1;34m(self, item)\u001b[0m\n\u001b[0;32m     89\u001b[0m                     \u001b[0mtemplate_str\u001b[0m \u001b[1;33m=\u001b[0m \u001b[0mpkgutil\u001b[0m\u001b[1;33m.\u001b[0m\u001b[0mget_data\u001b[0m\u001b[1;33m(\u001b[0m\u001b[1;34m\"plotly\"\u001b[0m\u001b[1;33m,\u001b[0m \u001b[0mpath\u001b[0m\u001b[1;33m)\u001b[0m\u001b[1;33m.\u001b[0m\u001b[0mdecode\u001b[0m\u001b[1;33m(\u001b[0m\u001b[1;34m\"utf-8\"\u001b[0m\u001b[1;33m)\u001b[0m\u001b[1;33m\u001b[0m\u001b[1;33m\u001b[0m\u001b[0m\n\u001b[0;32m     90\u001b[0m                     \u001b[0mtemplate_dict\u001b[0m \u001b[1;33m=\u001b[0m \u001b[0mjson\u001b[0m\u001b[1;33m.\u001b[0m\u001b[0mloads\u001b[0m\u001b[1;33m(\u001b[0m\u001b[0mtemplate_str\u001b[0m\u001b[1;33m)\u001b[0m\u001b[1;33m\u001b[0m\u001b[1;33m\u001b[0m\u001b[0m\n\u001b[1;32m---> 91\u001b[1;33m                     \u001b[0mtemplate\u001b[0m \u001b[1;33m=\u001b[0m \u001b[0mTemplate\u001b[0m\u001b[1;33m(\u001b[0m\u001b[0mtemplate_dict\u001b[0m\u001b[1;33m)\u001b[0m\u001b[1;33m\u001b[0m\u001b[1;33m\u001b[0m\u001b[0m\n\u001b[0m\u001b[0;32m     92\u001b[0m \u001b[1;33m\u001b[0m\u001b[0m\n\u001b[0;32m     93\u001b[0m                     \u001b[0mself\u001b[0m\u001b[1;33m.\u001b[0m\u001b[0m_templates\u001b[0m\u001b[1;33m[\u001b[0m\u001b[0mtemplate_name\u001b[0m\u001b[1;33m]\u001b[0m \u001b[1;33m=\u001b[0m \u001b[0mtemplate\u001b[0m\u001b[1;33m\u001b[0m\u001b[1;33m\u001b[0m\u001b[0m\n",
      "\u001b[1;32m~\\Anaconda3\\lib\\site-packages\\plotly\\graph_objs\\layout\\__init__.py\u001b[0m in \u001b[0;36m__init__\u001b[1;34m(self, arg, data, layout, **kwargs)\u001b[0m\n\u001b[0;32m   9296\u001b[0m         \u001b[1;31m# ----------------------------------\u001b[0m\u001b[1;33m\u001b[0m\u001b[1;33m\u001b[0m\u001b[1;33m\u001b[0m\u001b[0m\n\u001b[0;32m   9297\u001b[0m         \u001b[0m_v\u001b[0m \u001b[1;33m=\u001b[0m \u001b[0marg\u001b[0m\u001b[1;33m.\u001b[0m\u001b[0mpop\u001b[0m\u001b[1;33m(\u001b[0m\u001b[1;34m\"data\"\u001b[0m\u001b[1;33m,\u001b[0m \u001b[1;32mNone\u001b[0m\u001b[1;33m)\u001b[0m\u001b[1;33m\u001b[0m\u001b[1;33m\u001b[0m\u001b[0m\n\u001b[1;32m-> 9298\u001b[1;33m         \u001b[0mself\u001b[0m\u001b[1;33m[\u001b[0m\u001b[1;34m\"data\"\u001b[0m\u001b[1;33m]\u001b[0m \u001b[1;33m=\u001b[0m \u001b[0mdata\u001b[0m \u001b[1;32mif\u001b[0m \u001b[0mdata\u001b[0m \u001b[1;32mis\u001b[0m \u001b[1;32mnot\u001b[0m \u001b[1;32mNone\u001b[0m \u001b[1;32melse\u001b[0m \u001b[0m_v\u001b[0m\u001b[1;33m\u001b[0m\u001b[1;33m\u001b[0m\u001b[0m\n\u001b[0m\u001b[0;32m   9299\u001b[0m         \u001b[0m_v\u001b[0m \u001b[1;33m=\u001b[0m \u001b[0marg\u001b[0m\u001b[1;33m.\u001b[0m\u001b[0mpop\u001b[0m\u001b[1;33m(\u001b[0m\u001b[1;34m\"layout\"\u001b[0m\u001b[1;33m,\u001b[0m \u001b[1;32mNone\u001b[0m\u001b[1;33m)\u001b[0m\u001b[1;33m\u001b[0m\u001b[1;33m\u001b[0m\u001b[0m\n\u001b[0;32m   9300\u001b[0m         \u001b[0mself\u001b[0m\u001b[1;33m[\u001b[0m\u001b[1;34m\"layout\"\u001b[0m\u001b[1;33m]\u001b[0m \u001b[1;33m=\u001b[0m \u001b[0mlayout\u001b[0m \u001b[1;32mif\u001b[0m \u001b[0mlayout\u001b[0m \u001b[1;32mis\u001b[0m \u001b[1;32mnot\u001b[0m \u001b[1;32mNone\u001b[0m \u001b[1;32melse\u001b[0m \u001b[0m_v\u001b[0m\u001b[1;33m\u001b[0m\u001b[1;33m\u001b[0m\u001b[0m\n",
      "\u001b[1;32m~\\Anaconda3\\lib\\site-packages\\plotly\\basedatatypes.py\u001b[0m in \u001b[0;36m__setitem__\u001b[1;34m(self, prop, value)\u001b[0m\n\u001b[0;32m   3469\u001b[0m             \u001b[1;31m# ### Handle compound property ###\u001b[0m\u001b[1;33m\u001b[0m\u001b[1;33m\u001b[0m\u001b[1;33m\u001b[0m\u001b[0m\n\u001b[0;32m   3470\u001b[0m             \u001b[1;32mif\u001b[0m \u001b[0misinstance\u001b[0m\u001b[1;33m(\u001b[0m\u001b[0mvalidator\u001b[0m\u001b[1;33m,\u001b[0m \u001b[0mCompoundValidator\u001b[0m\u001b[1;33m)\u001b[0m\u001b[1;33m:\u001b[0m\u001b[1;33m\u001b[0m\u001b[1;33m\u001b[0m\u001b[0m\n\u001b[1;32m-> 3471\u001b[1;33m                 \u001b[0mself\u001b[0m\u001b[1;33m.\u001b[0m\u001b[0m_set_compound_prop\u001b[0m\u001b[1;33m(\u001b[0m\u001b[0mprop\u001b[0m\u001b[1;33m,\u001b[0m \u001b[0mvalue\u001b[0m\u001b[1;33m)\u001b[0m\u001b[1;33m\u001b[0m\u001b[1;33m\u001b[0m\u001b[0m\n\u001b[0m\u001b[0;32m   3472\u001b[0m \u001b[1;33m\u001b[0m\u001b[0m\n\u001b[0;32m   3473\u001b[0m             \u001b[1;31m# ### Handle compound array property ###\u001b[0m\u001b[1;33m\u001b[0m\u001b[1;33m\u001b[0m\u001b[1;33m\u001b[0m\u001b[0m\n",
      "\u001b[1;32m~\\Anaconda3\\lib\\site-packages\\plotly\\basedatatypes.py\u001b[0m in \u001b[0;36m_set_compound_prop\u001b[1;34m(self, prop, val)\u001b[0m\n\u001b[0;32m   3823\u001b[0m         \u001b[1;31m# ------------\u001b[0m\u001b[1;33m\u001b[0m\u001b[1;33m\u001b[0m\u001b[1;33m\u001b[0m\u001b[0m\n\u001b[0;32m   3824\u001b[0m         \u001b[0mvalidator\u001b[0m \u001b[1;33m=\u001b[0m \u001b[0mself\u001b[0m\u001b[1;33m.\u001b[0m\u001b[0m_validators\u001b[0m\u001b[1;33m.\u001b[0m\u001b[0mget\u001b[0m\u001b[1;33m(\u001b[0m\u001b[0mprop\u001b[0m\u001b[1;33m)\u001b[0m\u001b[1;33m\u001b[0m\u001b[1;33m\u001b[0m\u001b[0m\n\u001b[1;32m-> 3825\u001b[1;33m         \u001b[0mval\u001b[0m \u001b[1;33m=\u001b[0m \u001b[0mvalidator\u001b[0m\u001b[1;33m.\u001b[0m\u001b[0mvalidate_coerce\u001b[0m\u001b[1;33m(\u001b[0m\u001b[0mval\u001b[0m\u001b[1;33m,\u001b[0m \u001b[0mskip_invalid\u001b[0m\u001b[1;33m=\u001b[0m\u001b[0mself\u001b[0m\u001b[1;33m.\u001b[0m\u001b[0m_skip_invalid\u001b[0m\u001b[1;33m)\u001b[0m\u001b[1;33m\u001b[0m\u001b[1;33m\u001b[0m\u001b[0m\n\u001b[0m\u001b[0;32m   3826\u001b[0m \u001b[1;33m\u001b[0m\u001b[0m\n\u001b[0;32m   3827\u001b[0m         \u001b[1;31m# Save deep copies of current and new states\u001b[0m\u001b[1;33m\u001b[0m\u001b[1;33m\u001b[0m\u001b[1;33m\u001b[0m\u001b[0m\n",
      "\u001b[1;32m~\\Anaconda3\\lib\\site-packages\\_plotly_utils\\basevalidators.py\u001b[0m in \u001b[0;36mvalidate_coerce\u001b[1;34m(self, v, skip_invalid)\u001b[0m\n\u001b[0;32m   2431\u001b[0m \u001b[1;33m\u001b[0m\u001b[0m\n\u001b[0;32m   2432\u001b[0m         \u001b[1;32melif\u001b[0m \u001b[0misinstance\u001b[0m\u001b[1;33m(\u001b[0m\u001b[0mv\u001b[0m\u001b[1;33m,\u001b[0m \u001b[0mdict\u001b[0m\u001b[1;33m)\u001b[0m\u001b[1;33m:\u001b[0m\u001b[1;33m\u001b[0m\u001b[1;33m\u001b[0m\u001b[0m\n\u001b[1;32m-> 2433\u001b[1;33m             \u001b[0mv\u001b[0m \u001b[1;33m=\u001b[0m \u001b[0mself\u001b[0m\u001b[1;33m.\u001b[0m\u001b[0mdata_class\u001b[0m\u001b[1;33m(\u001b[0m\u001b[0mv\u001b[0m\u001b[1;33m,\u001b[0m \u001b[0mskip_invalid\u001b[0m\u001b[1;33m=\u001b[0m\u001b[0mskip_invalid\u001b[0m\u001b[1;33m)\u001b[0m\u001b[1;33m\u001b[0m\u001b[1;33m\u001b[0m\u001b[0m\n\u001b[0m\u001b[0;32m   2434\u001b[0m \u001b[1;33m\u001b[0m\u001b[0m\n\u001b[0;32m   2435\u001b[0m         \u001b[1;32melif\u001b[0m \u001b[0misinstance\u001b[0m\u001b[1;33m(\u001b[0m\u001b[0mv\u001b[0m\u001b[1;33m,\u001b[0m \u001b[0mself\u001b[0m\u001b[1;33m.\u001b[0m\u001b[0mdata_class\u001b[0m\u001b[1;33m)\u001b[0m\u001b[1;33m:\u001b[0m\u001b[1;33m\u001b[0m\u001b[1;33m\u001b[0m\u001b[0m\n",
      "\u001b[1;32m~\\Anaconda3\\lib\\site-packages\\plotly\\graph_objs\\layout\\template\\__init__.py\u001b[0m in \u001b[0;36m__init__\u001b[1;34m(self, arg, area, barpolar, bar, box, candlestick, carpet, choroplethmapbox, choropleth, cone, contourcarpet, contour, densitymapbox, funnelarea, funnel, heatmapgl, heatmap, histogram2dcontour, histogram2d, histogram, image, indicator, isosurface, mesh3d, ohlc, parcats, parcoords, pie, pointcloud, sankey, scatter3d, scattercarpet, scattergeo, scattergl, scattermapbox, scatterpolargl, scatterpolar, scatter, scatterternary, splom, streamtube, sunburst, surface, table, treemap, violin, volume, waterfall, **kwargs)\u001b[0m\n\u001b[0;32m   1601\u001b[0m         \u001b[0mself\u001b[0m\u001b[1;33m[\u001b[0m\u001b[1;34m\"scatterpolargl\"\u001b[0m\u001b[1;33m]\u001b[0m \u001b[1;33m=\u001b[0m \u001b[0mscatterpolargl\u001b[0m \u001b[1;32mif\u001b[0m \u001b[0mscatterpolargl\u001b[0m \u001b[1;32mis\u001b[0m \u001b[1;32mnot\u001b[0m \u001b[1;32mNone\u001b[0m \u001b[1;32melse\u001b[0m \u001b[0m_v\u001b[0m\u001b[1;33m\u001b[0m\u001b[1;33m\u001b[0m\u001b[0m\n\u001b[0;32m   1602\u001b[0m         \u001b[0m_v\u001b[0m \u001b[1;33m=\u001b[0m \u001b[0marg\u001b[0m\u001b[1;33m.\u001b[0m\u001b[0mpop\u001b[0m\u001b[1;33m(\u001b[0m\u001b[1;34m\"scatterpolar\"\u001b[0m\u001b[1;33m,\u001b[0m \u001b[1;32mNone\u001b[0m\u001b[1;33m)\u001b[0m\u001b[1;33m\u001b[0m\u001b[1;33m\u001b[0m\u001b[0m\n\u001b[1;32m-> 1603\u001b[1;33m         \u001b[0mself\u001b[0m\u001b[1;33m[\u001b[0m\u001b[1;34m\"scatterpolar\"\u001b[0m\u001b[1;33m]\u001b[0m \u001b[1;33m=\u001b[0m \u001b[0mscatterpolar\u001b[0m \u001b[1;32mif\u001b[0m \u001b[0mscatterpolar\u001b[0m \u001b[1;32mis\u001b[0m \u001b[1;32mnot\u001b[0m \u001b[1;32mNone\u001b[0m \u001b[1;32melse\u001b[0m \u001b[0m_v\u001b[0m\u001b[1;33m\u001b[0m\u001b[1;33m\u001b[0m\u001b[0m\n\u001b[0m\u001b[0;32m   1604\u001b[0m         \u001b[0m_v\u001b[0m \u001b[1;33m=\u001b[0m \u001b[0marg\u001b[0m\u001b[1;33m.\u001b[0m\u001b[0mpop\u001b[0m\u001b[1;33m(\u001b[0m\u001b[1;34m\"scatter\"\u001b[0m\u001b[1;33m,\u001b[0m \u001b[1;32mNone\u001b[0m\u001b[1;33m)\u001b[0m\u001b[1;33m\u001b[0m\u001b[1;33m\u001b[0m\u001b[0m\n\u001b[0;32m   1605\u001b[0m         \u001b[0mself\u001b[0m\u001b[1;33m[\u001b[0m\u001b[1;34m\"scatter\"\u001b[0m\u001b[1;33m]\u001b[0m \u001b[1;33m=\u001b[0m \u001b[0mscatter\u001b[0m \u001b[1;32mif\u001b[0m \u001b[0mscatter\u001b[0m \u001b[1;32mis\u001b[0m \u001b[1;32mnot\u001b[0m \u001b[1;32mNone\u001b[0m \u001b[1;32melse\u001b[0m \u001b[0m_v\u001b[0m\u001b[1;33m\u001b[0m\u001b[1;33m\u001b[0m\u001b[0m\n",
      "\u001b[1;32m~\\Anaconda3\\lib\\site-packages\\plotly\\basedatatypes.py\u001b[0m in \u001b[0;36m__setitem__\u001b[1;34m(self, prop, value)\u001b[0m\n\u001b[0;32m   3473\u001b[0m             \u001b[1;31m# ### Handle compound array property ###\u001b[0m\u001b[1;33m\u001b[0m\u001b[1;33m\u001b[0m\u001b[1;33m\u001b[0m\u001b[0m\n\u001b[0;32m   3474\u001b[0m             \u001b[1;32melif\u001b[0m \u001b[0misinstance\u001b[0m\u001b[1;33m(\u001b[0m\u001b[0mvalidator\u001b[0m\u001b[1;33m,\u001b[0m \u001b[1;33m(\u001b[0m\u001b[0mCompoundArrayValidator\u001b[0m\u001b[1;33m,\u001b[0m \u001b[0mBaseDataValidator\u001b[0m\u001b[1;33m)\u001b[0m\u001b[1;33m)\u001b[0m\u001b[1;33m:\u001b[0m\u001b[1;33m\u001b[0m\u001b[1;33m\u001b[0m\u001b[0m\n\u001b[1;32m-> 3475\u001b[1;33m                 \u001b[0mself\u001b[0m\u001b[1;33m.\u001b[0m\u001b[0m_set_array_prop\u001b[0m\u001b[1;33m(\u001b[0m\u001b[0mprop\u001b[0m\u001b[1;33m,\u001b[0m \u001b[0mvalue\u001b[0m\u001b[1;33m)\u001b[0m\u001b[1;33m\u001b[0m\u001b[1;33m\u001b[0m\u001b[0m\n\u001b[0m\u001b[0;32m   3476\u001b[0m \u001b[1;33m\u001b[0m\u001b[0m\n\u001b[0;32m   3477\u001b[0m             \u001b[1;31m# ### Handle simple property ###\u001b[0m\u001b[1;33m\u001b[0m\u001b[1;33m\u001b[0m\u001b[1;33m\u001b[0m\u001b[0m\n",
      "\u001b[1;32m~\\Anaconda3\\lib\\site-packages\\plotly\\basedatatypes.py\u001b[0m in \u001b[0;36m_set_array_prop\u001b[1;34m(self, prop, val)\u001b[0m\n\u001b[0;32m   3897\u001b[0m         \u001b[1;31m# ------------\u001b[0m\u001b[1;33m\u001b[0m\u001b[1;33m\u001b[0m\u001b[1;33m\u001b[0m\u001b[0m\n\u001b[0;32m   3898\u001b[0m         \u001b[0mvalidator\u001b[0m \u001b[1;33m=\u001b[0m \u001b[0mself\u001b[0m\u001b[1;33m.\u001b[0m\u001b[0m_validators\u001b[0m\u001b[1;33m.\u001b[0m\u001b[0mget\u001b[0m\u001b[1;33m(\u001b[0m\u001b[0mprop\u001b[0m\u001b[1;33m)\u001b[0m\u001b[1;33m\u001b[0m\u001b[1;33m\u001b[0m\u001b[0m\n\u001b[1;32m-> 3899\u001b[1;33m         \u001b[0mval\u001b[0m \u001b[1;33m=\u001b[0m \u001b[0mvalidator\u001b[0m\u001b[1;33m.\u001b[0m\u001b[0mvalidate_coerce\u001b[0m\u001b[1;33m(\u001b[0m\u001b[0mval\u001b[0m\u001b[1;33m,\u001b[0m \u001b[0mskip_invalid\u001b[0m\u001b[1;33m=\u001b[0m\u001b[0mself\u001b[0m\u001b[1;33m.\u001b[0m\u001b[0m_skip_invalid\u001b[0m\u001b[1;33m)\u001b[0m\u001b[1;33m\u001b[0m\u001b[1;33m\u001b[0m\u001b[0m\n\u001b[0m\u001b[0;32m   3900\u001b[0m \u001b[1;33m\u001b[0m\u001b[0m\n\u001b[0;32m   3901\u001b[0m         \u001b[1;31m# Save deep copies of current and new states\u001b[0m\u001b[1;33m\u001b[0m\u001b[1;33m\u001b[0m\u001b[1;33m\u001b[0m\u001b[0m\n",
      "\u001b[1;32m~\\Anaconda3\\lib\\site-packages\\_plotly_utils\\basevalidators.py\u001b[0m in \u001b[0;36mvalidate_coerce\u001b[1;34m(self, v, skip_invalid)\u001b[0m\n\u001b[0;32m   2519\u001b[0m                     \u001b[0mres\u001b[0m\u001b[1;33m.\u001b[0m\u001b[0mappend\u001b[0m\u001b[1;33m(\u001b[0m\u001b[0mself\u001b[0m\u001b[1;33m.\u001b[0m\u001b[0mdata_class\u001b[0m\u001b[1;33m(\u001b[0m\u001b[0mv_el\u001b[0m\u001b[1;33m)\u001b[0m\u001b[1;33m)\u001b[0m\u001b[1;33m\u001b[0m\u001b[1;33m\u001b[0m\u001b[0m\n\u001b[0;32m   2520\u001b[0m                 \u001b[1;32melif\u001b[0m \u001b[0misinstance\u001b[0m\u001b[1;33m(\u001b[0m\u001b[0mv_el\u001b[0m\u001b[1;33m,\u001b[0m \u001b[0mdict\u001b[0m\u001b[1;33m)\u001b[0m\u001b[1;33m:\u001b[0m\u001b[1;33m\u001b[0m\u001b[1;33m\u001b[0m\u001b[0m\n\u001b[1;32m-> 2521\u001b[1;33m                     \u001b[0mres\u001b[0m\u001b[1;33m.\u001b[0m\u001b[0mappend\u001b[0m\u001b[1;33m(\u001b[0m\u001b[0mself\u001b[0m\u001b[1;33m.\u001b[0m\u001b[0mdata_class\u001b[0m\u001b[1;33m(\u001b[0m\u001b[0mv_el\u001b[0m\u001b[1;33m,\u001b[0m \u001b[0mskip_invalid\u001b[0m\u001b[1;33m=\u001b[0m\u001b[0mskip_invalid\u001b[0m\u001b[1;33m)\u001b[0m\u001b[1;33m)\u001b[0m\u001b[1;33m\u001b[0m\u001b[1;33m\u001b[0m\u001b[0m\n\u001b[0m\u001b[0;32m   2522\u001b[0m                 \u001b[1;32melse\u001b[0m\u001b[1;33m:\u001b[0m\u001b[1;33m\u001b[0m\u001b[1;33m\u001b[0m\u001b[0m\n\u001b[0;32m   2523\u001b[0m                     \u001b[1;32mif\u001b[0m \u001b[0mskip_invalid\u001b[0m\u001b[1;33m:\u001b[0m\u001b[1;33m\u001b[0m\u001b[1;33m\u001b[0m\u001b[0m\n",
      "\u001b[1;32m~\\Anaconda3\\lib\\site-packages\\plotly\\graph_objs\\__init__.py\u001b[0m in \u001b[0;36m__init__\u001b[1;34m(self, arg, cliponaxis, connectgaps, customdata, customdatasrc, dr, dtheta, fill, fillcolor, hoverinfo, hoverinfosrc, hoverlabel, hoveron, hovertemplate, hovertemplatesrc, hovertext, hovertextsrc, ids, idssrc, legendgroup, line, marker, meta, metasrc, mode, name, opacity, r, r0, rsrc, selected, selectedpoints, showlegend, stream, subplot, text, textfont, textposition, textpositionsrc, textsrc, texttemplate, texttemplatesrc, theta, theta0, thetasrc, thetaunit, uid, uirevision, unselected, visible, **kwargs)\u001b[0m\n\u001b[0;32m  24075\u001b[0m         \u001b[0mself\u001b[0m\u001b[1;33m[\u001b[0m\u001b[1;34m\"line\"\u001b[0m\u001b[1;33m]\u001b[0m \u001b[1;33m=\u001b[0m \u001b[0mline\u001b[0m \u001b[1;32mif\u001b[0m \u001b[0mline\u001b[0m \u001b[1;32mis\u001b[0m \u001b[1;32mnot\u001b[0m \u001b[1;32mNone\u001b[0m \u001b[1;32melse\u001b[0m \u001b[0m_v\u001b[0m\u001b[1;33m\u001b[0m\u001b[1;33m\u001b[0m\u001b[0m\n\u001b[0;32m  24076\u001b[0m         \u001b[0m_v\u001b[0m \u001b[1;33m=\u001b[0m \u001b[0marg\u001b[0m\u001b[1;33m.\u001b[0m\u001b[0mpop\u001b[0m\u001b[1;33m(\u001b[0m\u001b[1;34m\"marker\"\u001b[0m\u001b[1;33m,\u001b[0m \u001b[1;32mNone\u001b[0m\u001b[1;33m)\u001b[0m\u001b[1;33m\u001b[0m\u001b[1;33m\u001b[0m\u001b[0m\n\u001b[1;32m> 24077\u001b[1;33m         \u001b[0mself\u001b[0m\u001b[1;33m[\u001b[0m\u001b[1;34m\"marker\"\u001b[0m\u001b[1;33m]\u001b[0m \u001b[1;33m=\u001b[0m \u001b[0mmarker\u001b[0m \u001b[1;32mif\u001b[0m \u001b[0mmarker\u001b[0m \u001b[1;32mis\u001b[0m \u001b[1;32mnot\u001b[0m \u001b[1;32mNone\u001b[0m \u001b[1;32melse\u001b[0m \u001b[0m_v\u001b[0m\u001b[1;33m\u001b[0m\u001b[1;33m\u001b[0m\u001b[0m\n\u001b[0m\u001b[0;32m  24078\u001b[0m         \u001b[0m_v\u001b[0m \u001b[1;33m=\u001b[0m \u001b[0marg\u001b[0m\u001b[1;33m.\u001b[0m\u001b[0mpop\u001b[0m\u001b[1;33m(\u001b[0m\u001b[1;34m\"meta\"\u001b[0m\u001b[1;33m,\u001b[0m \u001b[1;32mNone\u001b[0m\u001b[1;33m)\u001b[0m\u001b[1;33m\u001b[0m\u001b[1;33m\u001b[0m\u001b[0m\n\u001b[0;32m  24079\u001b[0m         \u001b[0mself\u001b[0m\u001b[1;33m[\u001b[0m\u001b[1;34m\"meta\"\u001b[0m\u001b[1;33m]\u001b[0m \u001b[1;33m=\u001b[0m \u001b[0mmeta\u001b[0m \u001b[1;32mif\u001b[0m \u001b[0mmeta\u001b[0m \u001b[1;32mis\u001b[0m \u001b[1;32mnot\u001b[0m \u001b[1;32mNone\u001b[0m \u001b[1;32melse\u001b[0m \u001b[0m_v\u001b[0m\u001b[1;33m\u001b[0m\u001b[1;33m\u001b[0m\u001b[0m\n",
      "\u001b[1;32m~\\Anaconda3\\lib\\site-packages\\plotly\\basedatatypes.py\u001b[0m in \u001b[0;36m__setitem__\u001b[1;34m(self, prop, value)\u001b[0m\n\u001b[0;32m   3469\u001b[0m             \u001b[1;31m# ### Handle compound property ###\u001b[0m\u001b[1;33m\u001b[0m\u001b[1;33m\u001b[0m\u001b[1;33m\u001b[0m\u001b[0m\n\u001b[0;32m   3470\u001b[0m             \u001b[1;32mif\u001b[0m \u001b[0misinstance\u001b[0m\u001b[1;33m(\u001b[0m\u001b[0mvalidator\u001b[0m\u001b[1;33m,\u001b[0m \u001b[0mCompoundValidator\u001b[0m\u001b[1;33m)\u001b[0m\u001b[1;33m:\u001b[0m\u001b[1;33m\u001b[0m\u001b[1;33m\u001b[0m\u001b[0m\n\u001b[1;32m-> 3471\u001b[1;33m                 \u001b[0mself\u001b[0m\u001b[1;33m.\u001b[0m\u001b[0m_set_compound_prop\u001b[0m\u001b[1;33m(\u001b[0m\u001b[0mprop\u001b[0m\u001b[1;33m,\u001b[0m \u001b[0mvalue\u001b[0m\u001b[1;33m)\u001b[0m\u001b[1;33m\u001b[0m\u001b[1;33m\u001b[0m\u001b[0m\n\u001b[0m\u001b[0;32m   3472\u001b[0m \u001b[1;33m\u001b[0m\u001b[0m\n\u001b[0;32m   3473\u001b[0m             \u001b[1;31m# ### Handle compound array property ###\u001b[0m\u001b[1;33m\u001b[0m\u001b[1;33m\u001b[0m\u001b[1;33m\u001b[0m\u001b[0m\n",
      "\u001b[1;32m~\\Anaconda3\\lib\\site-packages\\plotly\\basedatatypes.py\u001b[0m in \u001b[0;36m_set_compound_prop\u001b[1;34m(self, prop, val)\u001b[0m\n\u001b[0;32m   3823\u001b[0m         \u001b[1;31m# ------------\u001b[0m\u001b[1;33m\u001b[0m\u001b[1;33m\u001b[0m\u001b[1;33m\u001b[0m\u001b[0m\n\u001b[0;32m   3824\u001b[0m         \u001b[0mvalidator\u001b[0m \u001b[1;33m=\u001b[0m \u001b[0mself\u001b[0m\u001b[1;33m.\u001b[0m\u001b[0m_validators\u001b[0m\u001b[1;33m.\u001b[0m\u001b[0mget\u001b[0m\u001b[1;33m(\u001b[0m\u001b[0mprop\u001b[0m\u001b[1;33m)\u001b[0m\u001b[1;33m\u001b[0m\u001b[1;33m\u001b[0m\u001b[0m\n\u001b[1;32m-> 3825\u001b[1;33m         \u001b[0mval\u001b[0m \u001b[1;33m=\u001b[0m \u001b[0mvalidator\u001b[0m\u001b[1;33m.\u001b[0m\u001b[0mvalidate_coerce\u001b[0m\u001b[1;33m(\u001b[0m\u001b[0mval\u001b[0m\u001b[1;33m,\u001b[0m \u001b[0mskip_invalid\u001b[0m\u001b[1;33m=\u001b[0m\u001b[0mself\u001b[0m\u001b[1;33m.\u001b[0m\u001b[0m_skip_invalid\u001b[0m\u001b[1;33m)\u001b[0m\u001b[1;33m\u001b[0m\u001b[1;33m\u001b[0m\u001b[0m\n\u001b[0m\u001b[0;32m   3826\u001b[0m \u001b[1;33m\u001b[0m\u001b[0m\n\u001b[0;32m   3827\u001b[0m         \u001b[1;31m# Save deep copies of current and new states\u001b[0m\u001b[1;33m\u001b[0m\u001b[1;33m\u001b[0m\u001b[1;33m\u001b[0m\u001b[0m\n",
      "\u001b[1;32m~\\Anaconda3\\lib\\site-packages\\_plotly_utils\\basevalidators.py\u001b[0m in \u001b[0;36mvalidate_coerce\u001b[1;34m(self, v, skip_invalid)\u001b[0m\n\u001b[0;32m   2431\u001b[0m \u001b[1;33m\u001b[0m\u001b[0m\n\u001b[0;32m   2432\u001b[0m         \u001b[1;32melif\u001b[0m \u001b[0misinstance\u001b[0m\u001b[1;33m(\u001b[0m\u001b[0mv\u001b[0m\u001b[1;33m,\u001b[0m \u001b[0mdict\u001b[0m\u001b[1;33m)\u001b[0m\u001b[1;33m:\u001b[0m\u001b[1;33m\u001b[0m\u001b[1;33m\u001b[0m\u001b[0m\n\u001b[1;32m-> 2433\u001b[1;33m             \u001b[0mv\u001b[0m \u001b[1;33m=\u001b[0m \u001b[0mself\u001b[0m\u001b[1;33m.\u001b[0m\u001b[0mdata_class\u001b[0m\u001b[1;33m(\u001b[0m\u001b[0mv\u001b[0m\u001b[1;33m,\u001b[0m \u001b[0mskip_invalid\u001b[0m\u001b[1;33m=\u001b[0m\u001b[0mskip_invalid\u001b[0m\u001b[1;33m)\u001b[0m\u001b[1;33m\u001b[0m\u001b[1;33m\u001b[0m\u001b[0m\n\u001b[0m\u001b[0;32m   2434\u001b[0m \u001b[1;33m\u001b[0m\u001b[0m\n\u001b[0;32m   2435\u001b[0m         \u001b[1;32melif\u001b[0m \u001b[0misinstance\u001b[0m\u001b[1;33m(\u001b[0m\u001b[0mv\u001b[0m\u001b[1;33m,\u001b[0m \u001b[0mself\u001b[0m\u001b[1;33m.\u001b[0m\u001b[0mdata_class\u001b[0m\u001b[1;33m)\u001b[0m\u001b[1;33m:\u001b[0m\u001b[1;33m\u001b[0m\u001b[1;33m\u001b[0m\u001b[0m\n",
      "\u001b[1;32m~\\Anaconda3\\lib\\site-packages\\plotly\\graph_objs\\scatterpolar\\__init__.py\u001b[0m in \u001b[0;36m__init__\u001b[1;34m(self, arg, autocolorscale, cauto, cmax, cmid, cmin, color, coloraxis, colorbar, colorscale, colorsrc, gradient, line, maxdisplayed, opacity, opacitysrc, reversescale, showscale, size, sizemin, sizemode, sizeref, sizesrc, symbol, symbolsrc, **kwargs)\u001b[0m\n\u001b[0;32m   2063\u001b[0m         \u001b[1;31m# Import validators\u001b[0m\u001b[1;33m\u001b[0m\u001b[1;33m\u001b[0m\u001b[1;33m\u001b[0m\u001b[0m\n\u001b[0;32m   2064\u001b[0m         \u001b[1;31m# -----------------\u001b[0m\u001b[1;33m\u001b[0m\u001b[1;33m\u001b[0m\u001b[1;33m\u001b[0m\u001b[0m\n\u001b[1;32m-> 2065\u001b[1;33m         \u001b[1;32mfrom\u001b[0m \u001b[0mplotly\u001b[0m\u001b[1;33m.\u001b[0m\u001b[0mvalidators\u001b[0m\u001b[1;33m.\u001b[0m\u001b[0mscatterpolar\u001b[0m \u001b[1;32mimport\u001b[0m \u001b[0mmarker\u001b[0m \u001b[1;32mas\u001b[0m \u001b[0mv_marker\u001b[0m\u001b[1;33m\u001b[0m\u001b[1;33m\u001b[0m\u001b[0m\n\u001b[0m\u001b[0;32m   2066\u001b[0m \u001b[1;33m\u001b[0m\u001b[0m\n\u001b[0;32m   2067\u001b[0m         \u001b[1;31m# Initialize validators\u001b[0m\u001b[1;33m\u001b[0m\u001b[1;33m\u001b[0m\u001b[1;33m\u001b[0m\u001b[0m\n",
      "\u001b[1;32m~\\Anaconda3\\lib\\importlib\\_bootstrap.py\u001b[0m in \u001b[0;36m_find_and_load\u001b[1;34m(name, import_)\u001b[0m\n",
      "\u001b[1;32m~\\Anaconda3\\lib\\importlib\\_bootstrap.py\u001b[0m in \u001b[0;36m_find_and_load_unlocked\u001b[1;34m(name, import_)\u001b[0m\n",
      "\u001b[1;32m~\\Anaconda3\\lib\\importlib\\_bootstrap.py\u001b[0m in \u001b[0;36m_find_spec\u001b[1;34m(name, path, target)\u001b[0m\n",
      "\u001b[1;32m~\\Anaconda3\\lib\\importlib\\_bootstrap_external.py\u001b[0m in \u001b[0;36mfind_spec\u001b[1;34m(cls, fullname, path, target)\u001b[0m\n",
      "\u001b[1;32m~\\Anaconda3\\lib\\importlib\\_bootstrap_external.py\u001b[0m in \u001b[0;36m_get_spec\u001b[1;34m(cls, fullname, path, target)\u001b[0m\n",
      "\u001b[1;32m~\\Anaconda3\\lib\\importlib\\_bootstrap_external.py\u001b[0m in \u001b[0;36mfind_spec\u001b[1;34m(self, fullname, target)\u001b[0m\n",
      "\u001b[1;32m~\\Anaconda3\\lib\\importlib\\_bootstrap_external.py\u001b[0m in \u001b[0;36m_path_stat\u001b[1;34m(path)\u001b[0m\n",
      "\u001b[1;31mKeyboardInterrupt\u001b[0m: "
     ]
    }
   ],
   "source": [
    "can = df[df.IsCanceled == 1].IsCanceled.count()\n",
    "Ncan = df[df.IsCanceled == 0].IsCanceled.count()\n",
    "\n",
    "fig = go.Figure(go.Pie(labels=['Canceled','Not Canceled'], values=[can, Ncan]))\n",
    "fig.update_layout(height=300, width=400, title_text=\"Canceled vs. Not Canceled\")\n",
    "fig.show()"
   ]
  },
  {
   "cell_type": "code",
   "execution_count": null,
   "metadata": {
    "ExecuteTime": {
     "end_time": "2020-04-10T08:44:35.409151Z",
     "start_time": "2020-04-10T08:44:06.921Z"
    }
   },
   "outputs": [],
   "source": [
    "can = df[df.IsCanceled == 1][[\"ArrivalDateYear\",\"IsCanceled\"]].groupby([\"ArrivalDateYear\"]).count().sort_values(by = \"IsCanceled\", ascending = False).reset_index() \n",
    "Ncan= df[df.IsCanceled == 0][[\"ArrivalDateYear\",\"IsCanceled\"]].groupby([\"ArrivalDateYear\"]).count().sort_values(by = \"IsCanceled\", ascending = False).reset_index()\n",
    "\n",
    "pf_group = can.merge(Ncan, left_on= \"ArrivalDateYear\", right_on=\"ArrivalDateYear\" ) \n",
    "\n",
    "fig = go.Figure(data=[ \n",
    "    go.Bar(name='Canceled', x=pf_group['ArrivalDateYear'], y=pf_group['IsCanceled_x']), \n",
    "    go.Bar(name='Not Canceled', x=pf_group['ArrivalDateYear'], y=pf_group['IsCanceled_y']) \n",
    "]) \n",
    "\n",
    "# Change the bar mode \n",
    "fig.update_layout(barmode=\"group\",height=300, width=600, title_text=\"Canceled vs. Not Canceled by Year\", plot_bgcolor=\"white\")\n",
    "fig.show()\n",
    "\n",
    "can = df[df.IsCanceled == 1][[\"ArrivalDateMonth\",\"IsCanceled\"]].groupby([\"ArrivalDateMonth\"]).count().sort_values(by = \"IsCanceled\", ascending = False).reset_index() \n",
    "Ncan= df[df.IsCanceled == 0][[\"ArrivalDateMonth\",\"IsCanceled\"]].groupby([\"ArrivalDateMonth\"]).count().sort_values(by = \"IsCanceled\", ascending = False).reset_index()\n",
    "\n",
    "pf_group = can.merge(Ncan, left_on= \"ArrivalDateMonth\", right_on=\"ArrivalDateMonth\" ) \n",
    "\n",
    "fig = go.Figure(data=[ \n",
    "    go.Bar(name='Canceled', x=pf_group['ArrivalDateMonth'], y=pf_group['IsCanceled_x']), \n",
    "    go.Bar(name='Not Canceled', x=pf_group['ArrivalDateMonth'], y=pf_group['IsCanceled_y']) \n",
    "]) \n",
    "\n",
    "# Change the bar mode \n",
    "fig.update_layout(barmode=\"group\",height=300, width=600, title_text=\"Canceled vs. Not Canceled by Month\", plot_bgcolor=\"white\")\n",
    "fig.show() "
   ]
  },
  {
   "cell_type": "code",
   "execution_count": null,
   "metadata": {
    "ExecuteTime": {
     "end_time": "2020-04-10T08:44:35.417138Z",
     "start_time": "2020-04-10T08:44:06.934Z"
    }
   },
   "outputs": [],
   "source": [
    "can = df[df.IsCanceled == 1][[\"Agent\",\"IsCanceled\"]].groupby([\"Agent\"]).count().sort_values(by = \"IsCanceled\", ascending = False).reset_index() \n",
    "Ncan= df[df.IsCanceled == 0][[\"Agent\",\"IsCanceled\"]].groupby([\"Agent\"]).count().sort_values(by = \"IsCanceled\", ascending = False).reset_index()\n",
    "\n",
    "pf_group = can.merge(Ncan, left_on= \"Agent\", right_on=\"Agent\" ).head() \n",
    "print(pf_group)\n",
    "\n",
    "x=[1,2,3,4,5]\n",
    "\n",
    "fig = go.Figure(go.Bar(x=x, y=pf_group.IsCanceled_x, name='Canceled'))\n",
    "fig.add_trace(go.Bar(x=x, y=pf_group.IsCanceled_y, name='Not Canceled'))\n",
    "\n",
    "fig.update_layout(barmode='stack',xaxis={'categoryorder':'total descending'})\n",
    "fig.show()"
   ]
  },
  {
   "cell_type": "code",
   "execution_count": null,
   "metadata": {
    "ExecuteTime": {
     "end_time": "2020-04-10T08:44:35.425129Z",
     "start_time": "2020-04-10T08:44:06.947Z"
    }
   },
   "outputs": [],
   "source": [
    "can = df[df.IsCanceled == 1][[\"ReservedRoomType\",\"IsCanceled\"]].groupby([\"ReservedRoomType\"]).count().sort_values(by = \"IsCanceled\", ascending = False).reset_index() \n",
    "Ncan= df[df.IsCanceled == 0][[\"ReservedRoomType\",\"IsCanceled\"]].groupby([\"ReservedRoomType\"]).count().sort_values(by = \"IsCanceled\", ascending = False).reset_index()\n",
    "\n",
    "pf_group = can.merge(Ncan, left_on= \"ReservedRoomType\", right_on=\"ReservedRoomType\" ).head() \n",
    "\n",
    "x=pf_group.ReservedRoomType.values\n",
    "\n",
    "fig = go.Figure(go.Bar(x=x, y=pf_group.IsCanceled_x, name='Canceled'))\n",
    "fig.add_trace(go.Bar(x=x, y=pf_group.IsCanceled_y, name='Not Canceled'))\n",
    "\n",
    "fig.update_layout(barmode='stack',xaxis={'categoryorder':'total descending'})\n",
    "fig.show()"
   ]
  },
  {
   "cell_type": "code",
   "execution_count": null,
   "metadata": {
    "ExecuteTime": {
     "end_time": "2020-04-10T08:44:35.433119Z",
     "start_time": "2020-04-10T08:44:06.960Z"
    }
   },
   "outputs": [],
   "source": [
    "R = df[df.ReservedRoomType == df.AssignedRoomType].IsCanceled.count()\n",
    "W = df[df.ReservedRoomType != df.AssignedRoomType].IsCanceled.count()\n",
    "\n",
    "fig = go.Figure(go.Pie(labels=['Right Assigned Room','Wrong Assigned Room'], values=[R, W]))\n",
    "fig.update_layout(height=500, width=500, title_text=\"Assigned Room Type\")\n",
    "fig.show()"
   ]
  },
  {
   "cell_type": "code",
   "execution_count": null,
   "metadata": {
    "ExecuteTime": {
     "end_time": "2020-04-10T08:44:35.441109Z",
     "start_time": "2020-04-10T08:44:06.970Z"
    }
   },
   "outputs": [],
   "source": [
    "df['FamilySize'] = df['Adults'] + df['Children'] + df['Babies']\n",
    "df_F = df[df.FamilySize != 0]\n",
    "\n",
    "can = df_F[df_F.IsCanceled == 1][[\"FamilySize\",\"IsCanceled\"]].groupby([\"FamilySize\"]).count().sort_values(by = \"IsCanceled\", ascending = False).reset_index() \n",
    "Ncan= df_F[df_F.IsCanceled == 0][[\"FamilySize\",\"IsCanceled\"]].groupby([\"FamilySize\"]).count().sort_values(by = \"IsCanceled\", ascending = False).reset_index()\n",
    "\n",
    "pf_group = can.merge(Ncan, left_on= \"FamilySize\", right_on=\"FamilySize\" ) \n",
    "fig = go.Figure(data=[ \n",
    "    go.Bar(name='Canceled', x=pf_group['FamilySize'], y=pf_group['IsCanceled_x']), \n",
    "    go.Bar(name='Not Canceled', x=pf_group['FamilySize'], y=pf_group['IsCanceled_y']) \n",
    "]) \n",
    "\n",
    "# Change the bar mode \n",
    "fig.update_layout(barmode=\"group\",height=300, width=600, title_text=\"Canceled vs. Not Canceled by Family Size\", plot_bgcolor=\"white\")\n",
    "fig.show() "
   ]
  },
  {
   "cell_type": "code",
   "execution_count": null,
   "metadata": {
    "ExecuteTime": {
     "end_time": "2020-04-10T08:44:35.445102Z",
     "start_time": "2020-04-10T08:44:06.982Z"
    }
   },
   "outputs": [],
   "source": [
    "can = df[(df.IsCanceled == 1) & (df.BookingChanges>=1)][[\"BookingChanges\",\"IsCanceled\"]].IsCanceled.count() \n",
    "Ncan= df[(df.IsCanceled == 0) & (df.BookingChanges>=1)][[\"BookingChanges\",\"IsCanceled\"]].IsCanceled.count()\n",
    "\n",
    "fig = go.Figure(go.Pie(labels=['Canceled','Not Canceled'], values=[can, Ncan]))\n",
    "fig.update_layout(height=500, width=500, title_text=\"Booking with at least 1 Booking Change\")\n",
    "fig.show()"
   ]
  },
  {
   "cell_type": "code",
   "execution_count": null,
   "metadata": {
    "ExecuteTime": {
     "end_time": "2020-04-10T08:44:35.453089Z",
     "start_time": "2020-04-10T08:44:06.996Z"
    }
   },
   "outputs": [],
   "source": [
    "can = df[df.IsCanceled == 1][[\"Country\",\"IsCanceled\"]].groupby([\"Country\"]).count().sort_values(by = \"IsCanceled\", ascending = False).reset_index() \n",
    "Ncan= df[df.IsCanceled == 0][[\"Country\",\"IsCanceled\"]].groupby([\"Country\"]).count().sort_values(by = \"IsCanceled\", ascending = False).reset_index()\n",
    "\n",
    "pf_group = can.merge(Ncan, left_on= \"Country\", right_on=\"Country\" ).head()\n",
    "fig = go.Figure(data=[ \n",
    "    go.Bar(name='Canceled', x=pf_group['Country'], y=pf_group['IsCanceled_x']), \n",
    "    go.Bar(name='Not Canceled', x=pf_group['Country'], y=pf_group['IsCanceled_y']) \n",
    "]) \n",
    "\n",
    "# Change the bar mode \n",
    "fig.update_layout(barmode=\"group\",height=300, width=600, title_text=\"Canceled vs. Not Canceled by Country\", plot_bgcolor=\"white\")\n",
    "fig.show() \n",
    "\n",
    "#Remember this one it's problematic since we just know the real country from the customer when the customer arrives"
   ]
  },
  {
   "cell_type": "code",
   "execution_count": null,
   "metadata": {
    "ExecuteTime": {
     "end_time": "2020-04-10T08:44:35.459644Z",
     "start_time": "2020-04-10T08:44:07.008Z"
    }
   },
   "outputs": [],
   "source": [
    "can = df[df.IsCanceled == 1][[\"CustomerType\",\"IsCanceled\"]].groupby([\"CustomerType\"]).count().sort_values(by = \"IsCanceled\", ascending = False).reset_index() \n",
    "Ncan= df[df.IsCanceled == 0][[\"CustomerType\",\"IsCanceled\"]].groupby([\"CustomerType\"]).count().sort_values(by = \"IsCanceled\", ascending = False).reset_index()\n",
    "\n",
    "pf_group = can.merge(Ncan, left_on= \"CustomerType\", right_on=\"CustomerType\" ).head()\n",
    "fig = go.Figure(data=[ \n",
    "    go.Bar(name='Canceled', x=pf_group['CustomerType'], y=pf_group['IsCanceled_x']), \n",
    "    go.Bar(name='Not Canceled', x=pf_group['CustomerType'], y=pf_group['IsCanceled_y']) \n",
    "]) \n",
    "\n",
    "# Change the bar mode \n",
    "fig.update_layout(barmode=\"group\",height=300, width=600, title_text=\"Canceled vs. Not Canceled by Customer Type\", plot_bgcolor=\"white\")\n",
    "fig.show() "
   ]
  },
  {
   "cell_type": "code",
   "execution_count": null,
   "metadata": {
    "ExecuteTime": {
     "end_time": "2020-04-10T08:44:35.467633Z",
     "start_time": "2020-04-10T08:44:07.022Z"
    }
   },
   "outputs": [],
   "source": [
    "can = df[df.IsCanceled == 1][[\"DepositType\",\"IsCanceled\"]].groupby([\"DepositType\"]).count().sort_values(by = \"IsCanceled\", ascending = False).reset_index() \n",
    "Ncan= df[df.IsCanceled == 0][[\"DepositType\",\"IsCanceled\"]].groupby([\"DepositType\"]).count().sort_values(by = \"IsCanceled\", ascending = False).reset_index()\n",
    "\n",
    "\n",
    "pf_group = can.merge(Ncan, left_on= \"DepositType\", right_on=\"DepositType\" ).head()\n",
    "fig = go.Figure(data=[ \n",
    "    go.Bar(name='Canceled', x=pf_group['DepositType'], y=pf_group['IsCanceled_x']), \n",
    "    go.Bar(name='Not Canceled', x=pf_group['DepositType'], y=pf_group['IsCanceled_y']) \n",
    "]) \n",
    "\n",
    "# Change the bar mode \n",
    "fig.update_layout(barmode=\"group\",height=300, width=600, title_text=\"Canceled vs. Not Canceled by Deposit Type\", plot_bgcolor=\"white\")\n",
    "fig.show() "
   ]
  },
  {
   "cell_type": "code",
   "execution_count": null,
   "metadata": {
    "ExecuteTime": {
     "end_time": "2020-04-10T08:44:35.475624Z",
     "start_time": "2020-04-10T08:44:07.033Z"
    },
    "scrolled": false
   },
   "outputs": [],
   "source": [
    "can = df[df.IsCanceled == 1][[\"DistributionChannel\",\"IsCanceled\"]].groupby([\"DistributionChannel\"]).count().sort_values(by = \"IsCanceled\", ascending = False).reset_index() \n",
    "Ncan= df[df.IsCanceled == 0][[\"DistributionChannel\",\"IsCanceled\"]].groupby([\"DistributionChannel\"]).count().sort_values(by = \"IsCanceled\", ascending = False).reset_index()\n",
    "\n",
    "\n",
    "pf_group = can.merge(Ncan, left_on= \"DistributionChannel\", right_on=\"DistributionChannel\" ).head()\n",
    "fig = go.Figure(data=[ \n",
    "    go.Bar(name='Canceled', x=pf_group['DistributionChannel'], y=pf_group['IsCanceled_x']), \n",
    "    go.Bar(name='Not Canceled', x=pf_group['DistributionChannel'], y=pf_group['IsCanceled_y']) \n",
    "]) \n",
    "\n",
    "# Change the bar mode \n",
    "fig.update_layout(barmode=\"group\",height=300, width=600, title_text=\"Canceled vs. Not Canceled by Distribution Channel\", plot_bgcolor=\"white\")\n",
    "fig.show()\n",
    "\n",
    "can = df[df.IsCanceled == 1][[\"MarketSegment\",\"IsCanceled\"]].groupby([\"MarketSegment\"]).count().sort_values(by = \"IsCanceled\", ascending = False).reset_index() \n",
    "Ncan= df[df.IsCanceled == 0][[\"MarketSegment\",\"IsCanceled\"]].groupby([\"MarketSegment\"]).count().sort_values(by = \"IsCanceled\", ascending = False).reset_index()\n",
    "\n",
    "\n",
    "pf_group = can.merge(Ncan, left_on= \"MarketSegment\", right_on=\"MarketSegment\" ).head()\n",
    "fig = go.Figure(data=[ \n",
    "    go.Bar(name='Canceled', x=pf_group['MarketSegment'], y=pf_group['IsCanceled_x']), \n",
    "    go.Bar(name='Not Canceled', x=pf_group['MarketSegment'], y=pf_group['IsCanceled_y']) \n",
    "]) \n",
    "\n",
    "# Change the bar mode \n",
    "fig.update_layout(barmode=\"group\",height=300, width=600, title_text=\"Canceled vs. Not Canceled by Market Segment\", plot_bgcolor=\"white\")\n",
    "fig.show()"
   ]
  },
  {
   "cell_type": "code",
   "execution_count": null,
   "metadata": {
    "ExecuteTime": {
     "end_time": "2020-04-10T08:44:35.479615Z",
     "start_time": "2020-04-10T08:44:07.044Z"
    },
    "scrolled": false
   },
   "outputs": [],
   "source": [
    "can = df[(df.IsRepeatedGuest == 1)][[\"IsRepeatedGuest\",\"IsCanceled\"]].IsCanceled.count() \n",
    "Ncan= df[(df.IsRepeatedGuest == 0)][[\"IsRepeatedGuest\",\"IsCanceled\"]].IsCanceled.count()\n",
    "\n",
    "fig = go.Figure(go.Pie(labels=['Repeat Customer','First Time Customer'], values=[can, Ncan]))\n",
    "fig.update_layout(height=300, width=600, title_text=\"Check for repeat customers\")\n",
    "fig.show()"
   ]
  },
  {
   "cell_type": "code",
   "execution_count": null,
   "metadata": {
    "ExecuteTime": {
     "end_time": "2020-04-10T08:44:35.485654Z",
     "start_time": "2020-04-10T08:44:07.053Z"
    },
    "scrolled": false
   },
   "outputs": [],
   "source": [
    "fig = go.Figure(data=[ \n",
    "    go.Histogram(x=df[df.IsCanceled == 1].LeadTime,nbinsx=50, name=\"Canceled\"),\n",
    "    go.Histogram(x=df[df.IsCanceled == 0].LeadTime,nbinsx=50, name=\"Not Canceled\")])\n",
    "\n",
    "fig.update_layout(title_text=\"Lead time in Canceled and Not Canceled Bookings\")\n",
    "fig.show() "
   ]
  },
  {
   "cell_type": "code",
   "execution_count": null,
   "metadata": {
    "ExecuteTime": {
     "end_time": "2020-04-10T08:44:35.493654Z",
     "start_time": "2020-04-10T08:44:07.065Z"
    },
    "scrolled": false
   },
   "outputs": [],
   "source": [
    "can = df[df.IsCanceled == 1][[\"Meal\",\"IsCanceled\"]].groupby([\"Meal\"]).count().sort_values(by = \"IsCanceled\", ascending = False).reset_index() \n",
    "Ncan= df[df.IsCanceled == 0][[\"Meal\",\"IsCanceled\"]].groupby([\"Meal\"]).count().sort_values(by = \"IsCanceled\", ascending = False).reset_index()\n",
    "\n",
    "\n",
    "pf_group = can.merge(Ncan, left_on= \"Meal\", right_on=\"Meal\" ).head()\n",
    "fig = go.Figure(data=[ \n",
    "    go.Bar(name='Canceled', x=pf_group['Meal'], y=pf_group['IsCanceled_x']), \n",
    "    go.Bar(name='Not Canceled', x=pf_group['Meal'], y=pf_group['IsCanceled_y']) \n",
    "]) \n",
    "\n",
    "# Change the bar mode \n",
    "fig.update_layout(barmode=\"group\",height=300, width=600, title_text=\"Canceled vs. Not Canceled by Market Segment\", plot_bgcolor=\"white\")\n",
    "fig.show()"
   ]
  },
  {
   "cell_type": "code",
   "execution_count": null,
   "metadata": {
    "ExecuteTime": {
     "end_time": "2020-04-10T08:44:35.501644Z",
     "start_time": "2020-04-10T08:44:07.094Z"
    }
   },
   "outputs": [],
   "source": [
    "can = df[df.IsCanceled == 1].PreviousCancellations.sum()\n",
    "Ncan = df[df.IsCanceled == 0].PreviousCancellations.sum()\n",
    "\n",
    "fig = go.Figure(go.Pie(labels=['Canceled','Not Canceled'], values=[can, Ncan]))\n",
    "fig.update_layout(height=500, width=500, title_text=\"Previous Cancellations\")\n",
    "fig.show()"
   ]
  },
  {
   "cell_type": "code",
   "execution_count": null,
   "metadata": {
    "ExecuteTime": {
     "end_time": "2020-04-10T08:44:35.509633Z",
     "start_time": "2020-04-10T08:44:07.126Z"
    }
   },
   "outputs": [],
   "source": [
    "can = df[df.IsCanceled == 1] \n",
    "Ncan = df[df.IsCanceled == 0] \n",
    "\n",
    "fig = make_subplots(2,2, subplot_titles=[\"Canceled Weekend\",\"Canceled Week\"\n",
    "                                        , \"Not Canceled Weekend\", \"Not Canceled Week\"])\n",
    "\n",
    "fig.add_trace(go.Histogram(x=can.StaysInWeekendNights, name=\"Restaurant Day\"),1,1)\n",
    "fig.add_trace(go.Histogram(x=can.StaysInWeekNights, name=\"Delivery Day\"),1,2)\n",
    "\n",
    "fig.add_trace(go.Histogram(x=Ncan.StaysInWeekendNights, name=\"Restaurant Month\"),2,1)\n",
    "fig.add_trace(go.Histogram(x=Ncan.StaysInWeekNights, name=\"Delivery Month\"),2,2)\n",
    "\n",
    "fig.update_layout(title_text=\"Number of nights booked\", plot_bgcolor=\"white\", showlegend=False)\n",
    "\n",
    "fig.show() "
   ]
  },
  {
   "cell_type": "code",
   "execution_count": null,
   "metadata": {
    "ExecuteTime": {
     "end_time": "2020-04-10T08:44:35.517623Z",
     "start_time": "2020-04-10T08:44:07.141Z"
    }
   },
   "outputs": [],
   "source": [
    "can = df[df.IsCanceled == 1][[\"TotalOfSpecialRequests\",\"IsCanceled\"]].groupby([\"TotalOfSpecialRequests\"]).count().sort_values(by = \"IsCanceled\", ascending = False).reset_index() \n",
    "Ncan= df[df.IsCanceled == 0][[\"TotalOfSpecialRequests\",\"IsCanceled\"]].groupby([\"TotalOfSpecialRequests\"]).count().sort_values(by = \"IsCanceled\", ascending = False).reset_index()\n",
    "\n",
    "\n",
    "pf_group = can.merge(Ncan, left_on= \"TotalOfSpecialRequests\", right_on=\"TotalOfSpecialRequests\" ).head()\n",
    "fig = go.Figure(data=[ \n",
    "    go.Bar(name='Canceled', x=pf_group['TotalOfSpecialRequests'], y=pf_group['IsCanceled_x']), \n",
    "    go.Bar(name='Not Canceled', x=pf_group['TotalOfSpecialRequests'], y=pf_group['IsCanceled_y']) \n",
    "]) \n",
    "\n",
    "# Change the bar mode \n",
    "fig.update_layout(barmode=\"group\",height=300, width=600, title_text=\"Canceled vs. Not Canceled by Total of Special Requests\", plot_bgcolor=\"white\")\n",
    "fig.show()"
   ]
  },
  {
   "cell_type": "markdown",
   "metadata": {},
   "source": [
    "## Summary Data Understanding / Data Exploration\n"
   ]
  },
  {
   "cell_type": "markdown",
   "metadata": {},
   "source": [
    "# Step 3: Data Preparation"
   ]
  },
  {
   "cell_type": "code",
   "execution_count": 88,
   "metadata": {
    "ExecuteTime": {
     "end_time": "2020-04-10T09:10:30.130270Z",
     "start_time": "2020-04-10T09:10:13.719369Z"
    }
   },
   "outputs": [
    {
     "data": {
      "image/png": "[encoded data removed]",
      "text/plain": [
       "<Figure size 1440x1440 with 12 Axes>"
      ]
     },
     "metadata": {},
     "output_type": "display_data"
    }
   ],
   "source": [
    "#boxplots to detect outliers\n",
    "fig, ax = plt.subplots(4, 3, figsize=(20, 20))\n",
    "fig.tight_layout()\n",
    "for var, subplot in zip(df[numerical_var], ax.flatten()):\n",
    "    sns.boxplot(df[var], ax=subplot)"
   ]
  },
  {
   "cell_type": "code",
   "execution_count": 89,
   "metadata": {
    "ExecuteTime": {
     "end_time": "2020-04-10T09:10:30.240421Z",
     "start_time": "2020-04-10T09:10:30.140319Z"
    }
   },
   "outputs": [],
   "source": [
    "#drop ghost guests (~100rows)\n",
    "noguests= df[df.Babies + df.Children + df.Adults == 0].index\n",
    "df.drop(df.index[noguests], inplace=True)"
   ]
  },
  {
   "cell_type": "code",
   "execution_count": 90,
   "metadata": {
    "ExecuteTime": {
     "end_time": "2020-04-10T09:10:30.368875Z",
     "start_time": "2020-04-10T09:10:30.252404Z"
    }
   },
   "outputs": [],
   "source": [
    "#Drop customers that didnt stay any night (~260 rows)\n",
    "nonights = df[df.StaysInWeekendNights + df.StaysInWeekNights == 0].index\n",
    "df.drop(df.index[nonights], inplace=True)"
   ]
  },
  {
   "cell_type": "code",
   "execution_count": 91,
   "metadata": {
    "ExecuteTime": {
     "end_time": "2020-04-10T09:10:30.840989Z",
     "start_time": "2020-04-10T09:10:30.376864Z"
    }
   },
   "outputs": [
    {
     "data": {
      "text/plain": [
       "IsCanceled                     1.000000\n",
       "LeadTime                       0.308856\n",
       "PreviousCancellations          0.166049\n",
       "DaysInWaitingList              0.060709\n",
       "StaysInWeekNights              0.051062\n",
       "Adults                         0.049315\n",
       "ArrivalDateWeekNumber          0.001631\n",
       "ArrivalDateYear               -0.003263\n",
       "ArrivalDateDayOfMonth         -0.004487\n",
       "StaysInWeekendNights          -0.006638\n",
       "ADR                           -0.014765\n",
       "Children                      -0.027520\n",
       "Babies                        -0.030249\n",
       "PreviousBookingsNotCanceled   -0.053364\n",
       "IsRepeatedGuest               -0.064097\n",
       "RequiredCarParkingSpaces      -0.133533\n",
       "BookingChanges                -0.150328\n",
       "TotalOfSpecialRequests        -0.294582\n",
       "Name: IsCanceled, dtype: float64"
      ]
     },
     "execution_count": 91,
     "metadata": {},
     "output_type": "execute_result"
    }
   ],
   "source": [
    "df.corr()[\"IsCanceled\"].sort_values(ascending = False )"
   ]
  },
  {
   "cell_type": "code",
   "execution_count": 92,
   "metadata": {
    "ExecuteTime": {
     "end_time": "2020-04-10T09:10:30.943667Z",
     "start_time": "2020-04-10T09:10:30.848978Z"
    }
   },
   "outputs": [],
   "source": [
    "df.RequiredCarParkingSpaces.value_counts()\n",
    "#Only 5 cases with more than 1 car. These records wont affect the final result, so they can be dropped\n",
    "df = df[df.RequiredCarParkingSpaces<=1]"
   ]
  },
  {
   "cell_type": "code",
   "execution_count": 94,
   "metadata": {
    "ExecuteTime": {
     "end_time": "2020-04-10T09:12:47.230716Z",
     "start_time": "2020-04-10T09:12:46.828742Z"
    }
   },
   "outputs": [
    {
     "name": "stdout",
     "output_type": "stream",
     "text": [
      "Max 510.0 \n",
      " Min 0.0 \n",
      " Mean 105.45013803505667\n",
      "number of customers who paid less than 20€ for hotel: 1284\n"
     ]
    }
   ],
   "source": [
    "df#analysing Average Daily Rate\n",
    "print(\"Max\",df.ADR.max(), \"\\n\", \"Min\", df.ADR.min(), \"\\n\", \"Mean\", df.ADR.mean())\n",
    "#second highest value\n",
    "df.ADR.value_counts().sort_index(ascending=False)\n",
    "#Second highest value is 510, lets drop values above\n",
    "df = df[df.ADR < 520] #1 record\n",
    "#check lower values\n",
    "df.ADR.value_counts().sort_index()[:40]\n",
    "#There are some values with really low ADR. This could mean Staff and other people related to the hotel.\n",
    "#As such we will drop these \"customers\" as they dont bring value to our analysis.\n",
    "print(\"number of customers who paid less than 20€ for hotel:\",df.ADR.value_counts().sort_index()[:20].sum())\n",
    "df = df[df.ADR > 20] #1284 record from which 1064 are paid 0"
   ]
  },
  {
   "cell_type": "code",
   "execution_count": 95,
   "metadata": {
    "ExecuteTime": {
     "end_time": "2020-04-10T09:12:54.769422Z",
     "start_time": "2020-04-10T09:12:54.753445Z"
    }
   },
   "outputs": [],
   "source": [
    "#Looking into FamilySize, most people travel in groups of 1-4, with few exceptions with 5. \n",
    "#There are 2 cases above 10. We will remove these outliers as they may have prejudicial results\n",
    "#X.FamilySize.value_counts()\n",
    "#X= X[X.FamilySize <10]"
   ]
  },
  {
   "cell_type": "code",
   "execution_count": 96,
   "metadata": {
    "ExecuteTime": {
     "end_time": "2020-04-10T09:12:56.337609Z",
     "start_time": "2020-04-10T09:12:54.845437Z"
    }
   },
   "outputs": [
    {
     "data": {
      "text/plain": [
       "<matplotlib.axes._subplots.AxesSubplot at 0x2ba3bc9cbc8>"
      ]
     },
     "execution_count": 96,
     "metadata": {},
     "output_type": "execute_result"
    },
    {
     "data": {
      "image/png": "[encoded data removed]",
      "text/plain": [
       "<Figure size 432x288 with 1 Axes>"
      ]
     },
     "metadata": {},
     "output_type": "display_data"
    }
   ],
   "source": [
    "df.DaysInWaitingList[df.DaysInWaitingList>0].value_counts().sort_index().plot()\n",
    "#Even if we remove 0, the most common ocurrence, people usually stay in waiting list for ~50 days, but it is not uncommon\n",
    "#to see customers with longer waiting time."
   ]
  },
  {
   "cell_type": "code",
   "execution_count": 97,
   "metadata": {
    "ExecuteTime": {
     "end_time": "2020-04-10T09:12:58.442052Z",
     "start_time": "2020-04-10T09:12:56.347086Z"
    }
   },
   "outputs": [
    {
     "data": {
      "text/plain": [
       "0      2618\n",
       "1      1723\n",
       "2      1054\n",
       "4       987\n",
       "3       966\n",
       "       ... \n",
       "380       1\n",
       "387       1\n",
       "366       1\n",
       "389       1\n",
       "347       1\n",
       "Name: LeadTime, Length: 453, dtype: int64"
      ]
     },
     "execution_count": 97,
     "metadata": {},
     "output_type": "execute_result"
    },
    {
     "data": {
      "image/png": "[encoded data removed]",
      "text/plain": [
       "<Figure size 432x288 with 1 Axes>"
      ]
     },
     "metadata": {},
     "output_type": "display_data"
    }
   ],
   "source": [
    "df.PreviousCancellations.value_counts()\n",
    "#People usually dont have previous cancellations as most of them are new customers. Bin? 0,1+\n",
    "\n",
    "df.TotalOfSpecialRequests.value_counts()\n",
    "#No requests most common, then one request. Having more than 2 is also pretty common.Bin? 0,1,2+\n",
    "\n",
    "df.BookingChanges.value_counts()\n",
    "#No changes is most common. Having 1 or 2 changes also happen. Bin? 0, 1, 2+\n",
    "\n",
    "df.LeadTime.value_counts().sort_index().plot(title=\"Lead Time\", xticks = [0,50,100,150,200,250,300,350,400,450,500,550,600,650], rot=90)\n",
    "df.LeadTime.value_counts()\n",
    "#Several types of customers,depending on their booking time... No real outliers. Bin?\n"
   ]
  },
  {
   "cell_type": "markdown",
   "metadata": {},
   "source": [
    "## Feature Preparation/Engineering"
   ]
  },
  {
   "cell_type": "code",
   "execution_count": 98,
   "metadata": {
    "ExecuteTime": {
     "end_time": "2020-04-10T09:12:58.499525Z",
     "start_time": "2020-04-10T09:12:58.456386Z"
    }
   },
   "outputs": [],
   "source": [
    "# Check the cancellation ratio:\n",
    "\n",
    "def cancellation_ratio (feature):\n",
    "    can = df[df.IsCanceled == 1][[feature,\"IsCanceled\"]].groupby([feature]).count()\n",
    "    ncan = df[df.IsCanceled == 0][[feature,\"IsCanceled\"]].groupby([feature]).count()\n",
    "    can_ratio = pd.merge(left=can,right=ncan,on=feature,suffixes=('=1', '=0'))\n",
    "    can_ratio[\"cancelRatio\"]=can_ratio[\"IsCanceled=1\"]/(can_ratio[\"IsCanceled=0\"]+can_ratio[\"IsCanceled=1\"])\n",
    "    can_ratio.sort_values(by='cancelRatio')\n",
    "    return can_ratio"
   ]
  },
  {
   "cell_type": "code",
   "execution_count": 100,
   "metadata": {
    "ExecuteTime": {
     "end_time": "2020-04-10T09:14:35.663302Z",
     "start_time": "2020-04-10T09:14:32.194478Z"
    }
   },
   "outputs": [],
   "source": [
    "#ADR binned regarding the bins from booking.com\n",
    "df[\"ADRBinned\"] = df.ADR.apply(lambda x: '0-19' if x>=0 and x<20 else \n",
    "                                         ('20-50' if x>=20 and x<51 else\n",
    "                                          ('51-100' if x>=51 and x<101 else\n",
    "                                           ('101-150' if x>=101 and x<151 else\n",
    "                                            ('151-200' if x>=151 and x<201 else '200+')))))\n",
    "\n",
    "#StaysInWeekendNights and StaysInWeekNights binning into total nights\n",
    "#2-3     42807\n",
    "#4-7     21672\n",
    "#1       13272\n",
    "#8-30     1241\n",
    "#30+       338\n",
    "\n",
    "df[\"totalNights\"]=df.StaysInWeekendNights + df.StaysInWeekNights\n",
    "\n",
    "df[\"totalNightsBinned\"] = df.totalNights.apply(lambda x: '1' if x==1 else \n",
    "                                         ('2-3' if x>=2 and x<4 else\n",
    "                                          ('4-7' if x>=4 and x<8 else\n",
    "                                           ('8-30' if x>=8 and x<31 else '30+'))))\n",
    "\n",
    "#Agent binning by cancellation ration higher 50 percent\n",
    "ratio=cancellation_ratio(\"Agent\")\n",
    "df = df.merge(ratio, left_on=[\"Agent\"], right_on=[\"Agent\"], how='left') \n",
    "df[\"AgentBinned\"] = df.cancelRatio.apply(lambda x: 'Above50PercCanceled' if x>0.5 else 'Below50PercCanceled')\n",
    "df.drop(columns=[\"IsCanceled=1\",\"IsCanceled=0\",\"cancelRatio\"], inplace=True)\n",
    "\n",
    "#MarketSegment binning by cancellation ratio \n",
    "\n",
    "#Aviation         0.219409\n",
    "#Complementary    0.118081\n",
    "#Corporate        0.214668\n",
    "#Direct           0.173314\n",
    "#Groups           0.688587\n",
    "#Offline TA/TO    0.428316\n",
    "#Online TA        0.373981\n",
    "\n",
    "ratio=cancellation_ratio(\"MarketSegment\")\n",
    "df = df.merge(ratio, left_on=[\"MarketSegment\"], right_on=[\"MarketSegment\"], how='left') \n",
    "df[\"MarketSegmentBinned\"] = df.cancelRatio.apply(lambda x: 'Above25PercCanceled' if x>0.25 else 'Below25PercCanceled')\n",
    "df.drop(columns=[\"IsCanceled=1\",\"IsCanceled=0\",\"cancelRatio\"], inplace=True)\n",
    "\n",
    "#LeadTime binning\n",
    "#31-120     28244\n",
    "#121-365    25020\n",
    "#8-30       12554\n",
    "#0-7        10808\n",
    "#366+        2704\n",
    "\n",
    "df[\"LeadTimeBinned\"] = df.LeadTime.apply(lambda x: '0-7' if x>=0 and x<8 else \n",
    "                                         ('8-30' if x>=8 and x<31 else \n",
    "                                          ('31-120' if x>=31 and x<121 else\n",
    "                                           ('121-365' if x>=121 and x<366 else '366+'))))\n",
    "\n",
    "#ArrivalDateMonth binning\n",
    "#divided into below and above average cancellation (41.7 %)\n",
    "\n",
    "#1    42743\n",
    "#0    36587\n",
    "\n",
    "#Cancellation Ratio: \n",
    "#April        0.463235\n",
    "#August       0.400980\n",
    "#December     0.421104\n",
    "#February     0.382880\n",
    "#January      0.396681\n",
    "#July         0.408754\n",
    "#June         0.446922\n",
    "#March        0.369464\n",
    "#May          0.443756\n",
    "#November     0.381226\n",
    "#October      0.429717\n",
    "#September    0.420270\n",
    "\n",
    "ratio=cancellation_ratio(\"ArrivalDateMonth\")\n",
    "df = df.merge(ratio, left_on=[\"ArrivalDateMonth\"], right_on=[\"ArrivalDateMonth\"], how='left') \n",
    "df[\"ArrivalDateMonth>avgCancel\"] = df.cancelRatio.apply(lambda x: '1' if x>0.417 else '0')\n",
    "df.drop(columns=[\"IsCanceled=1\",\"IsCanceled=0\",\"cancelRatio\"], inplace=True) \n",
    "\n",
    "\n",
    "#binning by season (peak, winter and spring) \n",
    "#PeakSeason      32365\n",
    "#WinterSeason    24795\n",
    "#SpringSeason    22170\n",
    "df[\"ArrivalDateMonthSeason\"] = df.ArrivalDateMonth.apply(lambda x: 'PeakSeason' if x in [\"June\",\"July\",\"August\",\"September\"] else\n",
    "                                                         ('WinterSeason'if x in [\"October\",\"November\",\"December\",\"January\",\"February\"] else \n",
    "                                                         'SpringSeason'))\n",
    "\n",
    "#BookingChanges binning (dummy)\n",
    "#0    69062\n",
    "#1    10268\n",
    "df[\"BookingChangesBinned\"] = df.BookingChanges.apply(lambda x: '1' if x>=1 else '0')\n",
    "\n",
    "#RequiredCarParkingSpaces binning (dummy)\n",
    "#0    77404\n",
    "#1     1926\n",
    "df[\"RequiredCarParkingSpacesBinned\"] = df.RequiredCarParkingSpaces.apply(lambda x: '1' if x>=1 else '0')\n",
    "\n",
    "#TotalOfSpecialRequests binning (dummy)\n",
    "#0    47957\n",
    "#1    31373\n",
    "df[\"TotalOfSpecialRequestsBinned\"] = df.TotalOfSpecialRequests.apply(lambda x: '1' if x>=1 else '0')\n",
    "\n",
    "#Company binned\n",
    "#0    75641\n",
    "#1     3689\n",
    "df[\"CompanyBinned\"] = df.Company.apply(lambda x: '1' if x!=\"       NULL\" else '0')\n",
    "\n",
    "#Children binning (into hasChildren)\n",
    "#0    74224\n",
    "#1     5106\n",
    "df[\"hasChildren\"] = df.Children.apply(lambda x: '1' if x>=1 else '0')\n",
    "\n",
    "#CustomerType binning (transient+contract and rest)\n",
    "#1    61704\n",
    "#0    17626\n",
    "df[\"transientAndContract\"] = df.CustomerType.apply(lambda x: '1' if x==\"Transient\" or x==\"Contract\" else '0')\n",
    "\n",
    "#DaysInWaitingList\n",
    "#0        75887\n",
    "#31-90     2042\n",
    "#90+        843\n",
    "#1-30       558\n",
    "df[\"DaysInWaitingListBinned\"] = df.DaysInWaitingList.apply(lambda x: '0' if x==0 else \n",
    "                                         ('1-30' if x>=1 and x<31 else \n",
    "                                           ('31-90' if x>=31 and x<91 else '90+')))"
   ]
  },
  {
   "cell_type": "code",
   "execution_count": 112,
   "metadata": {
    "ExecuteTime": {
     "end_time": "2020-04-10T09:17:48.077443Z",
     "start_time": "2020-04-10T09:17:47.207403Z"
    }
   },
   "outputs": [
    {
     "name": "stderr",
     "output_type": "stream",
     "text": [
      "C:\\Users\\Michael\\Anaconda3\\lib\\site-packages\\sklearn\\preprocessing\\_encoders.py:415: FutureWarning:\n",
      "\n",
      "The handling of integer data will change in version 0.22. Currently, the categories are determined based on the range [0, max(values)], while in the future they will be determined based on the unique values.\n",
      "If you want the future behaviour and silence this warning, you can specify \"categories='auto'\".\n",
      "In case you used a LabelEncoder before this OneHotEncoder to convert the categories to integers, then you can now use the OneHotEncoder directly.\n",
      "\n"
     ]
    }
   ],
   "source": [
    "le = preprocessing.LabelEncoder()\n",
    "df['ADR_encoded'] = le.fit_transform(df['ADRBinned'])\n",
    "\n",
    "#define encoder\n",
    "status_ohe = OneHotEncoder()\n",
    "\n",
    "#apply encoder\n",
    "ARD = status_ohe.fit_transform(df.ADR_encoded.values.reshape(-1,1)).toarray()\n",
    "\n",
    "my_data_to_label_OneHot_ARD = pd.DataFrame(ARD, \n",
    "                                       columns= [\"ADR\" +str(i) for i in (le.classes_)])\n",
    "#columns= [\"status\"+str(int(i)) for i in range(Status.shape[1])]\n",
    "df = pd.concat([df, my_data_to_label_OneHot_ARD], axis=1)\n",
    "\n",
    "#Ordinal Encoder to make sure the order it's correct\n",
    "ordinalencoder = OrdinalEncoder()\n",
    "ordinalencoder.fit_transform(df[['ADRBinned']])\n",
    "\n",
    "# Using pandas factorize method for ordinal data\n",
    "categories = pd.Categorical(df['ADRBinned'], categories=['0-19','20-50','51-100','101-150','151-200','200+'], ordered=True)\n",
    "# Order of labels set for data\n",
    "# Factorizing the column data\n",
    "labels, unique = pd.factorize(categories, sort=True)\n",
    "df['ADR_encoded'] = labels\n"
   ]
  },
  {
   "cell_type": "code",
   "execution_count": 102,
   "metadata": {
    "ExecuteTime": {
     "end_time": "2020-04-10T09:14:41.785279Z",
     "start_time": "2020-04-10T09:14:41.400089Z"
    },
    "scrolled": true
   },
   "outputs": [
    {
     "name": "stderr",
     "output_type": "stream",
     "text": [
      "C:\\Users\\Michael\\Anaconda3\\lib\\site-packages\\sklearn\\preprocessing\\_encoders.py:415: FutureWarning:\n",
      "\n",
      "The handling of integer data will change in version 0.22. Currently, the categories are determined based on the range [0, max(values)], while in the future they will be determined based on the unique values.\n",
      "If you want the future behaviour and silence this warning, you can specify \"categories='auto'\".\n",
      "In case you used a LabelEncoder before this OneHotEncoder to convert the categories to integers, then you can now use the OneHotEncoder directly.\n",
      "\n"
     ]
    }
   ],
   "source": [
    "df['nights_encoded'] = le.fit_transform(df['totalNightsBinned'])\n",
    "\n",
    "#apply encoder\n",
    "Nights = status_ohe.fit_transform(df.nights_encoded.values.reshape(-1,1)).toarray()\n",
    "\n",
    "my_data_to_label_OneHot_Ni = pd.DataFrame(Nights, \n",
    "                                       columns= [\"Nights\" +str(i) for i in (le.classes_)])\n",
    "#columns= [\"status\"+str(int(i)) for i in range(Status.shape[1])]\n",
    "df = pd.concat([df, my_data_to_label_OneHot_Ni], axis=1)\n",
    "\n",
    "ordinalencoder.fit_transform(df[['totalNightsBinned']])\n",
    "\n",
    "# Using pandas factorize method for ordinal data\n",
    "categories = pd.Categorical(df['totalNightsBinned'], categories=['1','2-3', '4-7', '8-30','30+'], ordered=True)\n",
    "# Order of labels set for data\n",
    "# Factorizing the column data\n",
    "labels, unique = pd.factorize(categories, sort=True)\n",
    "df['nights_encoded'] = labels\n"
   ]
  },
  {
   "cell_type": "code",
   "execution_count": 103,
   "metadata": {
    "ExecuteTime": {
     "end_time": "2020-04-10T09:14:42.973295Z",
     "start_time": "2020-04-10T09:14:42.620465Z"
    }
   },
   "outputs": [
    {
     "name": "stderr",
     "output_type": "stream",
     "text": [
      "C:\\Users\\Michael\\Anaconda3\\lib\\site-packages\\sklearn\\preprocessing\\_encoders.py:415: FutureWarning:\n",
      "\n",
      "The handling of integer data will change in version 0.22. Currently, the categories are determined based on the range [0, max(values)], while in the future they will be determined based on the unique values.\n",
      "If you want the future behaviour and silence this warning, you can specify \"categories='auto'\".\n",
      "In case you used a LabelEncoder before this OneHotEncoder to convert the categories to integers, then you can now use the OneHotEncoder directly.\n",
      "\n"
     ]
    }
   ],
   "source": [
    "df['leadtime_encoded'] = le.fit_transform(df['LeadTimeBinned'])\n",
    "\n",
    "#apply encoder\n",
    "Lead = status_ohe.fit_transform(df.leadtime_encoded.values.reshape(-1,1)).toarray()\n",
    "\n",
    "my_data_to_label_OneHot_LT = pd.DataFrame(Lead, \n",
    "                                       columns= [\"LeadTime\" +str(i) for i in (le.classes_)])\n",
    "#columns= [\"status\"+str(int(i)) for i in range(Status.shape[1])]\n",
    "df = pd.concat([df, my_data_to_label_OneHot_LT], axis=1)\n",
    "\n",
    "ordinalencoder.fit_transform(df[['LeadTimeBinned']])\n",
    "\n",
    "# Using pandas factorize method for ordinal data\n",
    "categories = pd.Categorical(df['LeadTimeBinned'], categories=['0-7', '8-30', '31-120', '121-365', '366+'], ordered=True)\n",
    "# Order of labels set for data\n",
    "# Factorizing the column data\n",
    "labels, unique = pd.factorize(categories, sort=True)\n",
    "df['leadtime_encoded'] = labels"
   ]
  },
  {
   "cell_type": "code",
   "execution_count": 104,
   "metadata": {
    "ExecuteTime": {
     "end_time": "2020-04-10T09:14:44.024856Z",
     "start_time": "2020-04-10T09:14:43.689064Z"
    }
   },
   "outputs": [
    {
     "name": "stderr",
     "output_type": "stream",
     "text": [
      "C:\\Users\\Michael\\Anaconda3\\lib\\site-packages\\sklearn\\preprocessing\\_encoders.py:415: FutureWarning:\n",
      "\n",
      "The handling of integer data will change in version 0.22. Currently, the categories are determined based on the range [0, max(values)], while in the future they will be determined based on the unique values.\n",
      "If you want the future behaviour and silence this warning, you can specify \"categories='auto'\".\n",
      "In case you used a LabelEncoder before this OneHotEncoder to convert the categories to integers, then you can now use the OneHotEncoder directly.\n",
      "\n"
     ]
    }
   ],
   "source": [
    "df['agent_encoded'] = le.fit_transform(df['AgentBinned'])\n",
    "\n",
    "#apply encoder\n",
    "Agent = status_ohe.fit_transform(df.agent_encoded.values.reshape(-1,1)).toarray()\n",
    "\n",
    "my_data_to_label_OneHot_A = pd.DataFrame(Agent, \n",
    "                                       columns= [\"Agent\" +str(i) for i in (le.classes_)])\n",
    "#columns= [\"status\"+str(int(i)) for i in range(Status.shape[1])]\n",
    "df = pd.concat([df, my_data_to_label_OneHot_A], axis=1)\n",
    "\n",
    "df = df.drop(columns =['agent_encoded'])"
   ]
  },
  {
   "cell_type": "code",
   "execution_count": 105,
   "metadata": {
    "ExecuteTime": {
     "end_time": "2020-04-10T09:14:45.098631Z",
     "start_time": "2020-04-10T09:14:44.849966Z"
    }
   },
   "outputs": [
    {
     "name": "stderr",
     "output_type": "stream",
     "text": [
      "C:\\Users\\Michael\\Anaconda3\\lib\\site-packages\\sklearn\\preprocessing\\_encoders.py:415: FutureWarning:\n",
      "\n",
      "The handling of integer data will change in version 0.22. Currently, the categories are determined based on the range [0, max(values)], while in the future they will be determined based on the unique values.\n",
      "If you want the future behaviour and silence this warning, you can specify \"categories='auto'\".\n",
      "In case you used a LabelEncoder before this OneHotEncoder to convert the categories to integers, then you can now use the OneHotEncoder directly.\n",
      "\n"
     ]
    }
   ],
   "source": [
    "df['market_encoded'] = le.fit_transform(df['MarketSegmentBinned'])\n",
    "\n",
    "#apply encoder\n",
    "Market = status_ohe.fit_transform(df.market_encoded.values.reshape(-1,1)).toarray()\n",
    "\n",
    "my_data_to_label_OneHot_M = pd.DataFrame(Agent, \n",
    "                                       columns= [\"Market\" +str(i) for i in (le.classes_)])\n",
    "#columns= [\"status\"+str(int(i)) for i in range(Status.shape[1])]\n",
    "df = pd.concat([df, my_data_to_label_OneHot_M], axis=1)\n",
    "\n",
    "df = df.drop(columns =['market_encoded'])"
   ]
  },
  {
   "cell_type": "code",
   "execution_count": 106,
   "metadata": {
    "ExecuteTime": {
     "end_time": "2020-04-10T09:14:45.903041Z",
     "start_time": "2020-04-10T09:14:45.645790Z"
    },
    "scrolled": false
   },
   "outputs": [
    {
     "name": "stderr",
     "output_type": "stream",
     "text": [
      "C:\\Users\\Michael\\Anaconda3\\lib\\site-packages\\sklearn\\preprocessing\\_encoders.py:415: FutureWarning:\n",
      "\n",
      "The handling of integer data will change in version 0.22. Currently, the categories are determined based on the range [0, max(values)], while in the future they will be determined based on the unique values.\n",
      "If you want the future behaviour and silence this warning, you can specify \"categories='auto'\".\n",
      "In case you used a LabelEncoder before this OneHotEncoder to convert the categories to integers, then you can now use the OneHotEncoder directly.\n",
      "\n"
     ]
    }
   ],
   "source": [
    "df['season_encoded'] = le.fit_transform(df['ArrivalDateMonthSeason'])\n",
    "\n",
    "#apply encoder\n",
    "Season = status_ohe.fit_transform(df.season_encoded.values.reshape(-1,1)).toarray()\n",
    "\n",
    "my_data_to_label_OneHot_S = pd.DataFrame(Season, \n",
    "                                       columns= [\"Season\" +str(i) for i in (le.classes_)])\n",
    "#columns= [\"status\"+str(int(i)) for i in range(Status.shape[1])]\n",
    "df = pd.concat([df, my_data_to_label_OneHot_S], axis=1)\n",
    "\n",
    "df = df.drop(columns =['season_encoded'])"
   ]
  },
  {
   "cell_type": "code",
   "execution_count": 107,
   "metadata": {
    "ExecuteTime": {
     "end_time": "2020-04-10T09:14:46.778873Z",
     "start_time": "2020-04-10T09:14:46.524984Z"
    }
   },
   "outputs": [
    {
     "name": "stderr",
     "output_type": "stream",
     "text": [
      "C:\\Users\\Michael\\Anaconda3\\lib\\site-packages\\sklearn\\preprocessing\\_encoders.py:415: FutureWarning:\n",
      "\n",
      "The handling of integer data will change in version 0.22. Currently, the categories are determined based on the range [0, max(values)], while in the future they will be determined based on the unique values.\n",
      "If you want the future behaviour and silence this warning, you can specify \"categories='auto'\".\n",
      "In case you used a LabelEncoder before this OneHotEncoder to convert the categories to integers, then you can now use the OneHotEncoder directly.\n",
      "\n"
     ]
    }
   ],
   "source": [
    "df['daysWaiting_encoded'] = le.fit_transform(df['DaysInWaitingListBinned'])\n",
    "\n",
    "#apply encoder\n",
    "Waiting = status_ohe.fit_transform(df.daysWaiting_encoded.values.reshape(-1,1)).toarray()\n",
    "\n",
    "my_data_to_label_OneHot_DW = pd.DataFrame(Waiting, \n",
    "                                       columns= [\"DaysWaiting\" +str(i) for i in (le.classes_)])\n",
    "#columns= [\"status\"+str(int(i)) for i in range(Status.shape[1])]\n",
    "df = pd.concat([df, my_data_to_label_OneHot_DW], axis=1)\n",
    "\n",
    "ordinalencoder.fit_transform(df[['DaysInWaitingListBinned']])\n",
    "\n",
    "# Using pandas factorize method for ordinal data\n",
    "categories = pd.Categorical(df['DaysInWaitingListBinned'], categories=['0', '1-30', '31-90', '90+'], ordered=True)\n",
    "# Order of labels set for data\n",
    "# Factorizing the column data\n",
    "labels, unique = pd.factorize(categories, sort=True)\n",
    "df['daysWaiting_encoded'] = labels"
   ]
  },
  {
   "cell_type": "code",
   "execution_count": 117,
   "metadata": {
    "ExecuteTime": {
     "end_time": "2020-04-10T09:20:42.928355Z",
     "start_time": "2020-04-10T09:20:42.888409Z"
    }
   },
   "outputs": [],
   "source": [
    "# Change dtype of some columns to int \n",
    "df.BookingChangesBinned = df.BookingChangesBinned.astype(int)\n",
    "df.RequiredCarParkingSpacesBinned = df.RequiredCarParkingSpacesBinned.astype(int)\n",
    "df.TotalOfSpecialRequestsBinned = df.TotalOfSpecialRequestsBinned.astype(int)\n",
    "df.CompanyBinned = df.CompanyBinned.astype(int)\n",
    "df.hasChildren = df.hasChildren.astype(int)\n",
    "df.transientAndContract = df.transientAndContract.astype(int)"
   ]
  },
  {
   "cell_type": "code",
   "execution_count": 113,
   "metadata": {
    "ExecuteTime": {
     "end_time": "2020-04-10T09:18:28.186087Z",
     "start_time": "2020-04-10T09:18:28.168355Z"
    }
   },
   "outputs": [],
   "source": [
    "initial_features_bin = ['PreviousCancellations', \n",
    "       'BookingChangesBinned', 'RequiredCarParkingSpacesBinned',\n",
    "       'TotalOfSpecialRequestsBinned', 'CompanyBinned', 'hasChildren',\n",
    "       'transientAndContract', 'daysWaiting_encoded',\n",
    "       'ADR101-150', 'ADR151-200', 'ADR20-50', 'ADR200+', 'ADR51-100',\n",
    "       'Nights1', 'Nights2-3', 'Nights30+', 'Nights4-7', 'Nights8-30',\n",
    "       'LeadTime0-7', 'LeadTime121-365', 'LeadTime31-120', 'LeadTime366+',\n",
    "       'LeadTime8-30',\n",
    "       'AgentAbove50PercCanceled', 'AgentBelow50PercCanceled',\n",
    "       'MarketAbove25PercCanceled', 'MarketBelow25PercCanceled',\n",
    "       'SeasonPeakSeason', 'SeasonSpringSeason', 'SeasonWinterSeason']"
   ]
  },
  {
   "cell_type": "markdown",
   "metadata": {},
   "source": [
    "# Step 4: Modeling"
   ]
  },
  {
   "cell_type": "code",
   "execution_count": 118,
   "metadata": {
    "ExecuteTime": {
     "end_time": "2020-04-10T09:20:46.719241Z",
     "start_time": "2020-04-10T09:20:46.616047Z"
    }
   },
   "outputs": [],
   "source": [
    "# Prepare X and y\n",
    "y = df['IsCanceled']\n",
    "X = df[initial_features_bin]\n",
    "\n",
    "\n",
    "# Split the dataset\n",
    "X_train,X_test,y_train,y_test = train_test_split(X,y,test_size=0.25,random_state=0)"
   ]
  },
  {
   "cell_type": "code",
   "execution_count": 120,
   "metadata": {
    "ExecuteTime": {
     "end_time": "2020-04-10T09:21:02.817584Z",
     "start_time": "2020-04-10T09:21:02.667881Z"
    }
   },
   "outputs": [],
   "source": [
    "# Functions for model selection\n",
    "\n",
    "def run_log_regression(penalty, max_iter):\n",
    "    logistic_regression= LogisticRegression(penalty=penalty,max_iter= max_iter,verbose=10,random_state=1)\n",
    "    logistic_regression.fit(X_train,y_train)\n",
    "    y_pred=logistic_regression.predict(X_test)\n",
    "\n",
    "    print('---------------------- Logistic Regression ----------------------')\n",
    "    print('- Parameter: penalty= ' + penalty + \" , max_iter= \" + str(max_iter))\n",
    "    print('Accuracy: ',metrics.accuracy_score(y_test, y_pred))\n",
    "    print('Precision: ',metrics.precision_score(y_test, y_pred))\n",
    "    print('Recall: ',metrics.recall_score(y_test, y_pred))\n",
    "    print('F1: ',metrics.f1_score(y_test, y_pred))\n",
    "    \n",
    "\n",
    "def run_random_forest(n_estimators, criterion, min_samples_split):\n",
    "    clf=RandomForestClassifier(n_estimators=n_estimators,criterion=criterion, min_samples_split= min_samples_split,verbose=2,random_state=1)\n",
    "    clf.fit(X_train,y_train)\n",
    "    y_pred=clf.predict(X_test)\n",
    "\n",
    "    print('---------------------- Random Forest ----------------------')\n",
    "    print('- Parameter: n_estimators= ' + str(n_estimators) + \" , criterion= \" + str(criterion)+ \" , min_samples_split= \" + str(min_samples_split))\n",
    "    print('Accuracy: ',metrics.accuracy_score(y_test, y_pred))\n",
    "    print('Precision: ',metrics.precision_score(y_test, y_pred))\n",
    "    print('Recall: ',metrics.recall_score(y_test, y_pred))\n",
    "    print('F1: ',metrics.f1_score(y_test, y_pred))#\n",
    "    \n",
    "\n",
    "def run_gradient_boosting(n_estimators, learning_rate, max_leaf_nodes):\n",
    "    clf = GradientBoostingClassifier(n_estimators=n_estimators, learning_rate=learning_rate,max_leaf_nodes=max_leaf_nodes,verbose=2,random_state=1)\n",
    "    clf.fit(X_train, y_train)\n",
    "    y_pred=clf.predict(X_test)\n",
    "\n",
    "    print('---------------------- Gradient Boosting ----------------------')\n",
    "    print('- Parameter: n_estimators= ' + str(n_estimators) + \", learning_rate= \" + str(learning_rate)+ \", max_leaf_nodes= \" + str(max_leaf_nodes))    \n",
    "    print('Accuracy: ',metrics.accuracy_score(y_test, y_pred))\n",
    "    print('Precision: ',metrics.precision_score(y_test, y_pred))\n",
    "    print('Recall: ',metrics.recall_score(y_test, y_pred))\n",
    "    print('F1: ',metrics.f1_score(y_test, y_pred))\n",
    "    \n",
    "    \n",
    "def run_mlp(hidden_layer_sizes, activation, max_iter, alpha):\n",
    "    clf = MLPClassifier(hidden_layer_sizes=hidden_layer_sizes,activation=activation,max_iter=max_iter, alpha=alpha,solver='adam', #for smaller datasets 'lbfgs' may be better\n",
    "                        verbose=True,random_state=1)\n",
    "    clf.fit(X_train, y_train)\n",
    "    y_pred = clf.predict(X_test)\n",
    "\n",
    "    print('---------------------- Multi Layer Perceptron ----------------------')\n",
    "    print('- Parameter: hidden_layer_sizes= ' + str(hidden_layer_sizes) \n",
    "          + \", activation= \" + str(activation)+ \", max_iter= \" + str(max_iter) + \", alpha= \" + str(alpha))    \n",
    "    print('Accuracy: ',metrics.accuracy_score(y_test, y_pred))\n",
    "    print('Precision: ',metrics.precision_score(y_test, y_pred))\n",
    "    print('Recall: ',metrics.recall_score(y_test, y_pred))\n",
    "    print('F1: ',metrics.f1_score(y_test, y_pred))\n",
    "    \n",
    "\n",
    "def run_xgboost(max_depth, n_estimators, learning_rate, reg_lamba):\n",
    "    clf = XGBClassifier(max_depth=max_depth, n_estimators=n_estimators, learning_rate=learning_rate, reg_lambda=reg_lamba,verbosity=1, random_state=1)\n",
    "    clf.fit(X_train, y_train)\n",
    "\n",
    "    y_pred = clf.predict(X_test)\n",
    "\n",
    "    print('---------------------- XGBoost ----------------------')\n",
    "    print('- Parameter: max_depth= ' + str(max_depth) \n",
    "          + \", n_estimators= \" + str(n_estimators)+ \", learning_rate= \" + str(learning_rate) + \", reg_lambda= \" + str(reg_lambda)) \n",
    "    print('Accuracy: ',metrics.accuracy_score(y_test, y_pred))\n",
    "    print('Precision: ',metrics.precision_score(y_test, y_pred))\n",
    "    print('Recall: ',metrics.recall_score(y_test, y_pred))\n",
    "    print('F1: ',metrics.f1_score(y_test, y_pred))"
   ]
  },
  {
   "cell_type": "code",
   "execution_count": 121,
   "metadata": {
    "ExecuteTime": {
     "end_time": "2020-04-10T09:21:21.186630Z",
     "start_time": "2020-04-10T09:21:06.891770Z"
    }
   },
   "outputs": [
    {
     "name": "stderr",
     "output_type": "stream",
     "text": [
      "C:\\Users\\Michael\\Anaconda3\\lib\\site-packages\\sklearn\\linear_model\\logistic.py:432: FutureWarning:\n",
      "\n",
      "Default solver will be changed to 'lbfgs' in 0.22. Specify a solver to silence this warning.\n",
      "\n"
     ]
    },
    {
     "name": "stdout",
     "output_type": "stream",
     "text": [
      "[LibLinear]---------------------- Logistic Regression ----------------------\n",
      "- Parameter: penalty= l1 , max_iter= 100\n",
      "Accuracy:  0.7700355615111065\n",
      "Precision:  0.7460869565217392\n",
      "Recall:  0.6850509765385088\n",
      "F1:  0.7142674180327869\n",
      "[LibLinear]"
     ]
    },
    {
     "name": "stderr",
     "output_type": "stream",
     "text": [
      "C:\\Users\\Michael\\Anaconda3\\lib\\site-packages\\sklearn\\linear_model\\logistic.py:432: FutureWarning:\n",
      "\n",
      "Default solver will be changed to 'lbfgs' in 0.22. Specify a solver to silence this warning.\n",
      "\n"
     ]
    },
    {
     "ename": "KeyboardInterrupt",
     "evalue": "",
     "output_type": "error",
     "traceback": [
      "\u001b[1;31m---------------------------------------------------------------------------\u001b[0m",
      "\u001b[1;31mKeyboardInterrupt\u001b[0m                         Traceback (most recent call last)",
      "\u001b[1;32m<ipython-input-121-a4c4e6009736>\u001b[0m in \u001b[0;36m<module>\u001b[1;34m\u001b[0m\n\u001b[0;32m      6\u001b[0m \u001b[1;33m\u001b[0m\u001b[0m\n\u001b[0;32m      7\u001b[0m \u001b[1;32mfor\u001b[0m \u001b[0mp\u001b[0m\u001b[1;33m,\u001b[0m\u001b[0mmi\u001b[0m \u001b[1;32min\u001b[0m \u001b[0mparams_combinations\u001b[0m\u001b[1;33m:\u001b[0m\u001b[1;33m\u001b[0m\u001b[1;33m\u001b[0m\u001b[0m\n\u001b[1;32m----> 8\u001b[1;33m     \u001b[0mrun_log_regression\u001b[0m\u001b[1;33m(\u001b[0m\u001b[0mp\u001b[0m\u001b[1;33m,\u001b[0m\u001b[0mmi\u001b[0m\u001b[1;33m)\u001b[0m\u001b[1;33m\u001b[0m\u001b[1;33m\u001b[0m\u001b[0m\n\u001b[0m",
      "\u001b[1;32m<ipython-input-120-af044553270f>\u001b[0m in \u001b[0;36mrun_log_regression\u001b[1;34m(penalty, max_iter)\u001b[0m\n\u001b[0;32m      3\u001b[0m \u001b[1;32mdef\u001b[0m \u001b[0mrun_log_regression\u001b[0m\u001b[1;33m(\u001b[0m\u001b[0mpenalty\u001b[0m\u001b[1;33m,\u001b[0m \u001b[0mmax_iter\u001b[0m\u001b[1;33m)\u001b[0m\u001b[1;33m:\u001b[0m\u001b[1;33m\u001b[0m\u001b[1;33m\u001b[0m\u001b[0m\n\u001b[0;32m      4\u001b[0m     \u001b[0mlogistic_regression\u001b[0m\u001b[1;33m=\u001b[0m \u001b[0mLogisticRegression\u001b[0m\u001b[1;33m(\u001b[0m\u001b[0mpenalty\u001b[0m\u001b[1;33m=\u001b[0m\u001b[0mpenalty\u001b[0m\u001b[1;33m,\u001b[0m\u001b[0mmax_iter\u001b[0m\u001b[1;33m=\u001b[0m \u001b[0mmax_iter\u001b[0m\u001b[1;33m,\u001b[0m\u001b[0mverbose\u001b[0m\u001b[1;33m=\u001b[0m\u001b[1;36m10\u001b[0m\u001b[1;33m,\u001b[0m\u001b[0mrandom_state\u001b[0m\u001b[1;33m=\u001b[0m\u001b[1;36m1\u001b[0m\u001b[1;33m)\u001b[0m\u001b[1;33m\u001b[0m\u001b[1;33m\u001b[0m\u001b[0m\n\u001b[1;32m----> 5\u001b[1;33m     \u001b[0mlogistic_regression\u001b[0m\u001b[1;33m.\u001b[0m\u001b[0mfit\u001b[0m\u001b[1;33m(\u001b[0m\u001b[0mX_train\u001b[0m\u001b[1;33m,\u001b[0m\u001b[0my_train\u001b[0m\u001b[1;33m)\u001b[0m\u001b[1;33m\u001b[0m\u001b[1;33m\u001b[0m\u001b[0m\n\u001b[0m\u001b[0;32m      6\u001b[0m     \u001b[0my_pred\u001b[0m\u001b[1;33m=\u001b[0m\u001b[0mlogistic_regression\u001b[0m\u001b[1;33m.\u001b[0m\u001b[0mpredict\u001b[0m\u001b[1;33m(\u001b[0m\u001b[0mX_test\u001b[0m\u001b[1;33m)\u001b[0m\u001b[1;33m\u001b[0m\u001b[1;33m\u001b[0m\u001b[0m\n\u001b[0;32m      7\u001b[0m \u001b[1;33m\u001b[0m\u001b[0m\n",
      "\u001b[1;32m~\\Anaconda3\\lib\\site-packages\\sklearn\\linear_model\\logistic.py\u001b[0m in \u001b[0;36mfit\u001b[1;34m(self, X, y, sample_weight)\u001b[0m\n\u001b[0;32m   1547\u001b[0m                 \u001b[0mself\u001b[0m\u001b[1;33m.\u001b[0m\u001b[0mclass_weight\u001b[0m\u001b[1;33m,\u001b[0m \u001b[0mself\u001b[0m\u001b[1;33m.\u001b[0m\u001b[0mpenalty\u001b[0m\u001b[1;33m,\u001b[0m \u001b[0mself\u001b[0m\u001b[1;33m.\u001b[0m\u001b[0mdual\u001b[0m\u001b[1;33m,\u001b[0m \u001b[0mself\u001b[0m\u001b[1;33m.\u001b[0m\u001b[0mverbose\u001b[0m\u001b[1;33m,\u001b[0m\u001b[1;33m\u001b[0m\u001b[1;33m\u001b[0m\u001b[0m\n\u001b[0;32m   1548\u001b[0m                 \u001b[0mself\u001b[0m\u001b[1;33m.\u001b[0m\u001b[0mmax_iter\u001b[0m\u001b[1;33m,\u001b[0m \u001b[0mself\u001b[0m\u001b[1;33m.\u001b[0m\u001b[0mtol\u001b[0m\u001b[1;33m,\u001b[0m \u001b[0mself\u001b[0m\u001b[1;33m.\u001b[0m\u001b[0mrandom_state\u001b[0m\u001b[1;33m,\u001b[0m\u001b[1;33m\u001b[0m\u001b[1;33m\u001b[0m\u001b[0m\n\u001b[1;32m-> 1549\u001b[1;33m                 sample_weight=sample_weight)\n\u001b[0m\u001b[0;32m   1550\u001b[0m             \u001b[0mself\u001b[0m\u001b[1;33m.\u001b[0m\u001b[0mn_iter_\u001b[0m \u001b[1;33m=\u001b[0m \u001b[0mnp\u001b[0m\u001b[1;33m.\u001b[0m\u001b[0marray\u001b[0m\u001b[1;33m(\u001b[0m\u001b[1;33m[\u001b[0m\u001b[0mn_iter_\u001b[0m\u001b[1;33m]\u001b[0m\u001b[1;33m)\u001b[0m\u001b[1;33m\u001b[0m\u001b[1;33m\u001b[0m\u001b[0m\n\u001b[0;32m   1551\u001b[0m             \u001b[1;32mreturn\u001b[0m \u001b[0mself\u001b[0m\u001b[1;33m\u001b[0m\u001b[1;33m\u001b[0m\u001b[0m\n",
      "\u001b[1;32m~\\Anaconda3\\lib\\site-packages\\sklearn\\svm\\base.py\u001b[0m in \u001b[0;36m_fit_liblinear\u001b[1;34m(X, y, C, fit_intercept, intercept_scaling, class_weight, penalty, dual, verbose, max_iter, tol, random_state, multi_class, loss, epsilon, sample_weight)\u001b[0m\n\u001b[0;32m    919\u001b[0m         \u001b[0mX\u001b[0m\u001b[1;33m,\u001b[0m \u001b[0my_ind\u001b[0m\u001b[1;33m,\u001b[0m \u001b[0msp\u001b[0m\u001b[1;33m.\u001b[0m\u001b[0misspmatrix\u001b[0m\u001b[1;33m(\u001b[0m\u001b[0mX\u001b[0m\u001b[1;33m)\u001b[0m\u001b[1;33m,\u001b[0m \u001b[0msolver_type\u001b[0m\u001b[1;33m,\u001b[0m \u001b[0mtol\u001b[0m\u001b[1;33m,\u001b[0m \u001b[0mbias\u001b[0m\u001b[1;33m,\u001b[0m \u001b[0mC\u001b[0m\u001b[1;33m,\u001b[0m\u001b[1;33m\u001b[0m\u001b[1;33m\u001b[0m\u001b[0m\n\u001b[0;32m    920\u001b[0m         \u001b[0mclass_weight_\u001b[0m\u001b[1;33m,\u001b[0m \u001b[0mmax_iter\u001b[0m\u001b[1;33m,\u001b[0m \u001b[0mrnd\u001b[0m\u001b[1;33m.\u001b[0m\u001b[0mrandint\u001b[0m\u001b[1;33m(\u001b[0m\u001b[0mnp\u001b[0m\u001b[1;33m.\u001b[0m\u001b[0miinfo\u001b[0m\u001b[1;33m(\u001b[0m\u001b[1;34m'i'\u001b[0m\u001b[1;33m)\u001b[0m\u001b[1;33m.\u001b[0m\u001b[0mmax\u001b[0m\u001b[1;33m)\u001b[0m\u001b[1;33m,\u001b[0m\u001b[1;33m\u001b[0m\u001b[1;33m\u001b[0m\u001b[0m\n\u001b[1;32m--> 921\u001b[1;33m         epsilon, sample_weight)\n\u001b[0m\u001b[0;32m    922\u001b[0m     \u001b[1;31m# Regarding rnd.randint(..) in the above signature:\u001b[0m\u001b[1;33m\u001b[0m\u001b[1;33m\u001b[0m\u001b[1;33m\u001b[0m\u001b[0m\n\u001b[0;32m    923\u001b[0m     \u001b[1;31m# seed for srand in range [0..INT_MAX); due to limitations in Numpy\u001b[0m\u001b[1;33m\u001b[0m\u001b[1;33m\u001b[0m\u001b[1;33m\u001b[0m\u001b[0m\n",
      "\u001b[1;31mKeyboardInterrupt\u001b[0m: "
     ]
    }
   ],
   "source": [
    "# Logistic Regression\n",
    "penalties = [\"l1\", \"l2\", \"none\"]\n",
    "max_iters = [100,150,200]\n",
    "\n",
    "params_combinations = list(itertools.product(penalties, max_iters))\n",
    "\n",
    "for p,mi in params_combinations: \n",
    "    run_log_regression(p,mi)"
   ]
  },
  {
   "cell_type": "code",
   "execution_count": null,
   "metadata": {
    "ExecuteTime": {
     "end_time": "2020-04-10T09:12:58.804559Z",
     "start_time": "2020-04-10T09:12:55.328Z"
    }
   },
   "outputs": [],
   "source": [
    "# Random Forest\n",
    "n_trees = [50, 100, 200, 400]\n",
    "criterion = [\"gini\", \"entropy\"]\n",
    "mss = [2, 5, 10, 15]\n",
    "\n",
    "params_combinations = list(itertools.product(n_trees, criterion, mss))\n",
    "\n",
    "for n,c,m in params_combinations: \n",
    "    run_random_forest(n,c,m)"
   ]
  },
  {
   "cell_type": "code",
   "execution_count": null,
   "metadata": {
    "ExecuteTime": {
     "end_time": "2020-04-10T09:12:58.809574Z",
     "start_time": "2020-04-10T09:12:55.346Z"
    }
   },
   "outputs": [],
   "source": [
    "# Gradient Boosting \n",
    "n_trees = [20, 50, 100, 200, 300]\n",
    "lrs = [0.05, 0.1, 0.2, 0.3]\n",
    "mln = [8, 16, 24, 32]\n",
    "\n",
    "params_combinations = list(itertools.product(n_trees, lrs, mln))\n",
    "\n",
    "for n,l,m in params_combinations: \n",
    "    run_gradient_boosting(n,l,m)"
   ]
  },
  {
   "cell_type": "code",
   "execution_count": null,
   "metadata": {
    "ExecuteTime": {
     "end_time": "2020-04-10T09:12:58.813568Z",
     "start_time": "2020-04-10T09:12:55.368Z"
    }
   },
   "outputs": [],
   "source": [
    "# Neural Network - Multi Layer Perceptron\n",
    "afs = [\"logistic\", \"relu\", \"tanh\"]\n",
    "alphas = [0.0001, 0.0002,0.0005, 0.001]\n",
    "max_iters = [150, 200, 300, 500]\n",
    "number_nodes = round((2/3)*len(X_train.columns.values)) + 2\n",
    "hls = [(number_nodes,number_nodes),(number_nodes,number_nodes,number_nodes),(number_nodes,number_nodes-1,number_nodes-2)]\n",
    "\n",
    "params_combinations = list(itertools.product(afs, alphas, max_iters, hls))\n",
    "\n",
    "for af,a,mi,nn,h in params_combinations: \n",
    "    run_mlp(h,af,mi,a)"
   ]
  },
  {
   "cell_type": "code",
   "execution_count": null,
   "metadata": {
    "ExecuteTime": {
     "end_time": "2020-04-10T09:12:58.821557Z",
     "start_time": "2020-04-10T09:12:55.386Z"
    }
   },
   "outputs": [],
   "source": [
    "# XGBoost\n",
    "max_depths = [3,5,10]\n",
    "n_trees = [20, 50, 100, 200]\n",
    "lrs = [0.05, 0.1, 0.3, 0.5]\n",
    "lambdas = [0,1,2]\n",
    "\n",
    "params_combinations = list(itertools.product(max_depths, n_trees, lrs, lambdas))\n",
    "\n",
    "for md,nt,lr,l in params_combinations: \n",
    "    run_xgboost(md,nt,lr,l)"
   ]
  },
  {
   "cell_type": "markdown",
   "metadata": {},
   "source": [
    "# Step 5: Evaluation\n"
   ]
  }
 ],
 "metadata": {
  "kernelspec": {
   "display_name": "Python 3",
   "language": "python",
   "name": "python3"
  },
  "language_info": {
   "codemirror_mode": {
    "name": "ipython",
    "version": 3
   },
   "file_extension": ".py",
   "mimetype": "text/x-python",
   "name": "python",
   "nbconvert_exporter": "python",
   "pygments_lexer": "ipython3",
   "version": "3.7.4"
  },
  "toc": {
   "base_numbering": 1,
   "nav_menu": {},
   "number_sections": true,
   "sideBar": true,
   "skip_h1_title": false,
   "title_cell": "Table of Contents",
   "title_sidebar": "Contents",
   "toc_cell": false,
   "toc_position": {},
   "toc_section_display": true,
   "toc_window_display": false
  },
  "varInspector": {
   "cols": {
    "lenName": 16,
    "lenType": 16,
    "lenVar": 40
   },
   "kernels_config": {
    "python": {
     "delete_cmd_postfix": "",
     "delete_cmd_prefix": "del ",
     "library": "var_list.py",
     "varRefreshCmd": "print(var_dic_list())"
    },
    "r": {
     "delete_cmd_postfix": ") ",
     "delete_cmd_prefix": "rm(",
     "library": "var_list.r",
     "varRefreshCmd": "cat(var_dic_list()) "
    }
   },
   "types_to_exclude": [
    "module",
    "function",
    "builtin_function_or_method",
    "instance",
    "_Feature"
   ],
   "window_display": false
  }
 },
 "nbformat": 4,
 "nbformat_minor": 2
}
