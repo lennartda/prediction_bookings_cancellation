{
 "cells": [
  {
   "cell_type": "code",
   "execution_count": 1,
   "metadata": {},
   "outputs": [
    {
     "name": "stdout",
     "output_type": "stream",
     "text": [
      "Collecting xgboost\n",
      "  Using cached https://files.pythonhosted.org/packages/36/a5/703d93321f57048596217789be7c186304a33aff5b1c48c89597a546c65e/xgboost-1.0.2.tar.gz\n",
      "\u001b[31m    ERROR: Complete output from command python setup.py egg_info:\u001b[0m\n",
      "\u001b[31m    ERROR: ++ pwd\n",
      "    + oldpath=/private/var/folders/lf/vlxh2x1n65v6z30rbmr4yx8c0000gn/T/pip-install-du19uauo/xgboost\n",
      "    + cd ./xgboost/\n",
      "    + mkdir -p build\n",
      "    + cd build\n",
      "    + cmake ..\n",
      "    ./xgboost/build-python.sh: line 21: cmake: command not found\n",
      "    + echo -----------------------------\n",
      "    -----------------------------\n",
      "    + echo 'Building multi-thread xgboost failed'\n",
      "    Building multi-thread xgboost failed\n",
      "    + echo 'Start to build single-thread xgboost'\n",
      "    Start to build single-thread xgboost\n",
      "    + cmake .. -DUSE_OPENMP=0\n",
      "    ./xgboost/build-python.sh: line 27: cmake: command not found\n",
      "    Traceback (most recent call last):\n",
      "      File \"<string>\", line 1, in <module>\n",
      "      File \"/private/var/folders/lf/vlxh2x1n65v6z30rbmr4yx8c0000gn/T/pip-install-du19uauo/xgboost/setup.py\", line 42, in <module>\n",
      "        LIB_PATH = libpath['find_lib_path']()\n",
      "      File \"/private/var/folders/lf/vlxh2x1n65v6z30rbmr4yx8c0000gn/T/pip-install-du19uauo/xgboost/xgboost/libpath.py\", line 50, in find_lib_path\n",
      "        'List of candidates:\\n' + ('\\n'.join(dll_path)))\n",
      "    XGBoostLibraryNotFound: Cannot find XGBoost Library in the candidate path, did you install compilers and run build.sh in root path?\n",
      "    List of candidates:\n",
      "    /private/var/folders/lf/vlxh2x1n65v6z30rbmr4yx8c0000gn/T/pip-install-du19uauo/xgboost/xgboost/libxgboost.dylib\n",
      "    /private/var/folders/lf/vlxh2x1n65v6z30rbmr4yx8c0000gn/T/pip-install-du19uauo/xgboost/xgboost/../../lib/libxgboost.dylib\n",
      "    /private/var/folders/lf/vlxh2x1n65v6z30rbmr4yx8c0000gn/T/pip-install-du19uauo/xgboost/xgboost/./lib/libxgboost.dylib\n",
      "    /Users/anaalferes/anaconda3/xgboost/libxgboost.dylib\n",
      "    ----------------------------------------\u001b[0m\n",
      "\u001b[31mERROR: Command \"python setup.py egg_info\" failed with error code 1 in /private/var/folders/lf/vlxh2x1n65v6z30rbmr4yx8c0000gn/T/pip-install-du19uauo/xgboost/\u001b[0m\n",
      "Note: you may need to restart the kernel to use updated packages.\n"
     ]
    }
   ],
   "source": [
    "pip install xgboost"
   ]
  },
  {
   "cell_type": "code",
   "execution_count": null,
   "metadata": {},
   "outputs": [],
   "source": []
  }
 ],
 "metadata": {
  "kernelspec": {
   "display_name": "Python 3",
   "language": "python",
   "name": "python3"
  },
  "language_info": {
   "codemirror_mode": {
    "name": "ipython",
    "version": 3
   },
   "file_extension": ".py",
   "mimetype": "text/x-python",
   "name": "python",
   "nbconvert_exporter": "python",
   "pygments_lexer": "ipython3",
   "version": "3.7.3"
  }
 },
 "nbformat": 4,
 "nbformat_minor": 2
}
